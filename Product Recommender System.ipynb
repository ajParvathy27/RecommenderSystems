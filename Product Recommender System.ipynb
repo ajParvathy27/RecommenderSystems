{
  "cells": [
    {
      "cell_type": "markdown",
      "source": [
        "# **Recommender Systems**\n",
        "# **Team 4 - Product Recommendation System**\n",
        "## Vishal B - 19MIA1012\n",
        "## Tharani K - 19MIA1033\n",
        "## Parvathy AJ - 19MIA1048"
      ],
      "metadata": {
        "id": "dKbz81QzhdHh"
      },
      "id": "dKbz81QzhdHh"
    },
    {
      "cell_type": "markdown",
      "id": "6c2da4d4",
      "metadata": {
        "papermill": {
          "duration": 0.053119,
          "end_time": "2021-11-30T00:09:40.634963",
          "exception": false,
          "start_time": "2021-11-30T00:09:40.581844",
          "status": "completed"
        },
        "tags": [],
        "id": "6c2da4d4"
      },
      "source": [
        "### **Import Libraries**"
      ]
    },
    {
      "cell_type": "code",
      "source": [
        "pip install surprise"
      ],
      "metadata": {
        "colab": {
          "base_uri": "https://localhost:8080/"
        },
        "id": "qDR6SRje27mX",
        "outputId": "51a0154d-5692-4047-aab7-e1d31930efa3"
      },
      "id": "qDR6SRje27mX",
      "execution_count": 1,
      "outputs": [
        {
          "output_type": "stream",
          "name": "stdout",
          "text": [
            "Looking in indexes: https://pypi.org/simple, https://us-python.pkg.dev/colab-wheels/public/simple/\n",
            "Requirement already satisfied: surprise in /usr/local/lib/python3.7/dist-packages (0.1)\n",
            "Requirement already satisfied: scikit-surprise in /usr/local/lib/python3.7/dist-packages (from surprise) (1.1.1)\n",
            "Requirement already satisfied: joblib>=0.11 in /usr/local/lib/python3.7/dist-packages (from scikit-surprise->surprise) (1.2.0)\n",
            "Requirement already satisfied: six>=1.10.0 in /usr/local/lib/python3.7/dist-packages (from scikit-surprise->surprise) (1.15.0)\n",
            "Requirement already satisfied: numpy>=1.11.2 in /usr/local/lib/python3.7/dist-packages (from scikit-surprise->surprise) (1.21.6)\n",
            "Requirement already satisfied: scipy>=1.0.0 in /usr/local/lib/python3.7/dist-packages (from scikit-surprise->surprise) (1.7.3)\n"
          ]
        }
      ]
    },
    {
      "cell_type": "code",
      "execution_count": 2,
      "id": "2497402f",
      "metadata": {
        "execution": {
          "iopub.execute_input": "2021-11-30T00:09:40.744788Z",
          "iopub.status.busy": "2021-11-30T00:09:40.743427Z",
          "iopub.status.idle": "2021-11-30T00:09:41.962655Z",
          "shell.execute_reply": "2021-11-30T00:09:41.961904Z",
          "shell.execute_reply.started": "2021-11-29T06:57:56.009748Z"
        },
        "papermill": {
          "duration": 1.275767,
          "end_time": "2021-11-30T00:09:41.962876",
          "exception": false,
          "start_time": "2021-11-30T00:09:40.687109",
          "status": "completed"
        },
        "tags": [],
        "id": "2497402f"
      },
      "outputs": [],
      "source": [
        "import numpy as np\n",
        "import pandas as pd\n",
        "\n",
        "import matplotlib.pyplot as plt\n",
        "import seaborn as sns\n",
        "sns.set_style('white')\n",
        "%matplotlib inline\n",
        "\n",
        "# Split\n",
        "from sklearn.model_selection import train_test_split\n",
        "\n",
        "from surprise import Reader, Dataset, SVD\n",
        "from surprise.model_selection import cross_validate\n"
      ]
    },
    {
      "cell_type": "markdown",
      "id": "bfd0d0e4",
      "metadata": {
        "papermill": {
          "duration": 0.052301,
          "end_time": "2021-11-30T00:09:42.069639",
          "exception": false,
          "start_time": "2021-11-30T00:09:42.017338",
          "status": "completed"
        },
        "tags": [],
        "id": "bfd0d0e4"
      },
      "source": [
        "### **Load Dataset**"
      ]
    },
    {
      "cell_type": "code",
      "execution_count": 3,
      "id": "0aa6d0f2",
      "metadata": {
        "execution": {
          "iopub.execute_input": "2021-11-30T00:09:42.179686Z",
          "iopub.status.busy": "2021-11-30T00:09:42.178980Z",
          "iopub.status.idle": "2021-11-30T00:09:53.764481Z",
          "shell.execute_reply": "2021-11-30T00:09:53.763460Z",
          "shell.execute_reply.started": "2021-11-29T06:42:47.541376Z"
        },
        "papermill": {
          "duration": 11.641733,
          "end_time": "2021-11-30T00:09:53.764756",
          "exception": false,
          "start_time": "2021-11-30T00:09:42.123023",
          "status": "completed"
        },
        "tags": [],
        "id": "0aa6d0f2"
      },
      "outputs": [],
      "source": [
        "df1=pd.read_csv(\"/content/ratings_Electronics.csv\",names=['userId', 'productId','rating','timestamp'])"
      ]
    },
    {
      "cell_type": "markdown",
      "id": "0709d86a",
      "metadata": {
        "papermill": {
          "duration": 0.053786,
          "end_time": "2021-11-30T00:09:53.871402",
          "exception": false,
          "start_time": "2021-11-30T00:09:53.817616",
          "status": "completed"
        },
        "tags": [],
        "id": "0709d86a"
      },
      "source": [
        "### **Data Analysis**"
      ]
    },
    {
      "cell_type": "code",
      "execution_count": 4,
      "id": "dfbb383e",
      "metadata": {
        "execution": {
          "iopub.execute_input": "2021-11-30T00:09:53.981749Z",
          "iopub.status.busy": "2021-11-30T00:09:53.981048Z",
          "iopub.status.idle": "2021-11-30T00:09:54.003153Z",
          "shell.execute_reply": "2021-11-30T00:09:54.003737Z",
          "shell.execute_reply.started": "2021-11-29T06:42:58.18167Z"
        },
        "papermill": {
          "duration": 0.078853,
          "end_time": "2021-11-30T00:09:54.003948",
          "exception": false,
          "start_time": "2021-11-30T00:09:53.925095",
          "status": "completed"
        },
        "tags": [],
        "id": "dfbb383e",
        "outputId": "6d784daf-87b4-488c-e1ae-0fd795c1345c",
        "colab": {
          "base_uri": "https://localhost:8080/",
          "height": 206
        }
      },
      "outputs": [
        {
          "output_type": "execute_result",
          "data": {
            "text/plain": [
              "           userId   productId  rating   timestamp\n",
              "0   AKM1MP6P0OYPR  0132793040     5.0  1365811200\n",
              "1  A2CX7LUOHB2NDG  0321732944     5.0  1341100800\n",
              "2  A2NWSAGRHCP8N5  0439886341     1.0  1367193600\n",
              "3  A2WNBOD3WNDNKT  0439886341     3.0  1374451200\n",
              "4  A1GI0U4ZRJA8WN  0439886341     1.0  1334707200"
            ],
            "text/html": [
              "\n",
              "  <div id=\"df-e5c5fb52-9f05-4e5f-a796-d70b6ca664e4\">\n",
              "    <div class=\"colab-df-container\">\n",
              "      <div>\n",
              "<style scoped>\n",
              "    .dataframe tbody tr th:only-of-type {\n",
              "        vertical-align: middle;\n",
              "    }\n",
              "\n",
              "    .dataframe tbody tr th {\n",
              "        vertical-align: top;\n",
              "    }\n",
              "\n",
              "    .dataframe thead th {\n",
              "        text-align: right;\n",
              "    }\n",
              "</style>\n",
              "<table border=\"1\" class=\"dataframe\">\n",
              "  <thead>\n",
              "    <tr style=\"text-align: right;\">\n",
              "      <th></th>\n",
              "      <th>userId</th>\n",
              "      <th>productId</th>\n",
              "      <th>rating</th>\n",
              "      <th>timestamp</th>\n",
              "    </tr>\n",
              "  </thead>\n",
              "  <tbody>\n",
              "    <tr>\n",
              "      <th>0</th>\n",
              "      <td>AKM1MP6P0OYPR</td>\n",
              "      <td>0132793040</td>\n",
              "      <td>5.0</td>\n",
              "      <td>1365811200</td>\n",
              "    </tr>\n",
              "    <tr>\n",
              "      <th>1</th>\n",
              "      <td>A2CX7LUOHB2NDG</td>\n",
              "      <td>0321732944</td>\n",
              "      <td>5.0</td>\n",
              "      <td>1341100800</td>\n",
              "    </tr>\n",
              "    <tr>\n",
              "      <th>2</th>\n",
              "      <td>A2NWSAGRHCP8N5</td>\n",
              "      <td>0439886341</td>\n",
              "      <td>1.0</td>\n",
              "      <td>1367193600</td>\n",
              "    </tr>\n",
              "    <tr>\n",
              "      <th>3</th>\n",
              "      <td>A2WNBOD3WNDNKT</td>\n",
              "      <td>0439886341</td>\n",
              "      <td>3.0</td>\n",
              "      <td>1374451200</td>\n",
              "    </tr>\n",
              "    <tr>\n",
              "      <th>4</th>\n",
              "      <td>A1GI0U4ZRJA8WN</td>\n",
              "      <td>0439886341</td>\n",
              "      <td>1.0</td>\n",
              "      <td>1334707200</td>\n",
              "    </tr>\n",
              "  </tbody>\n",
              "</table>\n",
              "</div>\n",
              "      <button class=\"colab-df-convert\" onclick=\"convertToInteractive('df-e5c5fb52-9f05-4e5f-a796-d70b6ca664e4')\"\n",
              "              title=\"Convert this dataframe to an interactive table.\"\n",
              "              style=\"display:none;\">\n",
              "        \n",
              "  <svg xmlns=\"http://www.w3.org/2000/svg\" height=\"24px\"viewBox=\"0 0 24 24\"\n",
              "       width=\"24px\">\n",
              "    <path d=\"M0 0h24v24H0V0z\" fill=\"none\"/>\n",
              "    <path d=\"M18.56 5.44l.94 2.06.94-2.06 2.06-.94-2.06-.94-.94-2.06-.94 2.06-2.06.94zm-11 1L8.5 8.5l.94-2.06 2.06-.94-2.06-.94L8.5 2.5l-.94 2.06-2.06.94zm10 10l.94 2.06.94-2.06 2.06-.94-2.06-.94-.94-2.06-.94 2.06-2.06.94z\"/><path d=\"M17.41 7.96l-1.37-1.37c-.4-.4-.92-.59-1.43-.59-.52 0-1.04.2-1.43.59L10.3 9.45l-7.72 7.72c-.78.78-.78 2.05 0 2.83L4 21.41c.39.39.9.59 1.41.59.51 0 1.02-.2 1.41-.59l7.78-7.78 2.81-2.81c.8-.78.8-2.07 0-2.86zM5.41 20L4 18.59l7.72-7.72 1.47 1.35L5.41 20z\"/>\n",
              "  </svg>\n",
              "      </button>\n",
              "      \n",
              "  <style>\n",
              "    .colab-df-container {\n",
              "      display:flex;\n",
              "      flex-wrap:wrap;\n",
              "      gap: 12px;\n",
              "    }\n",
              "\n",
              "    .colab-df-convert {\n",
              "      background-color: #E8F0FE;\n",
              "      border: none;\n",
              "      border-radius: 50%;\n",
              "      cursor: pointer;\n",
              "      display: none;\n",
              "      fill: #1967D2;\n",
              "      height: 32px;\n",
              "      padding: 0 0 0 0;\n",
              "      width: 32px;\n",
              "    }\n",
              "\n",
              "    .colab-df-convert:hover {\n",
              "      background-color: #E2EBFA;\n",
              "      box-shadow: 0px 1px 2px rgba(60, 64, 67, 0.3), 0px 1px 3px 1px rgba(60, 64, 67, 0.15);\n",
              "      fill: #174EA6;\n",
              "    }\n",
              "\n",
              "    [theme=dark] .colab-df-convert {\n",
              "      background-color: #3B4455;\n",
              "      fill: #D2E3FC;\n",
              "    }\n",
              "\n",
              "    [theme=dark] .colab-df-convert:hover {\n",
              "      background-color: #434B5C;\n",
              "      box-shadow: 0px 1px 3px 1px rgba(0, 0, 0, 0.15);\n",
              "      filter: drop-shadow(0px 1px 2px rgba(0, 0, 0, 0.3));\n",
              "      fill: #FFFFFF;\n",
              "    }\n",
              "  </style>\n",
              "\n",
              "      <script>\n",
              "        const buttonEl =\n",
              "          document.querySelector('#df-e5c5fb52-9f05-4e5f-a796-d70b6ca664e4 button.colab-df-convert');\n",
              "        buttonEl.style.display =\n",
              "          google.colab.kernel.accessAllowed ? 'block' : 'none';\n",
              "\n",
              "        async function convertToInteractive(key) {\n",
              "          const element = document.querySelector('#df-e5c5fb52-9f05-4e5f-a796-d70b6ca664e4');\n",
              "          const dataTable =\n",
              "            await google.colab.kernel.invokeFunction('convertToInteractive',\n",
              "                                                     [key], {});\n",
              "          if (!dataTable) return;\n",
              "\n",
              "          const docLinkHtml = 'Like what you see? Visit the ' +\n",
              "            '<a target=\"_blank\" href=https://colab.research.google.com/notebooks/data_table.ipynb>data table notebook</a>'\n",
              "            + ' to learn more about interactive tables.';\n",
              "          element.innerHTML = '';\n",
              "          dataTable['output_type'] = 'display_data';\n",
              "          await google.colab.output.renderOutput(dataTable, element);\n",
              "          const docLink = document.createElement('div');\n",
              "          docLink.innerHTML = docLinkHtml;\n",
              "          element.appendChild(docLink);\n",
              "        }\n",
              "      </script>\n",
              "    </div>\n",
              "  </div>\n",
              "  "
            ]
          },
          "metadata": {},
          "execution_count": 4
        }
      ],
      "source": [
        "df1.head()"
      ]
    },
    {
      "cell_type": "code",
      "execution_count": 5,
      "id": "1866d88b",
      "metadata": {
        "execution": {
          "iopub.execute_input": "2021-11-30T00:09:54.117008Z",
          "iopub.status.busy": "2021-11-30T00:09:54.116225Z",
          "iopub.status.idle": "2021-11-30T00:09:54.121823Z",
          "shell.execute_reply": "2021-11-30T00:09:54.120835Z",
          "shell.execute_reply.started": "2021-11-29T06:42:58.205424Z"
        },
        "papermill": {
          "duration": 0.065097,
          "end_time": "2021-11-30T00:09:54.122078",
          "exception": false,
          "start_time": "2021-11-30T00:09:54.056981",
          "status": "completed"
        },
        "tags": [],
        "id": "1866d88b",
        "outputId": "420bba2f-cce8-4cc6-b765-bb44d8f42724",
        "colab": {
          "base_uri": "https://localhost:8080/"
        }
      },
      "outputs": [
        {
          "output_type": "stream",
          "name": "stdout",
          "text": [
            "Total Reviews: 7824482\n",
            "Total Columns: 4\n"
          ]
        }
      ],
      "source": [
        "print(\"Total Reviews:\",df1.shape[0])\n",
        "print(\"Total Columns:\",df1.shape[1])"
      ]
    },
    {
      "cell_type": "code",
      "execution_count": 6,
      "id": "6bb87481",
      "metadata": {
        "execution": {
          "iopub.execute_input": "2021-11-30T00:09:54.244551Z",
          "iopub.status.busy": "2021-11-30T00:09:54.243806Z",
          "iopub.status.idle": "2021-11-30T00:09:54.245350Z",
          "shell.execute_reply": "2021-11-30T00:09:54.245977Z",
          "shell.execute_reply.started": "2021-11-29T06:42:58.216659Z"
        },
        "papermill": {
          "duration": 0.067626,
          "end_time": "2021-11-30T00:09:54.246195",
          "exception": false,
          "start_time": "2021-11-30T00:09:54.178569",
          "status": "completed"
        },
        "tags": [],
        "id": "6bb87481"
      },
      "outputs": [],
      "source": [
        "# Taking subset of the dataset\n",
        "df = df1.iloc[:5000,0:]"
      ]
    },
    {
      "cell_type": "code",
      "execution_count": 7,
      "id": "1dd21918",
      "metadata": {
        "execution": {
          "iopub.execute_input": "2021-11-30T00:09:54.357576Z",
          "iopub.status.busy": "2021-11-30T00:09:54.356848Z",
          "iopub.status.idle": "2021-11-30T00:09:54.363341Z",
          "shell.execute_reply": "2021-11-30T00:09:54.362568Z",
          "shell.execute_reply.started": "2021-11-29T06:42:58.231948Z"
        },
        "papermill": {
          "duration": 0.062861,
          "end_time": "2021-11-30T00:09:54.363516",
          "exception": false,
          "start_time": "2021-11-30T00:09:54.300655",
          "status": "completed"
        },
        "tags": [],
        "id": "1dd21918",
        "outputId": "e030d422-e3ca-4ab9-b0a8-c7ecbe041668",
        "colab": {
          "base_uri": "https://localhost:8080/"
        }
      },
      "outputs": [
        {
          "output_type": "stream",
          "name": "stdout",
          "text": [
            "Total Reviews: 5000\n",
            "Total Columns: 4\n"
          ]
        }
      ],
      "source": [
        "print(\"Total Reviews:\",df.shape[0])\n",
        "print(\"Total Columns:\",df.shape[1])"
      ]
    },
    {
      "cell_type": "code",
      "execution_count": 8,
      "id": "de4c06e1",
      "metadata": {
        "execution": {
          "iopub.execute_input": "2021-11-30T00:09:54.488691Z",
          "iopub.status.busy": "2021-11-30T00:09:54.487928Z",
          "iopub.status.idle": "2021-11-30T00:09:54.494390Z",
          "shell.execute_reply": "2021-11-30T00:09:54.495082Z",
          "shell.execute_reply.started": "2021-11-29T06:42:58.242745Z"
        },
        "papermill": {
          "duration": 0.075306,
          "end_time": "2021-11-30T00:09:54.495380",
          "exception": false,
          "start_time": "2021-11-30T00:09:54.420074",
          "status": "completed"
        },
        "tags": [],
        "id": "de4c06e1",
        "outputId": "a2b047f7-49da-4bd6-d4b6-9d7727503db1",
        "colab": {
          "base_uri": "https://localhost:8080/"
        }
      },
      "outputs": [
        {
          "output_type": "stream",
          "name": "stdout",
          "text": [
            "Total number of ratings : 5\n",
            "Total number of users   : 4929\n",
            "Total number of products  : 299\n"
          ]
        }
      ],
      "source": [
        "print(\"Total number of ratings :\",df.rating.nunique())\n",
        "print(\"Total number of users   :\", df.userId.nunique())\n",
        "print(\"Total number of products  :\", df.productId.nunique())"
      ]
    },
    {
      "cell_type": "code",
      "execution_count": 9,
      "id": "cec294c7",
      "metadata": {
        "execution": {
          "iopub.execute_input": "2021-11-30T00:09:54.611311Z",
          "iopub.status.busy": "2021-11-30T00:09:54.610581Z",
          "iopub.status.idle": "2021-11-30T00:09:54.629671Z",
          "shell.execute_reply": "2021-11-30T00:09:54.630741Z",
          "shell.execute_reply.started": "2021-11-29T06:42:58.2636Z"
        },
        "papermill": {
          "duration": 0.078807,
          "end_time": "2021-11-30T00:09:54.631051",
          "exception": false,
          "start_time": "2021-11-30T00:09:54.552244",
          "status": "completed"
        },
        "tags": [],
        "id": "cec294c7",
        "outputId": "24ce2357-a570-4b1d-f2a4-ad73478cddea",
        "colab": {
          "base_uri": "https://localhost:8080/"
        }
      },
      "outputs": [
        {
          "output_type": "stream",
          "name": "stdout",
          "text": [
            "<class 'pandas.core.frame.DataFrame'>\n",
            "RangeIndex: 5000 entries, 0 to 4999\n",
            "Data columns (total 4 columns):\n",
            " #   Column     Non-Null Count  Dtype  \n",
            "---  ------     --------------  -----  \n",
            " 0   userId     5000 non-null   object \n",
            " 1   productId  5000 non-null   object \n",
            " 2   rating     5000 non-null   float64\n",
            " 3   timestamp  5000 non-null   int64  \n",
            "dtypes: float64(1), int64(1), object(2)\n",
            "memory usage: 156.4+ KB\n"
          ]
        }
      ],
      "source": [
        "df.info()"
      ]
    },
    {
      "cell_type": "code",
      "execution_count": 10,
      "id": "342d72ec",
      "metadata": {
        "execution": {
          "iopub.execute_input": "2021-11-30T00:09:54.749637Z",
          "iopub.status.busy": "2021-11-30T00:09:54.748876Z",
          "iopub.status.idle": "2021-11-30T00:09:54.759053Z",
          "shell.execute_reply": "2021-11-30T00:09:54.758315Z",
          "shell.execute_reply.started": "2021-11-29T06:42:58.287315Z"
        },
        "papermill": {
          "duration": 0.070694,
          "end_time": "2021-11-30T00:09:54.759230",
          "exception": false,
          "start_time": "2021-11-30T00:09:54.688536",
          "status": "completed"
        },
        "tags": [],
        "id": "342d72ec",
        "outputId": "7f1d942e-435f-4400-b339-d549bdafdc23",
        "colab": {
          "base_uri": "https://localhost:8080/"
        }
      },
      "outputs": [
        {
          "output_type": "execute_result",
          "data": {
            "text/plain": [
              "userId       0\n",
              "productId    0\n",
              "rating       0\n",
              "timestamp    0\n",
              "dtype: int64"
            ]
          },
          "metadata": {},
          "execution_count": 10
        }
      ],
      "source": [
        "# Check missing value\n",
        "df.isnull().sum()"
      ]
    },
    {
      "cell_type": "code",
      "execution_count": 11,
      "id": "581e3568",
      "metadata": {
        "execution": {
          "iopub.execute_input": "2021-11-30T00:09:54.873117Z",
          "iopub.status.busy": "2021-11-30T00:09:54.872330Z",
          "iopub.status.idle": "2021-11-30T00:09:54.883458Z",
          "shell.execute_reply": "2021-11-30T00:09:54.884169Z",
          "shell.execute_reply.started": "2021-11-29T06:42:58.29882Z"
        },
        "papermill": {
          "duration": 0.069679,
          "end_time": "2021-11-30T00:09:54.884381",
          "exception": false,
          "start_time": "2021-11-30T00:09:54.814702",
          "status": "completed"
        },
        "tags": [],
        "id": "581e3568",
        "outputId": "287e1865-3975-4606-ad24-69d344455edd",
        "colab": {
          "base_uri": "https://localhost:8080/"
        }
      },
      "outputs": [
        {
          "output_type": "execute_result",
          "data": {
            "text/plain": [
              "userId       False\n",
              "productId    False\n",
              "rating       False\n",
              "timestamp    False\n",
              "dtype: bool"
            ]
          },
          "metadata": {},
          "execution_count": 11
        }
      ],
      "source": [
        "# Check Duplicate data\n",
        "df[df.duplicated()].any()"
      ]
    },
    {
      "cell_type": "code",
      "execution_count": 12,
      "id": "49c2e2e0",
      "metadata": {
        "execution": {
          "iopub.execute_input": "2021-11-30T00:09:55.000465Z",
          "iopub.status.busy": "2021-11-30T00:09:54.999672Z",
          "iopub.status.idle": "2021-11-30T00:09:55.016512Z",
          "shell.execute_reply": "2021-11-30T00:09:55.017227Z",
          "shell.execute_reply.started": "2021-11-29T06:42:58.313584Z"
        },
        "papermill": {
          "duration": 0.076942,
          "end_time": "2021-11-30T00:09:55.017448",
          "exception": false,
          "start_time": "2021-11-30T00:09:54.940506",
          "status": "completed"
        },
        "tags": [],
        "id": "49c2e2e0",
        "outputId": "167fd2f4-7f17-40a9-b240-cbafa4c51b26",
        "colab": {
          "base_uri": "https://localhost:8080/"
        }
      },
      "outputs": [
        {
          "output_type": "execute_result",
          "data": {
            "text/plain": [
              "count    5000.000000\n",
              "mean        3.986600\n",
              "std         1.411814\n",
              "min         1.000000\n",
              "25%         3.000000\n",
              "50%         5.000000\n",
              "75%         5.000000\n",
              "max         5.000000\n",
              "Name: rating, dtype: float64"
            ]
          },
          "metadata": {},
          "execution_count": 12
        }
      ],
      "source": [
        "# rating describe summary \n",
        "df.describe()['rating']"
      ]
    },
    {
      "cell_type": "code",
      "execution_count": 13,
      "id": "07453324",
      "metadata": {
        "execution": {
          "iopub.execute_input": "2021-11-30T00:09:55.136820Z",
          "iopub.status.busy": "2021-11-30T00:09:55.135559Z",
          "iopub.status.idle": "2021-11-30T00:09:55.142175Z",
          "shell.execute_reply": "2021-11-30T00:09:55.142786Z",
          "shell.execute_reply.started": "2021-11-29T06:42:58.330715Z"
        },
        "papermill": {
          "duration": 0.068441,
          "end_time": "2021-11-30T00:09:55.143004",
          "exception": false,
          "start_time": "2021-11-30T00:09:55.074563",
          "status": "completed"
        },
        "tags": [],
        "id": "07453324",
        "outputId": "06bb3394-48a6-4ce4-cf21-23e186d01668",
        "colab": {
          "base_uri": "https://localhost:8080/"
        }
      },
      "outputs": [
        {
          "output_type": "stream",
          "name": "stdout",
          "text": [
            "Unique value of Rating: [5. 1. 3. 2. 4.]\n"
          ]
        }
      ],
      "source": [
        "print(\"Unique value of Rating:\",df.rating.unique())"
      ]
    },
    {
      "cell_type": "code",
      "execution_count": 14,
      "id": "aee239a6",
      "metadata": {
        "execution": {
          "iopub.execute_input": "2021-11-30T00:09:55.259445Z",
          "iopub.status.busy": "2021-11-30T00:09:55.258756Z",
          "iopub.status.idle": "2021-11-30T00:09:55.264676Z",
          "shell.execute_reply": "2021-11-30T00:09:55.265333Z",
          "shell.execute_reply.started": "2021-11-29T06:42:58.336907Z"
        },
        "papermill": {
          "duration": 0.066033,
          "end_time": "2021-11-30T00:09:55.265547",
          "exception": false,
          "start_time": "2021-11-30T00:09:55.199514",
          "status": "completed"
        },
        "tags": [],
        "id": "aee239a6",
        "outputId": "1cd6904d-6ddb-4e15-cb0a-7d856f8be0a6",
        "colab": {
          "base_uri": "https://localhost:8080/"
        }
      },
      "outputs": [
        {
          "output_type": "stream",
          "name": "stdout",
          "text": [
            "Minimum rating is: 1\n",
            "Maximum rating is: 5\n"
          ]
        }
      ],
      "source": [
        "# Find the minimum and maximum ratings\n",
        "print('Minimum rating is: %d' %(df.rating.min()))\n",
        "print('Maximum rating is: %d' %(df.rating.max()))"
      ]
    },
    {
      "cell_type": "markdown",
      "id": "64c58293",
      "metadata": {
        "papermill": {
          "duration": 0.058838,
          "end_time": "2021-11-30T00:09:55.381307",
          "exception": false,
          "start_time": "2021-11-30T00:09:55.322469",
          "status": "completed"
        },
        "tags": [],
        "id": "64c58293"
      },
      "source": [
        "### **Data Visualization**"
      ]
    },
    {
      "cell_type": "code",
      "execution_count": 15,
      "id": "423e2cc6",
      "metadata": {
        "execution": {
          "iopub.execute_input": "2021-11-30T00:09:55.499960Z",
          "iopub.status.busy": "2021-11-30T00:09:55.499232Z",
          "iopub.status.idle": "2021-11-30T00:09:55.676048Z",
          "shell.execute_reply": "2021-11-30T00:09:55.675335Z",
          "shell.execute_reply.started": "2021-11-29T06:42:58.349536Z"
        },
        "papermill": {
          "duration": 0.237707,
          "end_time": "2021-11-30T00:09:55.676226",
          "exception": false,
          "start_time": "2021-11-30T00:09:55.438519",
          "status": "completed"
        },
        "tags": [],
        "id": "423e2cc6",
        "outputId": "9ec6db89-bb77-4fa1-ce7c-faf36f20d892",
        "colab": {
          "base_uri": "https://localhost:8080/",
          "height": 394
        }
      },
      "outputs": [
        {
          "output_type": "execute_result",
          "data": {
            "text/plain": [
              "              rating  ratings_count  ratings_average\n",
              "productId                                           \n",
              "0132793040  5.000000              1         5.000000\n",
              "0321732944  5.000000              1         5.000000\n",
              "0439886341  1.666667              3         1.666667\n",
              "0511189877  4.500000              6         4.500000\n",
              "0528881469  2.851852             27         2.851852\n",
              "0558835155  3.000000              1         3.000000\n",
              "059400232X  5.000000              3         5.000000\n",
              "0594012015  2.000000              8         2.000000\n",
              "0594017343  1.000000              1         1.000000\n",
              "0594017580  3.000000              1         3.000000"
            ],
            "text/html": [
              "\n",
              "  <div id=\"df-5f2348db-48f6-459b-9a09-3dc3ef353dfd\">\n",
              "    <div class=\"colab-df-container\">\n",
              "      <div>\n",
              "<style scoped>\n",
              "    .dataframe tbody tr th:only-of-type {\n",
              "        vertical-align: middle;\n",
              "    }\n",
              "\n",
              "    .dataframe tbody tr th {\n",
              "        vertical-align: top;\n",
              "    }\n",
              "\n",
              "    .dataframe thead th {\n",
              "        text-align: right;\n",
              "    }\n",
              "</style>\n",
              "<table border=\"1\" class=\"dataframe\">\n",
              "  <thead>\n",
              "    <tr style=\"text-align: right;\">\n",
              "      <th></th>\n",
              "      <th>rating</th>\n",
              "      <th>ratings_count</th>\n",
              "      <th>ratings_average</th>\n",
              "    </tr>\n",
              "    <tr>\n",
              "      <th>productId</th>\n",
              "      <th></th>\n",
              "      <th></th>\n",
              "      <th></th>\n",
              "    </tr>\n",
              "  </thead>\n",
              "  <tbody>\n",
              "    <tr>\n",
              "      <th>0132793040</th>\n",
              "      <td>5.000000</td>\n",
              "      <td>1</td>\n",
              "      <td>5.000000</td>\n",
              "    </tr>\n",
              "    <tr>\n",
              "      <th>0321732944</th>\n",
              "      <td>5.000000</td>\n",
              "      <td>1</td>\n",
              "      <td>5.000000</td>\n",
              "    </tr>\n",
              "    <tr>\n",
              "      <th>0439886341</th>\n",
              "      <td>1.666667</td>\n",
              "      <td>3</td>\n",
              "      <td>1.666667</td>\n",
              "    </tr>\n",
              "    <tr>\n",
              "      <th>0511189877</th>\n",
              "      <td>4.500000</td>\n",
              "      <td>6</td>\n",
              "      <td>4.500000</td>\n",
              "    </tr>\n",
              "    <tr>\n",
              "      <th>0528881469</th>\n",
              "      <td>2.851852</td>\n",
              "      <td>27</td>\n",
              "      <td>2.851852</td>\n",
              "    </tr>\n",
              "    <tr>\n",
              "      <th>0558835155</th>\n",
              "      <td>3.000000</td>\n",
              "      <td>1</td>\n",
              "      <td>3.000000</td>\n",
              "    </tr>\n",
              "    <tr>\n",
              "      <th>059400232X</th>\n",
              "      <td>5.000000</td>\n",
              "      <td>3</td>\n",
              "      <td>5.000000</td>\n",
              "    </tr>\n",
              "    <tr>\n",
              "      <th>0594012015</th>\n",
              "      <td>2.000000</td>\n",
              "      <td>8</td>\n",
              "      <td>2.000000</td>\n",
              "    </tr>\n",
              "    <tr>\n",
              "      <th>0594017343</th>\n",
              "      <td>1.000000</td>\n",
              "      <td>1</td>\n",
              "      <td>1.000000</td>\n",
              "    </tr>\n",
              "    <tr>\n",
              "      <th>0594017580</th>\n",
              "      <td>3.000000</td>\n",
              "      <td>1</td>\n",
              "      <td>3.000000</td>\n",
              "    </tr>\n",
              "  </tbody>\n",
              "</table>\n",
              "</div>\n",
              "      <button class=\"colab-df-convert\" onclick=\"convertToInteractive('df-5f2348db-48f6-459b-9a09-3dc3ef353dfd')\"\n",
              "              title=\"Convert this dataframe to an interactive table.\"\n",
              "              style=\"display:none;\">\n",
              "        \n",
              "  <svg xmlns=\"http://www.w3.org/2000/svg\" height=\"24px\"viewBox=\"0 0 24 24\"\n",
              "       width=\"24px\">\n",
              "    <path d=\"M0 0h24v24H0V0z\" fill=\"none\"/>\n",
              "    <path d=\"M18.56 5.44l.94 2.06.94-2.06 2.06-.94-2.06-.94-.94-2.06-.94 2.06-2.06.94zm-11 1L8.5 8.5l.94-2.06 2.06-.94-2.06-.94L8.5 2.5l-.94 2.06-2.06.94zm10 10l.94 2.06.94-2.06 2.06-.94-2.06-.94-.94-2.06-.94 2.06-2.06.94z\"/><path d=\"M17.41 7.96l-1.37-1.37c-.4-.4-.92-.59-1.43-.59-.52 0-1.04.2-1.43.59L10.3 9.45l-7.72 7.72c-.78.78-.78 2.05 0 2.83L4 21.41c.39.39.9.59 1.41.59.51 0 1.02-.2 1.41-.59l7.78-7.78 2.81-2.81c.8-.78.8-2.07 0-2.86zM5.41 20L4 18.59l7.72-7.72 1.47 1.35L5.41 20z\"/>\n",
              "  </svg>\n",
              "      </button>\n",
              "      \n",
              "  <style>\n",
              "    .colab-df-container {\n",
              "      display:flex;\n",
              "      flex-wrap:wrap;\n",
              "      gap: 12px;\n",
              "    }\n",
              "\n",
              "    .colab-df-convert {\n",
              "      background-color: #E8F0FE;\n",
              "      border: none;\n",
              "      border-radius: 50%;\n",
              "      cursor: pointer;\n",
              "      display: none;\n",
              "      fill: #1967D2;\n",
              "      height: 32px;\n",
              "      padding: 0 0 0 0;\n",
              "      width: 32px;\n",
              "    }\n",
              "\n",
              "    .colab-df-convert:hover {\n",
              "      background-color: #E2EBFA;\n",
              "      box-shadow: 0px 1px 2px rgba(60, 64, 67, 0.3), 0px 1px 3px 1px rgba(60, 64, 67, 0.15);\n",
              "      fill: #174EA6;\n",
              "    }\n",
              "\n",
              "    [theme=dark] .colab-df-convert {\n",
              "      background-color: #3B4455;\n",
              "      fill: #D2E3FC;\n",
              "    }\n",
              "\n",
              "    [theme=dark] .colab-df-convert:hover {\n",
              "      background-color: #434B5C;\n",
              "      box-shadow: 0px 1px 3px 1px rgba(0, 0, 0, 0.15);\n",
              "      filter: drop-shadow(0px 1px 2px rgba(0, 0, 0, 0.3));\n",
              "      fill: #FFFFFF;\n",
              "    }\n",
              "  </style>\n",
              "\n",
              "      <script>\n",
              "        const buttonEl =\n",
              "          document.querySelector('#df-5f2348db-48f6-459b-9a09-3dc3ef353dfd button.colab-df-convert');\n",
              "        buttonEl.style.display =\n",
              "          google.colab.kernel.accessAllowed ? 'block' : 'none';\n",
              "\n",
              "        async function convertToInteractive(key) {\n",
              "          const element = document.querySelector('#df-5f2348db-48f6-459b-9a09-3dc3ef353dfd');\n",
              "          const dataTable =\n",
              "            await google.colab.kernel.invokeFunction('convertToInteractive',\n",
              "                                                     [key], {});\n",
              "          if (!dataTable) return;\n",
              "\n",
              "          const docLinkHtml = 'Like what you see? Visit the ' +\n",
              "            '<a target=\"_blank\" href=https://colab.research.google.com/notebooks/data_table.ipynb>data table notebook</a>'\n",
              "            + ' to learn more about interactive tables.';\n",
              "          element.innerHTML = '';\n",
              "          dataTable['output_type'] = 'display_data';\n",
              "          await google.colab.output.renderOutput(dataTable, element);\n",
              "          const docLink = document.createElement('div');\n",
              "          docLink.innerHTML = docLinkHtml;\n",
              "          element.appendChild(docLink);\n",
              "        }\n",
              "      </script>\n",
              "    </div>\n",
              "  </div>\n",
              "  "
            ]
          },
          "metadata": {},
          "execution_count": 15
        }
      ],
      "source": [
        "# Average rating of products\n",
        "ratings = pd.DataFrame(df.groupby('productId')['rating'].mean())\n",
        "ratings['ratings_count'] = pd.DataFrame(df.groupby('productId')['rating'].count())\n",
        "ratings['ratings_average'] = pd.DataFrame(df.groupby('productId')['rating'].mean())\n",
        "ratings.head(10)"
      ]
    },
    {
      "cell_type": "code",
      "execution_count": 16,
      "id": "1f0097af",
      "metadata": {
        "execution": {
          "iopub.execute_input": "2021-11-30T00:09:55.799033Z",
          "iopub.status.busy": "2021-11-30T00:09:55.798191Z",
          "iopub.status.idle": "2021-11-30T00:09:56.398411Z",
          "shell.execute_reply": "2021-11-30T00:09:56.399009Z",
          "shell.execute_reply.started": "2021-11-29T06:42:58.373493Z"
        },
        "papermill": {
          "duration": 0.665359,
          "end_time": "2021-11-30T00:09:56.399220",
          "exception": false,
          "start_time": "2021-11-30T00:09:55.733861",
          "status": "completed"
        },
        "tags": [],
        "id": "1f0097af",
        "outputId": "55ecdabc-7b87-4800-f828-186418435b71",
        "colab": {
          "base_uri": "https://localhost:8080/",
          "height": 282
        }
      },
      "outputs": [
        {
          "output_type": "execute_result",
          "data": {
            "text/plain": [
              "<matplotlib.axes._subplots.AxesSubplot at 0x7f4d196d9c10>"
            ]
          },
          "metadata": {},
          "execution_count": 16
        },
        {
          "output_type": "display_data",
          "data": {
            "text/plain": [
              "<Figure size 720x288 with 1 Axes>"
            ],
            "image/png": "[encoded data removed]"
          },
          "metadata": {
            "needs_background": "light"
          }
        }
      ],
      "source": [
        "plt.figure(figsize=(10,4))\n",
        "ratings['rating'].hist(bins=70)"
      ]
    },
    {
      "cell_type": "code",
      "execution_count": 17,
      "id": "76855a6d",
      "metadata": {
        "execution": {
          "iopub.execute_input": "2021-11-30T00:09:56.525965Z",
          "iopub.status.busy": "2021-11-30T00:09:56.522462Z",
          "iopub.status.idle": "2021-11-30T00:09:59.705872Z",
          "shell.execute_reply": "2021-11-30T00:09:59.706592Z",
          "shell.execute_reply.started": "2021-11-29T06:42:58.890117Z"
        },
        "papermill": {
          "duration": 3.24878,
          "end_time": "2021-11-30T00:09:59.706831",
          "exception": false,
          "start_time": "2021-11-30T00:09:56.458051",
          "status": "completed"
        },
        "tags": [],
        "id": "76855a6d",
        "outputId": "31981e8e-22ad-4625-d4cf-0de0ad69779a",
        "colab": {
          "base_uri": "https://localhost:8080/",
          "height": 458
        }
      },
      "outputs": [
        {
          "output_type": "execute_result",
          "data": {
            "text/plain": [
              "<seaborn.axisgrid.JointGrid at 0x7f4d1958d6d0>"
            ]
          },
          "metadata": {},
          "execution_count": 17
        },
        {
          "output_type": "display_data",
          "data": {
            "text/plain": [
              "<Figure size 432x432 with 3 Axes>"
            ],
            "image/png": "[encoded data removed]"
          },
          "metadata": {
            "needs_background": "light"
          }
        }
      ],
      "source": [
        "sns.jointplot(x='rating',y='ratings_count',data=ratings,alpha=0.5)"
      ]
    },
    {
      "cell_type": "code",
      "execution_count": 18,
      "id": "0037d092",
      "metadata": {
        "execution": {
          "iopub.execute_input": "2021-11-30T00:09:59.834767Z",
          "iopub.status.busy": "2021-11-30T00:09:59.833627Z",
          "iopub.status.idle": "2021-11-30T00:10:00.750063Z",
          "shell.execute_reply": "2021-11-30T00:10:00.750641Z",
          "shell.execute_reply.started": "2021-11-29T06:43:01.055897Z"
        },
        "papermill": {
          "duration": 0.981354,
          "end_time": "2021-11-30T00:10:00.750874",
          "exception": false,
          "start_time": "2021-11-30T00:09:59.769520",
          "status": "completed"
        },
        "tags": [],
        "id": "0037d092",
        "outputId": "960a1676-f69c-472f-8c9e-f529e0261cbc",
        "colab": {
          "base_uri": "https://localhost:8080/",
          "height": 350
        }
      },
      "outputs": [
        {
          "output_type": "execute_result",
          "data": {
            "text/plain": [
              "<matplotlib.axes._subplots.AxesSubplot at 0x7f4d194ba3d0>"
            ]
          },
          "metadata": {},
          "execution_count": 18
        },
        {
          "output_type": "display_data",
          "data": {
            "text/plain": [
              "<Figure size 864x288 with 1 Axes>"
            ],
            "image/png": "[encoded data removed]"
          },
          "metadata": {
            "needs_background": "light"
          }
        }
      ],
      "source": [
        "# Most top 30 products\n",
        "popular_products = pd.DataFrame(df.groupby('productId')['rating'].count())\n",
        "most_popular = popular_products.sort_values('rating', ascending=False)\n",
        "most_popular.head(30).plot(kind = \"bar\",figsize=(12, 4))"
      ]
    },
    {
      "cell_type": "markdown",
      "id": "a0d01995",
      "metadata": {
        "papermill": {
          "duration": 0.062427,
          "end_time": "2021-11-30T00:10:01.250401",
          "exception": false,
          "start_time": "2021-11-30T00:10:01.187974",
          "status": "completed"
        },
        "tags": [],
        "id": "a0d01995"
      },
      "source": [
        "### **Popularity-Based**"
      ]
    },
    {
      "cell_type": "markdown",
      "id": "595a2c89",
      "metadata": {
        "papermill": {
          "duration": 0.061267,
          "end_time": "2021-11-30T00:10:01.626517",
          "exception": false,
          "start_time": "2021-11-30T00:10:01.565250",
          "status": "completed"
        },
        "tags": [],
        "id": "595a2c89"
      },
      "source": [
        "<div align='left'><font size=\"3\" color=\"#000000\"> Weighted rating systems are used to score the rating of each product. Here is the formula of the weighted rating score.\n",
        "</font></div>\n",
        "\n",
        "<div align='center'><font size=\"4\" color=\"#000000\"> WR = (v ÷ (v+m)) × R + (m ÷ (v+m)) × C\n",
        "</font></div>\n",
        "\n",
        "<div align='left'><font size=\"3\" color=\"#000000\"> \n",
        "<ul>\n",
        "  <li>R is the average rating for the item.</li>\n",
        "  <li>v is the number of votes for the item.</li>\n",
        "  <li>m is the minimum votes required to be listed in the popular items(defined by > percentile 80 of total votes)</li>\n",
        "  <li>C is the average rating across the whole dataset.</li>\n",
        "</ul>\n",
        "</font></div>"
      ]
    },
    {
      "cell_type": "code",
      "execution_count": 19,
      "id": "73dc725a",
      "metadata": {
        "execution": {
          "iopub.execute_input": "2021-11-30T00:10:01.764807Z",
          "iopub.status.busy": "2021-11-30T00:10:01.764017Z",
          "iopub.status.idle": "2021-11-30T00:10:01.768880Z",
          "shell.execute_reply": "2021-11-30T00:10:01.768218Z",
          "shell.execute_reply.started": "2021-11-29T06:43:01.56304Z"
        },
        "papermill": {
          "duration": 0.079697,
          "end_time": "2021-11-30T00:10:01.769057",
          "exception": false,
          "start_time": "2021-11-30T00:10:01.689360",
          "status": "completed"
        },
        "tags": [],
        "id": "73dc725a",
        "outputId": "7ba43471-24fc-47cb-94b9-b89ce35dc895",
        "colab": {
          "base_uri": "https://localhost:8080/"
        }
      },
      "outputs": [
        {
          "output_type": "stream",
          "name": "stdout",
          "text": [
            "Average rating of product across the whole dataset is 3.5953177257525084\n"
          ]
        }
      ],
      "source": [
        "vote_counts = ratings[ratings['ratings_count'].notnull()]['ratings_count'].astype('int')\n",
        "vote_averages = ratings[ratings['ratings_average'].notnull()]['ratings_average'].astype('int')\n",
        "C = vote_averages.mean()\n",
        "print(\"Average rating of product across the whole dataset is\",C)"
      ]
    },
    {
      "cell_type": "code",
      "execution_count": 20,
      "id": "d8824d2b",
      "metadata": {
        "execution": {
          "iopub.execute_input": "2021-11-30T00:10:01.901603Z",
          "iopub.status.busy": "2021-11-30T00:10:01.900877Z",
          "iopub.status.idle": "2021-11-30T00:10:01.908520Z",
          "shell.execute_reply": "2021-11-30T00:10:01.909688Z",
          "shell.execute_reply.started": "2021-11-29T06:43:01.576333Z"
        },
        "papermill": {
          "duration": 0.076465,
          "end_time": "2021-11-30T00:10:01.910114",
          "exception": false,
          "start_time": "2021-11-30T00:10:01.833649",
          "status": "completed"
        },
        "tags": [],
        "id": "d8824d2b",
        "outputId": "ad1d6d59-2d8e-4e1f-84fa-50e2c7ebc86e",
        "colab": {
          "base_uri": "https://localhost:8080/"
        }
      },
      "outputs": [
        {
          "output_type": "stream",
          "name": "stdout",
          "text": [
            "Minimum votes required to be listed in the chart is 62.19999999999925\n"
          ]
        }
      ],
      "source": [
        "m = vote_counts.quantile(0.95)\n",
        "print(\"Minimum votes required to be listed in the chart is\",m)"
      ]
    },
    {
      "cell_type": "code",
      "execution_count": 21,
      "id": "352b97a9",
      "metadata": {
        "execution": {
          "iopub.execute_input": "2021-11-30T00:10:02.076576Z",
          "iopub.status.busy": "2021-11-30T00:10:02.075825Z",
          "iopub.status.idle": "2021-11-30T00:10:02.087614Z",
          "shell.execute_reply": "2021-11-30T00:10:02.088357Z",
          "shell.execute_reply.started": "2021-11-29T06:43:01.584451Z"
        },
        "papermill": {
          "duration": 0.104248,
          "end_time": "2021-11-30T00:10:02.088563",
          "exception": false,
          "start_time": "2021-11-30T00:10:01.984315",
          "status": "completed"
        },
        "tags": [],
        "id": "352b97a9",
        "outputId": "180b3dc7-8dd1-410b-c393-52fd431a0f07",
        "colab": {
          "base_uri": "https://localhost:8080/",
          "height": 237
        }
      },
      "outputs": [
        {
          "output_type": "execute_result",
          "data": {
            "text/plain": [
              "              rating  ratings_count  ratings_average\n",
              "productId                                           \n",
              "0132793040  5.000000              1         5.000000\n",
              "0321732944  5.000000              1         5.000000\n",
              "0439886341  1.666667              3         1.666667\n",
              "0511189877  4.500000              6         4.500000\n",
              "0528881469  2.851852             27         2.851852"
            ],
            "text/html": [
              "\n",
              "  <div id=\"df-8e337169-f94b-4600-a8e3-6305a018450b\">\n",
              "    <div class=\"colab-df-container\">\n",
              "      <div>\n",
              "<style scoped>\n",
              "    .dataframe tbody tr th:only-of-type {\n",
              "        vertical-align: middle;\n",
              "    }\n",
              "\n",
              "    .dataframe tbody tr th {\n",
              "        vertical-align: top;\n",
              "    }\n",
              "\n",
              "    .dataframe thead th {\n",
              "        text-align: right;\n",
              "    }\n",
              "</style>\n",
              "<table border=\"1\" class=\"dataframe\">\n",
              "  <thead>\n",
              "    <tr style=\"text-align: right;\">\n",
              "      <th></th>\n",
              "      <th>rating</th>\n",
              "      <th>ratings_count</th>\n",
              "      <th>ratings_average</th>\n",
              "    </tr>\n",
              "    <tr>\n",
              "      <th>productId</th>\n",
              "      <th></th>\n",
              "      <th></th>\n",
              "      <th></th>\n",
              "    </tr>\n",
              "  </thead>\n",
              "  <tbody>\n",
              "    <tr>\n",
              "      <th>0132793040</th>\n",
              "      <td>5.000000</td>\n",
              "      <td>1</td>\n",
              "      <td>5.000000</td>\n",
              "    </tr>\n",
              "    <tr>\n",
              "      <th>0321732944</th>\n",
              "      <td>5.000000</td>\n",
              "      <td>1</td>\n",
              "      <td>5.000000</td>\n",
              "    </tr>\n",
              "    <tr>\n",
              "      <th>0439886341</th>\n",
              "      <td>1.666667</td>\n",
              "      <td>3</td>\n",
              "      <td>1.666667</td>\n",
              "    </tr>\n",
              "    <tr>\n",
              "      <th>0511189877</th>\n",
              "      <td>4.500000</td>\n",
              "      <td>6</td>\n",
              "      <td>4.500000</td>\n",
              "    </tr>\n",
              "    <tr>\n",
              "      <th>0528881469</th>\n",
              "      <td>2.851852</td>\n",
              "      <td>27</td>\n",
              "      <td>2.851852</td>\n",
              "    </tr>\n",
              "  </tbody>\n",
              "</table>\n",
              "</div>\n",
              "      <button class=\"colab-df-convert\" onclick=\"convertToInteractive('df-8e337169-f94b-4600-a8e3-6305a018450b')\"\n",
              "              title=\"Convert this dataframe to an interactive table.\"\n",
              "              style=\"display:none;\">\n",
              "        \n",
              "  <svg xmlns=\"http://www.w3.org/2000/svg\" height=\"24px\"viewBox=\"0 0 24 24\"\n",
              "       width=\"24px\">\n",
              "    <path d=\"M0 0h24v24H0V0z\" fill=\"none\"/>\n",
              "    <path d=\"M18.56 5.44l.94 2.06.94-2.06 2.06-.94-2.06-.94-.94-2.06-.94 2.06-2.06.94zm-11 1L8.5 8.5l.94-2.06 2.06-.94-2.06-.94L8.5 2.5l-.94 2.06-2.06.94zm10 10l.94 2.06.94-2.06 2.06-.94-2.06-.94-.94-2.06-.94 2.06-2.06.94z\"/><path d=\"M17.41 7.96l-1.37-1.37c-.4-.4-.92-.59-1.43-.59-.52 0-1.04.2-1.43.59L10.3 9.45l-7.72 7.72c-.78.78-.78 2.05 0 2.83L4 21.41c.39.39.9.59 1.41.59.51 0 1.02-.2 1.41-.59l7.78-7.78 2.81-2.81c.8-.78.8-2.07 0-2.86zM5.41 20L4 18.59l7.72-7.72 1.47 1.35L5.41 20z\"/>\n",
              "  </svg>\n",
              "      </button>\n",
              "      \n",
              "  <style>\n",
              "    .colab-df-container {\n",
              "      display:flex;\n",
              "      flex-wrap:wrap;\n",
              "      gap: 12px;\n",
              "    }\n",
              "\n",
              "    .colab-df-convert {\n",
              "      background-color: #E8F0FE;\n",
              "      border: none;\n",
              "      border-radius: 50%;\n",
              "      cursor: pointer;\n",
              "      display: none;\n",
              "      fill: #1967D2;\n",
              "      height: 32px;\n",
              "      padding: 0 0 0 0;\n",
              "      width: 32px;\n",
              "    }\n",
              "\n",
              "    .colab-df-convert:hover {\n",
              "      background-color: #E2EBFA;\n",
              "      box-shadow: 0px 1px 2px rgba(60, 64, 67, 0.3), 0px 1px 3px 1px rgba(60, 64, 67, 0.15);\n",
              "      fill: #174EA6;\n",
              "    }\n",
              "\n",
              "    [theme=dark] .colab-df-convert {\n",
              "      background-color: #3B4455;\n",
              "      fill: #D2E3FC;\n",
              "    }\n",
              "\n",
              "    [theme=dark] .colab-df-convert:hover {\n",
              "      background-color: #434B5C;\n",
              "      box-shadow: 0px 1px 3px 1px rgba(0, 0, 0, 0.15);\n",
              "      filter: drop-shadow(0px 1px 2px rgba(0, 0, 0, 0.3));\n",
              "      fill: #FFFFFF;\n",
              "    }\n",
              "  </style>\n",
              "\n",
              "      <script>\n",
              "        const buttonEl =\n",
              "          document.querySelector('#df-8e337169-f94b-4600-a8e3-6305a018450b button.colab-df-convert');\n",
              "        buttonEl.style.display =\n",
              "          google.colab.kernel.accessAllowed ? 'block' : 'none';\n",
              "\n",
              "        async function convertToInteractive(key) {\n",
              "          const element = document.querySelector('#df-8e337169-f94b-4600-a8e3-6305a018450b');\n",
              "          const dataTable =\n",
              "            await google.colab.kernel.invokeFunction('convertToInteractive',\n",
              "                                                     [key], {});\n",
              "          if (!dataTable) return;\n",
              "\n",
              "          const docLinkHtml = 'Like what you see? Visit the ' +\n",
              "            '<a target=\"_blank\" href=https://colab.research.google.com/notebooks/data_table.ipynb>data table notebook</a>'\n",
              "            + ' to learn more about interactive tables.';\n",
              "          element.innerHTML = '';\n",
              "          dataTable['output_type'] = 'display_data';\n",
              "          await google.colab.output.renderOutput(dataTable, element);\n",
              "          const docLink = document.createElement('div');\n",
              "          docLink.innerHTML = docLinkHtml;\n",
              "          element.appendChild(docLink);\n",
              "        }\n",
              "      </script>\n",
              "    </div>\n",
              "  </div>\n",
              "  "
            ]
          },
          "metadata": {},
          "execution_count": 21
        }
      ],
      "source": [
        "ratings.head()"
      ]
    },
    {
      "cell_type": "code",
      "execution_count": 22,
      "id": "9bc904f3",
      "metadata": {
        "execution": {
          "iopub.execute_input": "2021-11-30T00:10:02.222542Z",
          "iopub.status.busy": "2021-11-30T00:10:02.221795Z",
          "iopub.status.idle": "2021-11-30T00:10:02.229686Z",
          "shell.execute_reply": "2021-11-30T00:10:02.230346Z",
          "shell.execute_reply.started": "2021-11-29T06:43:01.604086Z"
        },
        "papermill": {
          "duration": 0.07696,
          "end_time": "2021-11-30T00:10:02.230572",
          "exception": false,
          "start_time": "2021-11-30T00:10:02.153612",
          "status": "completed"
        },
        "tags": [],
        "id": "9bc904f3"
      },
      "outputs": [],
      "source": [
        "qualified = ratings[(ratings['ratings_count'] >= m) & (ratings['ratings_count'].notnull()) & (ratings['ratings_average'].notnull())][['ratings_count', 'ratings_average']]"
      ]
    },
    {
      "cell_type": "code",
      "execution_count": 23,
      "id": "33fde1ef",
      "metadata": {
        "execution": {
          "iopub.execute_input": "2021-11-30T00:10:02.367492Z",
          "iopub.status.busy": "2021-11-30T00:10:02.366774Z",
          "iopub.status.idle": "2021-11-30T00:10:02.379550Z",
          "shell.execute_reply": "2021-11-30T00:10:02.380197Z",
          "shell.execute_reply.started": "2021-11-29T06:43:01.613402Z"
        },
        "papermill": {
          "duration": 0.083671,
          "end_time": "2021-11-30T00:10:02.380419",
          "exception": false,
          "start_time": "2021-11-30T00:10:02.296748",
          "status": "completed"
        },
        "tags": [],
        "id": "33fde1ef",
        "outputId": "f27486be-6762-4d76-c972-51a55b91dad7",
        "colab": {
          "base_uri": "https://localhost:8080/",
          "height": 237
        }
      },
      "outputs": [
        {
          "output_type": "execute_result",
          "data": {
            "text/plain": [
              "            ratings_count  ratings_average\n",
              "productId                                 \n",
              "0972683275           1051                4\n",
              "1400501466            250                3\n",
              "1400532620            171                3\n",
              "1400501776            139                3\n",
              "1400501520             82                4"
            ],
            "text/html": [
              "\n",
              "  <div id=\"df-65d94f5d-b814-4632-8dc4-a73a15db7a90\">\n",
              "    <div class=\"colab-df-container\">\n",
              "      <div>\n",
              "<style scoped>\n",
              "    .dataframe tbody tr th:only-of-type {\n",
              "        vertical-align: middle;\n",
              "    }\n",
              "\n",
              "    .dataframe tbody tr th {\n",
              "        vertical-align: top;\n",
              "    }\n",
              "\n",
              "    .dataframe thead th {\n",
              "        text-align: right;\n",
              "    }\n",
              "</style>\n",
              "<table border=\"1\" class=\"dataframe\">\n",
              "  <thead>\n",
              "    <tr style=\"text-align: right;\">\n",
              "      <th></th>\n",
              "      <th>ratings_count</th>\n",
              "      <th>ratings_average</th>\n",
              "    </tr>\n",
              "    <tr>\n",
              "      <th>productId</th>\n",
              "      <th></th>\n",
              "      <th></th>\n",
              "    </tr>\n",
              "  </thead>\n",
              "  <tbody>\n",
              "    <tr>\n",
              "      <th>0972683275</th>\n",
              "      <td>1051</td>\n",
              "      <td>4</td>\n",
              "    </tr>\n",
              "    <tr>\n",
              "      <th>1400501466</th>\n",
              "      <td>250</td>\n",
              "      <td>3</td>\n",
              "    </tr>\n",
              "    <tr>\n",
              "      <th>1400532620</th>\n",
              "      <td>171</td>\n",
              "      <td>3</td>\n",
              "    </tr>\n",
              "    <tr>\n",
              "      <th>1400501776</th>\n",
              "      <td>139</td>\n",
              "      <td>3</td>\n",
              "    </tr>\n",
              "    <tr>\n",
              "      <th>1400501520</th>\n",
              "      <td>82</td>\n",
              "      <td>4</td>\n",
              "    </tr>\n",
              "  </tbody>\n",
              "</table>\n",
              "</div>\n",
              "      <button class=\"colab-df-convert\" onclick=\"convertToInteractive('df-65d94f5d-b814-4632-8dc4-a73a15db7a90')\"\n",
              "              title=\"Convert this dataframe to an interactive table.\"\n",
              "              style=\"display:none;\">\n",
              "        \n",
              "  <svg xmlns=\"http://www.w3.org/2000/svg\" height=\"24px\"viewBox=\"0 0 24 24\"\n",
              "       width=\"24px\">\n",
              "    <path d=\"M0 0h24v24H0V0z\" fill=\"none\"/>\n",
              "    <path d=\"M18.56 5.44l.94 2.06.94-2.06 2.06-.94-2.06-.94-.94-2.06-.94 2.06-2.06.94zm-11 1L8.5 8.5l.94-2.06 2.06-.94-2.06-.94L8.5 2.5l-.94 2.06-2.06.94zm10 10l.94 2.06.94-2.06 2.06-.94-2.06-.94-.94-2.06-.94 2.06-2.06.94z\"/><path d=\"M17.41 7.96l-1.37-1.37c-.4-.4-.92-.59-1.43-.59-.52 0-1.04.2-1.43.59L10.3 9.45l-7.72 7.72c-.78.78-.78 2.05 0 2.83L4 21.41c.39.39.9.59 1.41.59.51 0 1.02-.2 1.41-.59l7.78-7.78 2.81-2.81c.8-.78.8-2.07 0-2.86zM5.41 20L4 18.59l7.72-7.72 1.47 1.35L5.41 20z\"/>\n",
              "  </svg>\n",
              "      </button>\n",
              "      \n",
              "  <style>\n",
              "    .colab-df-container {\n",
              "      display:flex;\n",
              "      flex-wrap:wrap;\n",
              "      gap: 12px;\n",
              "    }\n",
              "\n",
              "    .colab-df-convert {\n",
              "      background-color: #E8F0FE;\n",
              "      border: none;\n",
              "      border-radius: 50%;\n",
              "      cursor: pointer;\n",
              "      display: none;\n",
              "      fill: #1967D2;\n",
              "      height: 32px;\n",
              "      padding: 0 0 0 0;\n",
              "      width: 32px;\n",
              "    }\n",
              "\n",
              "    .colab-df-convert:hover {\n",
              "      background-color: #E2EBFA;\n",
              "      box-shadow: 0px 1px 2px rgba(60, 64, 67, 0.3), 0px 1px 3px 1px rgba(60, 64, 67, 0.15);\n",
              "      fill: #174EA6;\n",
              "    }\n",
              "\n",
              "    [theme=dark] .colab-df-convert {\n",
              "      background-color: #3B4455;\n",
              "      fill: #D2E3FC;\n",
              "    }\n",
              "\n",
              "    [theme=dark] .colab-df-convert:hover {\n",
              "      background-color: #434B5C;\n",
              "      box-shadow: 0px 1px 3px 1px rgba(0, 0, 0, 0.15);\n",
              "      filter: drop-shadow(0px 1px 2px rgba(0, 0, 0, 0.3));\n",
              "      fill: #FFFFFF;\n",
              "    }\n",
              "  </style>\n",
              "\n",
              "      <script>\n",
              "        const buttonEl =\n",
              "          document.querySelector('#df-65d94f5d-b814-4632-8dc4-a73a15db7a90 button.colab-df-convert');\n",
              "        buttonEl.style.display =\n",
              "          google.colab.kernel.accessAllowed ? 'block' : 'none';\n",
              "\n",
              "        async function convertToInteractive(key) {\n",
              "          const element = document.querySelector('#df-65d94f5d-b814-4632-8dc4-a73a15db7a90');\n",
              "          const dataTable =\n",
              "            await google.colab.kernel.invokeFunction('convertToInteractive',\n",
              "                                                     [key], {});\n",
              "          if (!dataTable) return;\n",
              "\n",
              "          const docLinkHtml = 'Like what you see? Visit the ' +\n",
              "            '<a target=\"_blank\" href=https://colab.research.google.com/notebooks/data_table.ipynb>data table notebook</a>'\n",
              "            + ' to learn more about interactive tables.';\n",
              "          element.innerHTML = '';\n",
              "          dataTable['output_type'] = 'display_data';\n",
              "          await google.colab.output.renderOutput(dataTable, element);\n",
              "          const docLink = document.createElement('div');\n",
              "          docLink.innerHTML = docLinkHtml;\n",
              "          element.appendChild(docLink);\n",
              "        }\n",
              "      </script>\n",
              "    </div>\n",
              "  </div>\n",
              "  "
            ]
          },
          "metadata": {},
          "execution_count": 23
        }
      ],
      "source": [
        "qualified['ratings_count'] = qualified['ratings_count'].astype('int')\n",
        "qualified['ratings_average'] = qualified['ratings_average'].astype('int')\n",
        "qualified.head().sort_values(by='ratings_count', ascending=False)"
      ]
    },
    {
      "cell_type": "code",
      "execution_count": 24,
      "id": "d2fef2b6",
      "metadata": {
        "execution": {
          "iopub.execute_input": "2021-11-30T00:10:02.517266Z",
          "iopub.status.busy": "2021-11-30T00:10:02.516520Z",
          "iopub.status.idle": "2021-11-30T00:10:02.522121Z",
          "shell.execute_reply": "2021-11-30T00:10:02.522734Z",
          "shell.execute_reply.started": "2021-11-29T06:43:01.631304Z"
        },
        "papermill": {
          "duration": 0.075835,
          "end_time": "2021-11-30T00:10:02.522973",
          "exception": false,
          "start_time": "2021-11-30T00:10:02.447138",
          "status": "completed"
        },
        "tags": [],
        "id": "d2fef2b6",
        "outputId": "7ac77b00-46ff-4c47-f79b-6922e2027aa3",
        "colab": {
          "base_uri": "https://localhost:8080/"
        }
      },
      "outputs": [
        {
          "output_type": "execute_result",
          "data": {
            "text/plain": [
              "(15, 2)"
            ]
          },
          "metadata": {},
          "execution_count": 24
        }
      ],
      "source": [
        "qualified.shape"
      ]
    },
    {
      "cell_type": "code",
      "execution_count": 25,
      "id": "6eec322d",
      "metadata": {
        "execution": {
          "iopub.execute_input": "2021-11-30T00:10:02.660671Z",
          "iopub.status.busy": "2021-11-30T00:10:02.659958Z",
          "iopub.status.idle": "2021-11-30T00:10:02.665462Z",
          "shell.execute_reply": "2021-11-30T00:10:02.666075Z",
          "shell.execute_reply.started": "2021-11-29T06:43:01.638563Z"
        },
        "papermill": {
          "duration": 0.07631,
          "end_time": "2021-11-30T00:10:02.666296",
          "exception": false,
          "start_time": "2021-11-30T00:10:02.589986",
          "status": "completed"
        },
        "tags": [],
        "id": "6eec322d"
      },
      "outputs": [],
      "source": [
        "def weighted_rating(x):\n",
        "    v = x['ratings_count']\n",
        "    R = x['ratings_average']\n",
        "    return (v/(v+m) * R) + (m/(m+v) * C)"
      ]
    },
    {
      "cell_type": "code",
      "execution_count": 26,
      "id": "5ee82b58",
      "metadata": {
        "execution": {
          "iopub.execute_input": "2021-11-30T00:10:02.803497Z",
          "iopub.status.busy": "2021-11-30T00:10:02.802792Z",
          "iopub.status.idle": "2021-11-30T00:10:02.809694Z",
          "shell.execute_reply": "2021-11-30T00:10:02.810268Z",
          "shell.execute_reply.started": "2021-11-29T06:43:01.651846Z"
        },
        "papermill": {
          "duration": 0.076608,
          "end_time": "2021-11-30T00:10:02.810497",
          "exception": false,
          "start_time": "2021-11-30T00:10:02.733889",
          "status": "completed"
        },
        "tags": [],
        "id": "5ee82b58"
      },
      "outputs": [],
      "source": [
        "qualified['wr'] = qualified.apply(weighted_rating, axis=1)"
      ]
    },
    {
      "cell_type": "code",
      "execution_count": 27,
      "id": "937cbcb6",
      "metadata": {
        "execution": {
          "iopub.execute_input": "2021-11-30T00:10:02.947567Z",
          "iopub.status.busy": "2021-11-30T00:10:02.946871Z",
          "iopub.status.idle": "2021-11-30T00:10:02.952081Z",
          "shell.execute_reply": "2021-11-30T00:10:02.952613Z",
          "shell.execute_reply.started": "2021-11-29T06:43:01.664425Z"
        },
        "papermill": {
          "duration": 0.075108,
          "end_time": "2021-11-30T00:10:02.952863",
          "exception": false,
          "start_time": "2021-11-30T00:10:02.877755",
          "status": "completed"
        },
        "tags": [],
        "id": "937cbcb6"
      },
      "outputs": [],
      "source": [
        "qualified = qualified.sort_values('wr', ascending=False).head(20)"
      ]
    },
    {
      "cell_type": "markdown",
      "id": "fb4b7591",
      "metadata": {
        "papermill": {
          "duration": 0.066116,
          "end_time": "2021-11-30T00:10:03.086586",
          "exception": false,
          "start_time": "2021-11-30T00:10:03.020470",
          "status": "completed"
        },
        "tags": [],
        "id": "fb4b7591"
      },
      "source": [
        "#### Top 10 Products for recommendation using Popular-based method"
      ]
    },
    {
      "cell_type": "code",
      "execution_count": 28,
      "id": "4cda193f",
      "metadata": {
        "execution": {
          "iopub.execute_input": "2021-11-30T00:10:03.230738Z",
          "iopub.status.busy": "2021-11-30T00:10:03.229571Z",
          "iopub.status.idle": "2021-11-30T00:10:03.233961Z",
          "shell.execute_reply": "2021-11-30T00:10:03.234554Z",
          "shell.execute_reply.started": "2021-11-29T06:43:01.804932Z"
        },
        "papermill": {
          "duration": 0.082352,
          "end_time": "2021-11-30T00:10:03.234795",
          "exception": false,
          "start_time": "2021-11-30T00:10:03.152443",
          "status": "completed"
        },
        "tags": [],
        "id": "4cda193f",
        "outputId": "519cd05e-1b7a-41d8-991c-dc9b5a5765ae",
        "colab": {
          "base_uri": "https://localhost:8080/",
          "height": 394
        }
      },
      "outputs": [
        {
          "output_type": "execute_result",
          "data": {
            "text/plain": [
              "            ratings_count  ratings_average        wr\n",
              "productId                                           \n",
              "0972683275           1051                4  3.977388\n",
              "1400698987            138                4  3.874270\n",
              "7214047977            107                4  3.851234\n",
              "1400501520             82                4  3.825442\n",
              "6301977173             83                3  3.255019\n",
              "1400532736             84                3  3.253275\n",
              "8862935293             95                3  3.235552\n",
              "9575871979             98                3  3.231141\n",
              "1400501776            139                3  3.184040\n",
              "1400532620            171                3  3.158785"
            ],
            "text/html": [
              "\n",
              "  <div id=\"df-dc915e4e-f167-4931-a1b9-08c92ce26e3f\">\n",
              "    <div class=\"colab-df-container\">\n",
              "      <div>\n",
              "<style scoped>\n",
              "    .dataframe tbody tr th:only-of-type {\n",
              "        vertical-align: middle;\n",
              "    }\n",
              "\n",
              "    .dataframe tbody tr th {\n",
              "        vertical-align: top;\n",
              "    }\n",
              "\n",
              "    .dataframe thead th {\n",
              "        text-align: right;\n",
              "    }\n",
              "</style>\n",
              "<table border=\"1\" class=\"dataframe\">\n",
              "  <thead>\n",
              "    <tr style=\"text-align: right;\">\n",
              "      <th></th>\n",
              "      <th>ratings_count</th>\n",
              "      <th>ratings_average</th>\n",
              "      <th>wr</th>\n",
              "    </tr>\n",
              "    <tr>\n",
              "      <th>productId</th>\n",
              "      <th></th>\n",
              "      <th></th>\n",
              "      <th></th>\n",
              "    </tr>\n",
              "  </thead>\n",
              "  <tbody>\n",
              "    <tr>\n",
              "      <th>0972683275</th>\n",
              "      <td>1051</td>\n",
              "      <td>4</td>\n",
              "      <td>3.977388</td>\n",
              "    </tr>\n",
              "    <tr>\n",
              "      <th>1400698987</th>\n",
              "      <td>138</td>\n",
              "      <td>4</td>\n",
              "      <td>3.874270</td>\n",
              "    </tr>\n",
              "    <tr>\n",
              "      <th>7214047977</th>\n",
              "      <td>107</td>\n",
              "      <td>4</td>\n",
              "      <td>3.851234</td>\n",
              "    </tr>\n",
              "    <tr>\n",
              "      <th>1400501520</th>\n",
              "      <td>82</td>\n",
              "      <td>4</td>\n",
              "      <td>3.825442</td>\n",
              "    </tr>\n",
              "    <tr>\n",
              "      <th>6301977173</th>\n",
              "      <td>83</td>\n",
              "      <td>3</td>\n",
              "      <td>3.255019</td>\n",
              "    </tr>\n",
              "    <tr>\n",
              "      <th>1400532736</th>\n",
              "      <td>84</td>\n",
              "      <td>3</td>\n",
              "      <td>3.253275</td>\n",
              "    </tr>\n",
              "    <tr>\n",
              "      <th>8862935293</th>\n",
              "      <td>95</td>\n",
              "      <td>3</td>\n",
              "      <td>3.235552</td>\n",
              "    </tr>\n",
              "    <tr>\n",
              "      <th>9575871979</th>\n",
              "      <td>98</td>\n",
              "      <td>3</td>\n",
              "      <td>3.231141</td>\n",
              "    </tr>\n",
              "    <tr>\n",
              "      <th>1400501776</th>\n",
              "      <td>139</td>\n",
              "      <td>3</td>\n",
              "      <td>3.184040</td>\n",
              "    </tr>\n",
              "    <tr>\n",
              "      <th>1400532620</th>\n",
              "      <td>171</td>\n",
              "      <td>3</td>\n",
              "      <td>3.158785</td>\n",
              "    </tr>\n",
              "  </tbody>\n",
              "</table>\n",
              "</div>\n",
              "      <button class=\"colab-df-convert\" onclick=\"convertToInteractive('df-dc915e4e-f167-4931-a1b9-08c92ce26e3f')\"\n",
              "              title=\"Convert this dataframe to an interactive table.\"\n",
              "              style=\"display:none;\">\n",
              "        \n",
              "  <svg xmlns=\"http://www.w3.org/2000/svg\" height=\"24px\"viewBox=\"0 0 24 24\"\n",
              "       width=\"24px\">\n",
              "    <path d=\"M0 0h24v24H0V0z\" fill=\"none\"/>\n",
              "    <path d=\"M18.56 5.44l.94 2.06.94-2.06 2.06-.94-2.06-.94-.94-2.06-.94 2.06-2.06.94zm-11 1L8.5 8.5l.94-2.06 2.06-.94-2.06-.94L8.5 2.5l-.94 2.06-2.06.94zm10 10l.94 2.06.94-2.06 2.06-.94-2.06-.94-.94-2.06-.94 2.06-2.06.94z\"/><path d=\"M17.41 7.96l-1.37-1.37c-.4-.4-.92-.59-1.43-.59-.52 0-1.04.2-1.43.59L10.3 9.45l-7.72 7.72c-.78.78-.78 2.05 0 2.83L4 21.41c.39.39.9.59 1.41.59.51 0 1.02-.2 1.41-.59l7.78-7.78 2.81-2.81c.8-.78.8-2.07 0-2.86zM5.41 20L4 18.59l7.72-7.72 1.47 1.35L5.41 20z\"/>\n",
              "  </svg>\n",
              "      </button>\n",
              "      \n",
              "  <style>\n",
              "    .colab-df-container {\n",
              "      display:flex;\n",
              "      flex-wrap:wrap;\n",
              "      gap: 12px;\n",
              "    }\n",
              "\n",
              "    .colab-df-convert {\n",
              "      background-color: #E8F0FE;\n",
              "      border: none;\n",
              "      border-radius: 50%;\n",
              "      cursor: pointer;\n",
              "      display: none;\n",
              "      fill: #1967D2;\n",
              "      height: 32px;\n",
              "      padding: 0 0 0 0;\n",
              "      width: 32px;\n",
              "    }\n",
              "\n",
              "    .colab-df-convert:hover {\n",
              "      background-color: #E2EBFA;\n",
              "      box-shadow: 0px 1px 2px rgba(60, 64, 67, 0.3), 0px 1px 3px 1px rgba(60, 64, 67, 0.15);\n",
              "      fill: #174EA6;\n",
              "    }\n",
              "\n",
              "    [theme=dark] .colab-df-convert {\n",
              "      background-color: #3B4455;\n",
              "      fill: #D2E3FC;\n",
              "    }\n",
              "\n",
              "    [theme=dark] .colab-df-convert:hover {\n",
              "      background-color: #434B5C;\n",
              "      box-shadow: 0px 1px 3px 1px rgba(0, 0, 0, 0.15);\n",
              "      filter: drop-shadow(0px 1px 2px rgba(0, 0, 0, 0.3));\n",
              "      fill: #FFFFFF;\n",
              "    }\n",
              "  </style>\n",
              "\n",
              "      <script>\n",
              "        const buttonEl =\n",
              "          document.querySelector('#df-dc915e4e-f167-4931-a1b9-08c92ce26e3f button.colab-df-convert');\n",
              "        buttonEl.style.display =\n",
              "          google.colab.kernel.accessAllowed ? 'block' : 'none';\n",
              "\n",
              "        async function convertToInteractive(key) {\n",
              "          const element = document.querySelector('#df-dc915e4e-f167-4931-a1b9-08c92ce26e3f');\n",
              "          const dataTable =\n",
              "            await google.colab.kernel.invokeFunction('convertToInteractive',\n",
              "                                                     [key], {});\n",
              "          if (!dataTable) return;\n",
              "\n",
              "          const docLinkHtml = 'Like what you see? Visit the ' +\n",
              "            '<a target=\"_blank\" href=https://colab.research.google.com/notebooks/data_table.ipynb>data table notebook</a>'\n",
              "            + ' to learn more about interactive tables.';\n",
              "          element.innerHTML = '';\n",
              "          dataTable['output_type'] = 'display_data';\n",
              "          await google.colab.output.renderOutput(dataTable, element);\n",
              "          const docLink = document.createElement('div');\n",
              "          docLink.innerHTML = docLinkHtml;\n",
              "          element.appendChild(docLink);\n",
              "        }\n",
              "      </script>\n",
              "    </div>\n",
              "  </div>\n",
              "  "
            ]
          },
          "metadata": {},
          "execution_count": 28
        }
      ],
      "source": [
        "qualified.head(10)"
      ]
    },
    {
      "cell_type": "code",
      "execution_count": 29,
      "id": "cb420c9e",
      "metadata": {
        "execution": {
          "iopub.execute_input": "2021-11-30T00:10:03.377596Z",
          "iopub.status.busy": "2021-11-30T00:10:03.376437Z",
          "iopub.status.idle": "2021-11-30T00:10:03.801948Z",
          "shell.execute_reply": "2021-11-30T00:10:03.801219Z",
          "shell.execute_reply.started": "2021-11-29T06:43:01.824438Z"
        },
        "papermill": {
          "duration": 0.501606,
          "end_time": "2021-11-30T00:10:03.802112",
          "exception": false,
          "start_time": "2021-11-30T00:10:03.300506",
          "status": "completed"
        },
        "tags": [],
        "id": "cb420c9e",
        "outputId": "7114c703-af6b-4de7-a2dd-8cd276e5e1e2",
        "colab": {
          "base_uri": "https://localhost:8080/",
          "height": 366
        }
      },
      "outputs": [
        {
          "output_type": "execute_result",
          "data": {
            "text/plain": [
              "Text(0, 0.5, 'Count')"
            ]
          },
          "metadata": {},
          "execution_count": 29
        },
        {
          "output_type": "display_data",
          "data": {
            "text/plain": [
              "<Figure size 864x288 with 1 Axes>"
            ],
            "image/png": "[encoded data removed]"
          },
          "metadata": {
            "needs_background": "light"
          }
        }
      ],
      "source": [
        "from matplotlib import cm\n",
        "color = cm.inferno_r(np.linspace(.4, .8, 30))\n",
        "\n",
        "rating_plot_count = qualified['ratings_count'].plot.bar(figsize=(12, 4),color=color)\n",
        "rating_plot_count.set_title(\"Rating Count Bar-Plot\")\n",
        "rating_plot_count.set_xlabel(\"productId\")\n",
        "rating_plot_count.set_ylabel(\"Count\")"
      ]
    },
    {
      "cell_type": "code",
      "execution_count": 30,
      "id": "39f8a984",
      "metadata": {
        "execution": {
          "iopub.execute_input": "2021-11-30T00:10:03.938599Z",
          "iopub.status.busy": "2021-11-30T00:10:03.937471Z",
          "iopub.status.idle": "2021-11-30T00:10:04.350076Z",
          "shell.execute_reply": "2021-11-30T00:10:04.350649Z",
          "shell.execute_reply.started": "2021-11-29T06:43:02.161177Z"
        },
        "papermill": {
          "duration": 0.484204,
          "end_time": "2021-11-30T00:10:04.350898",
          "exception": false,
          "start_time": "2021-11-30T00:10:03.866694",
          "status": "completed"
        },
        "tags": [],
        "id": "39f8a984",
        "outputId": "1d221e14-e680-483c-c117-6d49a29b7583",
        "colab": {
          "base_uri": "https://localhost:8080/",
          "height": 366
        }
      },
      "outputs": [
        {
          "output_type": "execute_result",
          "data": {
            "text/plain": [
              "Text(0, 0.5, 'rating')"
            ]
          },
          "metadata": {},
          "execution_count": 30
        },
        {
          "output_type": "display_data",
          "data": {
            "text/plain": [
              "<Figure size 864x288 with 1 Axes>"
            ],
            "image/png": "[encoded data removed]"
          },
          "metadata": {
            "needs_background": "light"
          }
        }
      ],
      "source": [
        "rating_plot_avg = qualified['ratings_average'].plot.bar(figsize=(12, 4),color=color)\n",
        "rating_plot_avg.set_title(\"Rating Average Bar-Plot\")\n",
        "rating_plot_avg.set_xlabel(\"productId\")\n",
        "rating_plot_avg.set_ylabel(\"rating\")"
      ]
    },
    {
      "cell_type": "code",
      "execution_count": 31,
      "id": "f66d6dd1",
      "metadata": {
        "execution": {
          "iopub.execute_input": "2021-11-30T00:10:04.527666Z",
          "iopub.status.busy": "2021-11-30T00:10:04.526380Z",
          "iopub.status.idle": "2021-11-30T00:10:04.905990Z",
          "shell.execute_reply": "2021-11-30T00:10:04.906626Z",
          "shell.execute_reply.started": "2021-11-29T06:43:02.506695Z"
        },
        "papermill": {
          "duration": 0.488286,
          "end_time": "2021-11-30T00:10:04.906880",
          "exception": false,
          "start_time": "2021-11-30T00:10:04.418594",
          "status": "completed"
        },
        "tags": [],
        "id": "f66d6dd1",
        "outputId": "b37f8796-11c0-4ac0-c8de-87cf177dd483",
        "colab": {
          "base_uri": "https://localhost:8080/",
          "height": 366
        }
      },
      "outputs": [
        {
          "output_type": "execute_result",
          "data": {
            "text/plain": [
              "Text(0, 0.5, 'rating')"
            ]
          },
          "metadata": {},
          "execution_count": 31
        },
        {
          "output_type": "display_data",
          "data": {
            "text/plain": [
              "<Figure size 864x288 with 1 Axes>"
            ],
            "image/png": "[encoded data removed]"
          },
          "metadata": {
            "needs_background": "light"
          }
        }
      ],
      "source": [
        "wr_plot = qualified['wr'].plot.bar(figsize=(12, 4),color=color)\n",
        "wr_plot.set_title(\"Weight Rating Bar-Plot\")\n",
        "wr_plot.set_xlabel(\"productId\")\n",
        "wr_plot.set_ylabel(\"rating\")"
      ]
    },
    {
      "cell_type": "markdown",
      "id": "2826ce57",
      "metadata": {
        "papermill": {
          "duration": 0.06894,
          "end_time": "2021-11-30T00:10:05.597606",
          "exception": false,
          "start_time": "2021-11-30T00:10:05.528666",
          "status": "completed"
        },
        "tags": [],
        "id": "2826ce57"
      },
      "source": [
        "### **Collaborative Filtering (User-Item)**\n",
        "\n"
      ]
    },
    {
      "cell_type": "code",
      "execution_count": 32,
      "id": "9ddbfbb5",
      "metadata": {
        "execution": {
          "iopub.execute_input": "2021-11-30T00:10:06.433485Z",
          "iopub.status.busy": "2021-11-30T00:10:06.432287Z",
          "iopub.status.idle": "2021-11-30T00:10:06.435230Z",
          "shell.execute_reply": "2021-11-30T00:10:06.434594Z",
          "shell.execute_reply.started": "2021-11-29T06:43:02.849487Z"
        },
        "papermill": {
          "duration": 0.078743,
          "end_time": "2021-11-30T00:10:06.435405",
          "exception": false,
          "start_time": "2021-11-30T00:10:06.356662",
          "status": "completed"
        },
        "tags": [],
        "id": "9ddbfbb5"
      },
      "outputs": [],
      "source": [
        "reader = Reader()"
      ]
    },
    {
      "cell_type": "code",
      "execution_count": 33,
      "id": "1db1ae3f",
      "metadata": {
        "execution": {
          "iopub.execute_input": "2021-11-30T00:10:06.584071Z",
          "iopub.status.busy": "2021-11-30T00:10:06.582913Z",
          "iopub.status.idle": "2021-11-30T00:10:06.594516Z",
          "shell.execute_reply": "2021-11-30T00:10:06.595273Z",
          "shell.execute_reply.started": "2021-11-29T06:43:02.854175Z"
        },
        "papermill": {
          "duration": 0.089305,
          "end_time": "2021-11-30T00:10:06.595496",
          "exception": false,
          "start_time": "2021-11-30T00:10:06.506191",
          "status": "completed"
        },
        "tags": [],
        "id": "1db1ae3f",
        "outputId": "572efb2f-5df7-4679-acb6-7f3b25c6e200",
        "colab": {
          "base_uri": "https://localhost:8080/",
          "height": 206
        }
      },
      "outputs": [
        {
          "output_type": "execute_result",
          "data": {
            "text/plain": [
              "           userId   productId  rating   timestamp\n",
              "0   AKM1MP6P0OYPR  0132793040     5.0  1365811200\n",
              "1  A2CX7LUOHB2NDG  0321732944     5.0  1341100800\n",
              "2  A2NWSAGRHCP8N5  0439886341     1.0  1367193600\n",
              "3  A2WNBOD3WNDNKT  0439886341     3.0  1374451200\n",
              "4  A1GI0U4ZRJA8WN  0439886341     1.0  1334707200"
            ],
            "text/html": [
              "\n",
              "  <div id=\"df-82f9947a-f874-401b-ae75-ce6273679000\">\n",
              "    <div class=\"colab-df-container\">\n",
              "      <div>\n",
              "<style scoped>\n",
              "    .dataframe tbody tr th:only-of-type {\n",
              "        vertical-align: middle;\n",
              "    }\n",
              "\n",
              "    .dataframe tbody tr th {\n",
              "        vertical-align: top;\n",
              "    }\n",
              "\n",
              "    .dataframe thead th {\n",
              "        text-align: right;\n",
              "    }\n",
              "</style>\n",
              "<table border=\"1\" class=\"dataframe\">\n",
              "  <thead>\n",
              "    <tr style=\"text-align: right;\">\n",
              "      <th></th>\n",
              "      <th>userId</th>\n",
              "      <th>productId</th>\n",
              "      <th>rating</th>\n",
              "      <th>timestamp</th>\n",
              "    </tr>\n",
              "  </thead>\n",
              "  <tbody>\n",
              "    <tr>\n",
              "      <th>0</th>\n",
              "      <td>AKM1MP6P0OYPR</td>\n",
              "      <td>0132793040</td>\n",
              "      <td>5.0</td>\n",
              "      <td>1365811200</td>\n",
              "    </tr>\n",
              "    <tr>\n",
              "      <th>1</th>\n",
              "      <td>A2CX7LUOHB2NDG</td>\n",
              "      <td>0321732944</td>\n",
              "      <td>5.0</td>\n",
              "      <td>1341100800</td>\n",
              "    </tr>\n",
              "    <tr>\n",
              "      <th>2</th>\n",
              "      <td>A2NWSAGRHCP8N5</td>\n",
              "      <td>0439886341</td>\n",
              "      <td>1.0</td>\n",
              "      <td>1367193600</td>\n",
              "    </tr>\n",
              "    <tr>\n",
              "      <th>3</th>\n",
              "      <td>A2WNBOD3WNDNKT</td>\n",
              "      <td>0439886341</td>\n",
              "      <td>3.0</td>\n",
              "      <td>1374451200</td>\n",
              "    </tr>\n",
              "    <tr>\n",
              "      <th>4</th>\n",
              "      <td>A1GI0U4ZRJA8WN</td>\n",
              "      <td>0439886341</td>\n",
              "      <td>1.0</td>\n",
              "      <td>1334707200</td>\n",
              "    </tr>\n",
              "  </tbody>\n",
              "</table>\n",
              "</div>\n",
              "      <button class=\"colab-df-convert\" onclick=\"convertToInteractive('df-82f9947a-f874-401b-ae75-ce6273679000')\"\n",
              "              title=\"Convert this dataframe to an interactive table.\"\n",
              "              style=\"display:none;\">\n",
              "        \n",
              "  <svg xmlns=\"http://www.w3.org/2000/svg\" height=\"24px\"viewBox=\"0 0 24 24\"\n",
              "       width=\"24px\">\n",
              "    <path d=\"M0 0h24v24H0V0z\" fill=\"none\"/>\n",
              "    <path d=\"M18.56 5.44l.94 2.06.94-2.06 2.06-.94-2.06-.94-.94-2.06-.94 2.06-2.06.94zm-11 1L8.5 8.5l.94-2.06 2.06-.94-2.06-.94L8.5 2.5l-.94 2.06-2.06.94zm10 10l.94 2.06.94-2.06 2.06-.94-2.06-.94-.94-2.06-.94 2.06-2.06.94z\"/><path d=\"M17.41 7.96l-1.37-1.37c-.4-.4-.92-.59-1.43-.59-.52 0-1.04.2-1.43.59L10.3 9.45l-7.72 7.72c-.78.78-.78 2.05 0 2.83L4 21.41c.39.39.9.59 1.41.59.51 0 1.02-.2 1.41-.59l7.78-7.78 2.81-2.81c.8-.78.8-2.07 0-2.86zM5.41 20L4 18.59l7.72-7.72 1.47 1.35L5.41 20z\"/>\n",
              "  </svg>\n",
              "      </button>\n",
              "      \n",
              "  <style>\n",
              "    .colab-df-container {\n",
              "      display:flex;\n",
              "      flex-wrap:wrap;\n",
              "      gap: 12px;\n",
              "    }\n",
              "\n",
              "    .colab-df-convert {\n",
              "      background-color: #E8F0FE;\n",
              "      border: none;\n",
              "      border-radius: 50%;\n",
              "      cursor: pointer;\n",
              "      display: none;\n",
              "      fill: #1967D2;\n",
              "      height: 32px;\n",
              "      padding: 0 0 0 0;\n",
              "      width: 32px;\n",
              "    }\n",
              "\n",
              "    .colab-df-convert:hover {\n",
              "      background-color: #E2EBFA;\n",
              "      box-shadow: 0px 1px 2px rgba(60, 64, 67, 0.3), 0px 1px 3px 1px rgba(60, 64, 67, 0.15);\n",
              "      fill: #174EA6;\n",
              "    }\n",
              "\n",
              "    [theme=dark] .colab-df-convert {\n",
              "      background-color: #3B4455;\n",
              "      fill: #D2E3FC;\n",
              "    }\n",
              "\n",
              "    [theme=dark] .colab-df-convert:hover {\n",
              "      background-color: #434B5C;\n",
              "      box-shadow: 0px 1px 3px 1px rgba(0, 0, 0, 0.15);\n",
              "      filter: drop-shadow(0px 1px 2px rgba(0, 0, 0, 0.3));\n",
              "      fill: #FFFFFF;\n",
              "    }\n",
              "  </style>\n",
              "\n",
              "      <script>\n",
              "        const buttonEl =\n",
              "          document.querySelector('#df-82f9947a-f874-401b-ae75-ce6273679000 button.colab-df-convert');\n",
              "        buttonEl.style.display =\n",
              "          google.colab.kernel.accessAllowed ? 'block' : 'none';\n",
              "\n",
              "        async function convertToInteractive(key) {\n",
              "          const element = document.querySelector('#df-82f9947a-f874-401b-ae75-ce6273679000');\n",
              "          const dataTable =\n",
              "            await google.colab.kernel.invokeFunction('convertToInteractive',\n",
              "                                                     [key], {});\n",
              "          if (!dataTable) return;\n",
              "\n",
              "          const docLinkHtml = 'Like what you see? Visit the ' +\n",
              "            '<a target=\"_blank\" href=https://colab.research.google.com/notebooks/data_table.ipynb>data table notebook</a>'\n",
              "            + ' to learn more about interactive tables.';\n",
              "          element.innerHTML = '';\n",
              "          dataTable['output_type'] = 'display_data';\n",
              "          await google.colab.output.renderOutput(dataTable, element);\n",
              "          const docLink = document.createElement('div');\n",
              "          docLink.innerHTML = docLinkHtml;\n",
              "          element.appendChild(docLink);\n",
              "        }\n",
              "      </script>\n",
              "    </div>\n",
              "  </div>\n",
              "  "
            ]
          },
          "metadata": {},
          "execution_count": 33
        }
      ],
      "source": [
        "df.head()"
      ]
    },
    {
      "cell_type": "code",
      "execution_count": 34,
      "id": "17b17bb3",
      "metadata": {
        "execution": {
          "iopub.execute_input": "2021-11-30T00:10:06.741624Z",
          "iopub.status.busy": "2021-11-30T00:10:06.740478Z",
          "iopub.status.idle": "2021-11-30T00:10:06.755549Z",
          "shell.execute_reply": "2021-11-30T00:10:06.756296Z",
          "shell.execute_reply.started": "2021-11-29T06:43:02.878824Z"
        },
        "papermill": {
          "duration": 0.089968,
          "end_time": "2021-11-30T00:10:06.756530",
          "exception": false,
          "start_time": "2021-11-30T00:10:06.666562",
          "status": "completed"
        },
        "tags": [],
        "id": "17b17bb3"
      },
      "outputs": [],
      "source": [
        "data = Dataset.load_from_df(df[['userId', 'productId', 'rating']], reader)"
      ]
    },
    {
      "cell_type": "code",
      "execution_count": 35,
      "id": "26af8836",
      "metadata": {
        "execution": {
          "iopub.execute_input": "2021-11-30T00:10:06.909807Z",
          "iopub.status.busy": "2021-11-30T00:10:06.908647Z",
          "iopub.status.idle": "2021-11-30T00:10:09.113906Z",
          "shell.execute_reply": "2021-11-30T00:10:09.113161Z",
          "shell.execute_reply.started": "2021-11-29T06:43:02.890788Z"
        },
        "papermill": {
          "duration": 2.287036,
          "end_time": "2021-11-30T00:10:09.114117",
          "exception": false,
          "start_time": "2021-11-30T00:10:06.827081",
          "status": "completed"
        },
        "tags": [],
        "id": "26af8836",
        "outputId": "7fb7e861-225d-4c08-e295-74b7af4512c1",
        "colab": {
          "base_uri": "https://localhost:8080/"
        }
      },
      "outputs": [
        {
          "output_type": "stream",
          "name": "stdout",
          "text": [
            "Evaluating RMSE, MAE of algorithm SVD on 5 split(s).\n",
            "\n",
            "                  Fold 1  Fold 2  Fold 3  Fold 4  Fold 5  Mean    Std     \n",
            "RMSE (testset)    1.3346  1.3819  1.3674  1.3735  1.3770  1.3669  0.0168  \n",
            "MAE (testset)     1.0866  1.1197  1.1070  1.1197  1.1137  1.1093  0.0123  \n",
            "Fit time          0.66    0.57    0.66    0.84    0.61    0.67    0.09    \n",
            "Test time         0.06    0.04    0.01    0.02    0.01    0.03    0.02    \n"
          ]
        },
        {
          "output_type": "execute_result",
          "data": {
            "text/plain": [
              "{'test_rmse': array([1.33462206, 1.38187296, 1.36741865, 1.37345241, 1.37704786]),\n",
              " 'test_mae': array([1.08659106, 1.11972093, 1.10695719, 1.11971788, 1.11372155]),\n",
              " 'fit_time': (0.6627216339111328,\n",
              "  0.5709428787231445,\n",
              "  0.6556971073150635,\n",
              "  0.8422160148620605,\n",
              "  0.6108405590057373),\n",
              " 'test_time': (0.06450390815734863,\n",
              "  0.038596153259277344,\n",
              "  0.010948896408081055,\n",
              "  0.017654895782470703,\n",
              "  0.010602474212646484)}"
            ]
          },
          "metadata": {},
          "execution_count": 35
        }
      ],
      "source": [
        "# Use the famous SVD algorithm\n",
        "svd = SVD()\n",
        "\n",
        "# Run 5-fold cross-validation and then print results\n",
        "cross_validate(svd, data, measures=['RMSE', 'MAE'], cv=5, verbose=True)"
      ]
    },
    {
      "cell_type": "markdown",
      "id": "9c0b8506",
      "metadata": {
        "papermill": {
          "duration": 0.071919,
          "end_time": "2021-11-30T00:10:09.255905",
          "exception": false,
          "start_time": "2021-11-30T00:10:09.183986",
          "status": "completed"
        },
        "tags": [],
        "id": "9c0b8506"
      },
      "source": [
        "<div align='left'><font size=\"3\" color=\"#000000\">From these results, the mean Root Mean Square Error is not good for our case, this happens due to several factors such as lack of training data because we only apply 5000 data. Now let's train our dataset and make some predictions.\n",
        "</font></div>"
      ]
    },
    {
      "cell_type": "code",
      "execution_count": 36,
      "id": "036c8de5",
      "metadata": {
        "execution": {
          "iopub.execute_input": "2021-11-30T00:10:09.401511Z",
          "iopub.status.busy": "2021-11-30T00:10:09.400408Z",
          "iopub.status.idle": "2021-11-30T00:10:09.940064Z",
          "shell.execute_reply": "2021-11-30T00:10:09.940852Z",
          "shell.execute_reply.started": "2021-11-29T07:06:13.30915Z"
        },
        "papermill": {
          "duration": 0.613811,
          "end_time": "2021-11-30T00:10:09.941071",
          "exception": false,
          "start_time": "2021-11-30T00:10:09.327260",
          "status": "completed"
        },
        "tags": [],
        "id": "036c8de5",
        "outputId": "65ab9602-2025-4f17-b74c-baef5fbdc7d4",
        "colab": {
          "base_uri": "https://localhost:8080/"
        }
      },
      "outputs": [
        {
          "output_type": "execute_result",
          "data": {
            "text/plain": [
              "<surprise.prediction_algorithms.matrix_factorization.SVD at 0x7f4d15ebbad0>"
            ]
          },
          "metadata": {},
          "execution_count": 36
        }
      ],
      "source": [
        "trainset = data.build_full_trainset()\n",
        "svd.fit(trainset)"
      ]
    },
    {
      "cell_type": "code",
      "execution_count": 37,
      "id": "cd8ff71d",
      "metadata": {
        "execution": {
          "iopub.execute_input": "2021-11-30T00:10:10.098320Z",
          "iopub.status.busy": "2021-11-30T00:10:10.097455Z",
          "iopub.status.idle": "2021-11-30T00:10:10.101290Z",
          "shell.execute_reply": "2021-11-30T00:10:10.101864Z",
          "shell.execute_reply.started": "2021-11-29T07:08:06.2038Z"
        },
        "papermill": {
          "duration": 0.088658,
          "end_time": "2021-11-30T00:10:10.102077",
          "exception": false,
          "start_time": "2021-11-30T00:10:10.013419",
          "status": "completed"
        },
        "tags": [],
        "id": "cd8ff71d",
        "outputId": "2f182951-dfca-4d1c-c578-ef172c0c4c13",
        "colab": {
          "base_uri": "https://localhost:8080/",
          "height": 206
        }
      },
      "outputs": [
        {
          "output_type": "execute_result",
          "data": {
            "text/plain": [
              "           userId   productId  rating   timestamp\n",
              "0   AKM1MP6P0OYPR  0132793040     5.0  1365811200\n",
              "1  A2CX7LUOHB2NDG  0321732944     5.0  1341100800\n",
              "2  A2NWSAGRHCP8N5  0439886341     1.0  1367193600\n",
              "3  A2WNBOD3WNDNKT  0439886341     3.0  1374451200\n",
              "4  A1GI0U4ZRJA8WN  0439886341     1.0  1334707200"
            ],
            "text/html": [
              "\n",
              "  <div id=\"df-fd51b12f-04f4-4a4d-91e4-df41cd4e1d1b\">\n",
              "    <div class=\"colab-df-container\">\n",
              "      <div>\n",
              "<style scoped>\n",
              "    .dataframe tbody tr th:only-of-type {\n",
              "        vertical-align: middle;\n",
              "    }\n",
              "\n",
              "    .dataframe tbody tr th {\n",
              "        vertical-align: top;\n",
              "    }\n",
              "\n",
              "    .dataframe thead th {\n",
              "        text-align: right;\n",
              "    }\n",
              "</style>\n",
              "<table border=\"1\" class=\"dataframe\">\n",
              "  <thead>\n",
              "    <tr style=\"text-align: right;\">\n",
              "      <th></th>\n",
              "      <th>userId</th>\n",
              "      <th>productId</th>\n",
              "      <th>rating</th>\n",
              "      <th>timestamp</th>\n",
              "    </tr>\n",
              "  </thead>\n",
              "  <tbody>\n",
              "    <tr>\n",
              "      <th>0</th>\n",
              "      <td>AKM1MP6P0OYPR</td>\n",
              "      <td>0132793040</td>\n",
              "      <td>5.0</td>\n",
              "      <td>1365811200</td>\n",
              "    </tr>\n",
              "    <tr>\n",
              "      <th>1</th>\n",
              "      <td>A2CX7LUOHB2NDG</td>\n",
              "      <td>0321732944</td>\n",
              "      <td>5.0</td>\n",
              "      <td>1341100800</td>\n",
              "    </tr>\n",
              "    <tr>\n",
              "      <th>2</th>\n",
              "      <td>A2NWSAGRHCP8N5</td>\n",
              "      <td>0439886341</td>\n",
              "      <td>1.0</td>\n",
              "      <td>1367193600</td>\n",
              "    </tr>\n",
              "    <tr>\n",
              "      <th>3</th>\n",
              "      <td>A2WNBOD3WNDNKT</td>\n",
              "      <td>0439886341</td>\n",
              "      <td>3.0</td>\n",
              "      <td>1374451200</td>\n",
              "    </tr>\n",
              "    <tr>\n",
              "      <th>4</th>\n",
              "      <td>A1GI0U4ZRJA8WN</td>\n",
              "      <td>0439886341</td>\n",
              "      <td>1.0</td>\n",
              "      <td>1334707200</td>\n",
              "    </tr>\n",
              "  </tbody>\n",
              "</table>\n",
              "</div>\n",
              "      <button class=\"colab-df-convert\" onclick=\"convertToInteractive('df-fd51b12f-04f4-4a4d-91e4-df41cd4e1d1b')\"\n",
              "              title=\"Convert this dataframe to an interactive table.\"\n",
              "              style=\"display:none;\">\n",
              "        \n",
              "  <svg xmlns=\"http://www.w3.org/2000/svg\" height=\"24px\"viewBox=\"0 0 24 24\"\n",
              "       width=\"24px\">\n",
              "    <path d=\"M0 0h24v24H0V0z\" fill=\"none\"/>\n",
              "    <path d=\"M18.56 5.44l.94 2.06.94-2.06 2.06-.94-2.06-.94-.94-2.06-.94 2.06-2.06.94zm-11 1L8.5 8.5l.94-2.06 2.06-.94-2.06-.94L8.5 2.5l-.94 2.06-2.06.94zm10 10l.94 2.06.94-2.06 2.06-.94-2.06-.94-.94-2.06-.94 2.06-2.06.94z\"/><path d=\"M17.41 7.96l-1.37-1.37c-.4-.4-.92-.59-1.43-.59-.52 0-1.04.2-1.43.59L10.3 9.45l-7.72 7.72c-.78.78-.78 2.05 0 2.83L4 21.41c.39.39.9.59 1.41.59.51 0 1.02-.2 1.41-.59l7.78-7.78 2.81-2.81c.8-.78.8-2.07 0-2.86zM5.41 20L4 18.59l7.72-7.72 1.47 1.35L5.41 20z\"/>\n",
              "  </svg>\n",
              "      </button>\n",
              "      \n",
              "  <style>\n",
              "    .colab-df-container {\n",
              "      display:flex;\n",
              "      flex-wrap:wrap;\n",
              "      gap: 12px;\n",
              "    }\n",
              "\n",
              "    .colab-df-convert {\n",
              "      background-color: #E8F0FE;\n",
              "      border: none;\n",
              "      border-radius: 50%;\n",
              "      cursor: pointer;\n",
              "      display: none;\n",
              "      fill: #1967D2;\n",
              "      height: 32px;\n",
              "      padding: 0 0 0 0;\n",
              "      width: 32px;\n",
              "    }\n",
              "\n",
              "    .colab-df-convert:hover {\n",
              "      background-color: #E2EBFA;\n",
              "      box-shadow: 0px 1px 2px rgba(60, 64, 67, 0.3), 0px 1px 3px 1px rgba(60, 64, 67, 0.15);\n",
              "      fill: #174EA6;\n",
              "    }\n",
              "\n",
              "    [theme=dark] .colab-df-convert {\n",
              "      background-color: #3B4455;\n",
              "      fill: #D2E3FC;\n",
              "    }\n",
              "\n",
              "    [theme=dark] .colab-df-convert:hover {\n",
              "      background-color: #434B5C;\n",
              "      box-shadow: 0px 1px 3px 1px rgba(0, 0, 0, 0.15);\n",
              "      filter: drop-shadow(0px 1px 2px rgba(0, 0, 0, 0.3));\n",
              "      fill: #FFFFFF;\n",
              "    }\n",
              "  </style>\n",
              "\n",
              "      <script>\n",
              "        const buttonEl =\n",
              "          document.querySelector('#df-fd51b12f-04f4-4a4d-91e4-df41cd4e1d1b button.colab-df-convert');\n",
              "        buttonEl.style.display =\n",
              "          google.colab.kernel.accessAllowed ? 'block' : 'none';\n",
              "\n",
              "        async function convertToInteractive(key) {\n",
              "          const element = document.querySelector('#df-fd51b12f-04f4-4a4d-91e4-df41cd4e1d1b');\n",
              "          const dataTable =\n",
              "            await google.colab.kernel.invokeFunction('convertToInteractive',\n",
              "                                                     [key], {});\n",
              "          if (!dataTable) return;\n",
              "\n",
              "          const docLinkHtml = 'Like what you see? Visit the ' +\n",
              "            '<a target=\"_blank\" href=https://colab.research.google.com/notebooks/data_table.ipynb>data table notebook</a>'\n",
              "            + ' to learn more about interactive tables.';\n",
              "          element.innerHTML = '';\n",
              "          dataTable['output_type'] = 'display_data';\n",
              "          await google.colab.output.renderOutput(dataTable, element);\n",
              "          const docLink = document.createElement('div');\n",
              "          docLink.innerHTML = docLinkHtml;\n",
              "          element.appendChild(docLink);\n",
              "        }\n",
              "      </script>\n",
              "    </div>\n",
              "  </div>\n",
              "  "
            ]
          },
          "metadata": {},
          "execution_count": 37
        }
      ],
      "source": [
        "df.head()"
      ]
    },
    {
      "cell_type": "code",
      "execution_count": 38,
      "id": "abdf708a",
      "metadata": {
        "execution": {
          "iopub.execute_input": "2021-11-30T00:10:10.250540Z",
          "iopub.status.busy": "2021-11-30T00:10:10.249447Z",
          "iopub.status.idle": "2021-11-30T00:10:10.262296Z",
          "shell.execute_reply": "2021-11-30T00:10:10.261539Z",
          "shell.execute_reply.started": "2021-11-29T07:12:53.582782Z"
        },
        "papermill": {
          "duration": 0.088333,
          "end_time": "2021-11-30T00:10:10.262467",
          "exception": false,
          "start_time": "2021-11-30T00:10:10.174134",
          "status": "completed"
        },
        "tags": [],
        "id": "abdf708a",
        "outputId": "2b6dc048-6831-489c-e4f4-a52c976b1598",
        "colab": {
          "base_uri": "https://localhost:8080/"
        }
      },
      "outputs": [
        {
          "output_type": "execute_result",
          "data": {
            "text/plain": [
              "A3LDPF5FMB782Z    5\n",
              "A36V8NDDRZYRYO    3\n",
              "A3E7PG9CHDBICA    3\n",
              "AOY9SZTMNQWAW     3\n",
              "A2FHM5FB0BXKGA    3\n",
              "                 ..\n",
              "A1W92X1R9QNM2C    1\n",
              "A1KW4AGRCOIWI2    1\n",
              "A1B6WHCBJSNO6J    1\n",
              "A3BEVLI33Q0ZF4    1\n",
              "A1TYKVIT4FTMRO    1\n",
              "Name: userId, Length: 4929, dtype: int64"
            ]
          },
          "metadata": {},
          "execution_count": 38
        }
      ],
      "source": [
        "df['userId'].value_counts()"
      ]
    },
    {
      "cell_type": "code",
      "execution_count": 39,
      "id": "eabb9a23",
      "metadata": {
        "execution": {
          "iopub.execute_input": "2021-11-30T00:10:10.411287Z",
          "iopub.status.busy": "2021-11-30T00:10:10.410220Z",
          "iopub.status.idle": "2021-11-30T00:10:10.423988Z",
          "shell.execute_reply": "2021-11-30T00:10:10.424574Z",
          "shell.execute_reply.started": "2021-11-29T07:13:13.929828Z"
        },
        "papermill": {
          "duration": 0.08985,
          "end_time": "2021-11-30T00:10:10.424808",
          "exception": false,
          "start_time": "2021-11-30T00:10:10.334958",
          "status": "completed"
        },
        "tags": [],
        "id": "eabb9a23",
        "outputId": "b5f72304-35e4-4275-8db0-ccb6b3eb4def",
        "colab": {
          "base_uri": "https://localhost:8080/",
          "height": 206
        }
      },
      "outputs": [
        {
          "output_type": "execute_result",
          "data": {
            "text/plain": [
              "              userId   productId  rating   timestamp\n",
              "1310  A3LDPF5FMB782Z  1400501466     5.0  1336003200\n",
              "1588  A3LDPF5FMB782Z  1400501520     5.0  1362873600\n",
              "1696  A3LDPF5FMB782Z  1400501776     5.0  1334102400\n",
              "2502  A3LDPF5FMB782Z  140053271X     4.0  1310515200\n",
              "3235  A3LDPF5FMB782Z  1400698987     4.0  1392854400"
            ],
            "text/html": [
              "\n",
              "  <div id=\"df-a9175342-e16f-4c0d-90a8-81c8d8d9e706\">\n",
              "    <div class=\"colab-df-container\">\n",
              "      <div>\n",
              "<style scoped>\n",
              "    .dataframe tbody tr th:only-of-type {\n",
              "        vertical-align: middle;\n",
              "    }\n",
              "\n",
              "    .dataframe tbody tr th {\n",
              "        vertical-align: top;\n",
              "    }\n",
              "\n",
              "    .dataframe thead th {\n",
              "        text-align: right;\n",
              "    }\n",
              "</style>\n",
              "<table border=\"1\" class=\"dataframe\">\n",
              "  <thead>\n",
              "    <tr style=\"text-align: right;\">\n",
              "      <th></th>\n",
              "      <th>userId</th>\n",
              "      <th>productId</th>\n",
              "      <th>rating</th>\n",
              "      <th>timestamp</th>\n",
              "    </tr>\n",
              "  </thead>\n",
              "  <tbody>\n",
              "    <tr>\n",
              "      <th>1310</th>\n",
              "      <td>A3LDPF5FMB782Z</td>\n",
              "      <td>1400501466</td>\n",
              "      <td>5.0</td>\n",
              "      <td>1336003200</td>\n",
              "    </tr>\n",
              "    <tr>\n",
              "      <th>1588</th>\n",
              "      <td>A3LDPF5FMB782Z</td>\n",
              "      <td>1400501520</td>\n",
              "      <td>5.0</td>\n",
              "      <td>1362873600</td>\n",
              "    </tr>\n",
              "    <tr>\n",
              "      <th>1696</th>\n",
              "      <td>A3LDPF5FMB782Z</td>\n",
              "      <td>1400501776</td>\n",
              "      <td>5.0</td>\n",
              "      <td>1334102400</td>\n",
              "    </tr>\n",
              "    <tr>\n",
              "      <th>2502</th>\n",
              "      <td>A3LDPF5FMB782Z</td>\n",
              "      <td>140053271X</td>\n",
              "      <td>4.0</td>\n",
              "      <td>1310515200</td>\n",
              "    </tr>\n",
              "    <tr>\n",
              "      <th>3235</th>\n",
              "      <td>A3LDPF5FMB782Z</td>\n",
              "      <td>1400698987</td>\n",
              "      <td>4.0</td>\n",
              "      <td>1392854400</td>\n",
              "    </tr>\n",
              "  </tbody>\n",
              "</table>\n",
              "</div>\n",
              "      <button class=\"colab-df-convert\" onclick=\"convertToInteractive('df-a9175342-e16f-4c0d-90a8-81c8d8d9e706')\"\n",
              "              title=\"Convert this dataframe to an interactive table.\"\n",
              "              style=\"display:none;\">\n",
              "        \n",
              "  <svg xmlns=\"http://www.w3.org/2000/svg\" height=\"24px\"viewBox=\"0 0 24 24\"\n",
              "       width=\"24px\">\n",
              "    <path d=\"M0 0h24v24H0V0z\" fill=\"none\"/>\n",
              "    <path d=\"M18.56 5.44l.94 2.06.94-2.06 2.06-.94-2.06-.94-.94-2.06-.94 2.06-2.06.94zm-11 1L8.5 8.5l.94-2.06 2.06-.94-2.06-.94L8.5 2.5l-.94 2.06-2.06.94zm10 10l.94 2.06.94-2.06 2.06-.94-2.06-.94-.94-2.06-.94 2.06-2.06.94z\"/><path d=\"M17.41 7.96l-1.37-1.37c-.4-.4-.92-.59-1.43-.59-.52 0-1.04.2-1.43.59L10.3 9.45l-7.72 7.72c-.78.78-.78 2.05 0 2.83L4 21.41c.39.39.9.59 1.41.59.51 0 1.02-.2 1.41-.59l7.78-7.78 2.81-2.81c.8-.78.8-2.07 0-2.86zM5.41 20L4 18.59l7.72-7.72 1.47 1.35L5.41 20z\"/>\n",
              "  </svg>\n",
              "      </button>\n",
              "      \n",
              "  <style>\n",
              "    .colab-df-container {\n",
              "      display:flex;\n",
              "      flex-wrap:wrap;\n",
              "      gap: 12px;\n",
              "    }\n",
              "\n",
              "    .colab-df-convert {\n",
              "      background-color: #E8F0FE;\n",
              "      border: none;\n",
              "      border-radius: 50%;\n",
              "      cursor: pointer;\n",
              "      display: none;\n",
              "      fill: #1967D2;\n",
              "      height: 32px;\n",
              "      padding: 0 0 0 0;\n",
              "      width: 32px;\n",
              "    }\n",
              "\n",
              "    .colab-df-convert:hover {\n",
              "      background-color: #E2EBFA;\n",
              "      box-shadow: 0px 1px 2px rgba(60, 64, 67, 0.3), 0px 1px 3px 1px rgba(60, 64, 67, 0.15);\n",
              "      fill: #174EA6;\n",
              "    }\n",
              "\n",
              "    [theme=dark] .colab-df-convert {\n",
              "      background-color: #3B4455;\n",
              "      fill: #D2E3FC;\n",
              "    }\n",
              "\n",
              "    [theme=dark] .colab-df-convert:hover {\n",
              "      background-color: #434B5C;\n",
              "      box-shadow: 0px 1px 3px 1px rgba(0, 0, 0, 0.15);\n",
              "      filter: drop-shadow(0px 1px 2px rgba(0, 0, 0, 0.3));\n",
              "      fill: #FFFFFF;\n",
              "    }\n",
              "  </style>\n",
              "\n",
              "      <script>\n",
              "        const buttonEl =\n",
              "          document.querySelector('#df-a9175342-e16f-4c0d-90a8-81c8d8d9e706 button.colab-df-convert');\n",
              "        buttonEl.style.display =\n",
              "          google.colab.kernel.accessAllowed ? 'block' : 'none';\n",
              "\n",
              "        async function convertToInteractive(key) {\n",
              "          const element = document.querySelector('#df-a9175342-e16f-4c0d-90a8-81c8d8d9e706');\n",
              "          const dataTable =\n",
              "            await google.colab.kernel.invokeFunction('convertToInteractive',\n",
              "                                                     [key], {});\n",
              "          if (!dataTable) return;\n",
              "\n",
              "          const docLinkHtml = 'Like what you see? Visit the ' +\n",
              "            '<a target=\"_blank\" href=https://colab.research.google.com/notebooks/data_table.ipynb>data table notebook</a>'\n",
              "            + ' to learn more about interactive tables.';\n",
              "          element.innerHTML = '';\n",
              "          dataTable['output_type'] = 'display_data';\n",
              "          await google.colab.output.renderOutput(dataTable, element);\n",
              "          const docLink = document.createElement('div');\n",
              "          docLink.innerHTML = docLinkHtml;\n",
              "          element.appendChild(docLink);\n",
              "        }\n",
              "      </script>\n",
              "    </div>\n",
              "  </div>\n",
              "  "
            ]
          },
          "metadata": {},
          "execution_count": 39
        }
      ],
      "source": [
        "# Check specific userId review\n",
        "df[df['userId'] == 'A3LDPF5FMB782Z']"
      ]
    },
    {
      "cell_type": "code",
      "execution_count": 60,
      "id": "a1caf089",
      "metadata": {
        "execution": {
          "iopub.execute_input": "2021-11-30T00:10:10.573476Z",
          "iopub.status.busy": "2021-11-30T00:10:10.572745Z",
          "iopub.status.idle": "2021-11-30T00:10:10.576363Z",
          "shell.execute_reply": "2021-11-30T00:10:10.577087Z",
          "shell.execute_reply.started": "2021-11-29T07:15:40.780736Z"
        },
        "papermill": {
          "duration": 0.081462,
          "end_time": "2021-11-30T00:10:10.577284",
          "exception": false,
          "start_time": "2021-11-30T00:10:10.495822",
          "status": "completed"
        },
        "tags": [],
        "id": "a1caf089",
        "outputId": "59df1a78-10a8-4079-e295-ae5cf65ed32e",
        "colab": {
          "base_uri": "https://localhost:8080/"
        }
      },
      "outputs": [
        {
          "output_type": "execute_result",
          "data": {
            "text/plain": [
              "Prediction(uid='A3LDPF5FMB782Z', iid='1400501776', r_ui=None, est=4.809299377833505, details={'was_impossible': False})"
            ]
          },
          "metadata": {},
          "execution_count": 60
        }
      ],
      "source": [
        "# predict based on this data\n",
        "svd.predict('A3LDPF5FMB782Z', '1400501776')"
      ]
    },
    {
      "cell_type": "markdown",
      "id": "b84a621d",
      "metadata": {
        "papermill": {
          "duration": 0.071731,
          "end_time": "2021-11-30T00:10:10.720936",
          "exception": false,
          "start_time": "2021-11-30T00:10:10.649205",
          "status": "completed"
        },
        "tags": [],
        "id": "b84a621d"
      },
      "source": [
        "<div align='left'><font size=\"3\" color=\"#000000\">From the prediction results, we have estimation that are quite close to the actual value.\n",
        "</font></div>"
      ]
    },
    {
      "cell_type": "markdown",
      "source": [
        "## **Cosine Similarity**"
      ],
      "metadata": {
        "id": "KwnjqWo6BLRn"
      },
      "id": "KwnjqWo6BLRn"
    },
    {
      "cell_type": "markdown",
      "source": [
        "### Filtering the dataset"
      ],
      "metadata": {
        "id": "HcvD0EIPa0Nc"
      },
      "id": "HcvD0EIPa0Nc"
    },
    {
      "cell_type": "code",
      "source": [
        "ratings_per_user = df1.groupby('userId')['rating'].count()\n",
        "ratings_per_product = df1.groupby('productId')['rating'].count()"
      ],
      "metadata": {
        "id": "Ab5OZQq4azKc"
      },
      "id": "Ab5OZQq4azKc",
      "execution_count": 41,
      "outputs": []
    },
    {
      "cell_type": "code",
      "source": [
        "#removing products with less number of ratings\n",
        "ratings_per_product_df =pd.DataFrame(ratings_per_product)\n",
        "filtered_ratings_per_products_df = ratings_per_product_df[ratings_per_product_df.rating>=850]\n",
        "popular_product = filtered_ratings_per_products_df.index.tolist()\n",
        "print(filtered_ratings_per_products_df)"
      ],
      "metadata": {
        "colab": {
          "base_uri": "https://localhost:8080/"
        },
        "id": "-fmJ00uAa44Z",
        "outputId": "fb3b1e6c-4df1-47a3-e885-c17d3e71790d"
      },
      "id": "-fmJ00uAa44Z",
      "execution_count": 42,
      "outputs": [
        {
          "output_type": "stream",
          "name": "stdout",
          "text": [
            "            rating\n",
            "productId         \n",
            "0972683275    1051\n",
            "B00001P4ZH    2075\n",
            "B00001WRSJ    1586\n",
            "B00004SABB    1030\n",
            "B00004SB92    1006\n",
            "...            ...\n",
            "B00FFJ0HUE    1278\n",
            "B00FNPD1VW    1607\n",
            "B00G2TK76A     998\n",
            "B00GTGETFG    2667\n",
            "B00INNP5VU    1097\n",
            "\n",
            "[858 rows x 1 columns]\n"
          ]
        }
      ]
    },
    {
      "cell_type": "code",
      "source": [
        "#removing users who gave low number of ratings\n",
        "ratings_per_user_df = pd.DataFrame(ratings_per_user)\n",
        "filtered_ratings_per_user_df = ratings_per_user_df[ratings_per_user_df.rating>= 70]\n",
        "pro_users = filtered_ratings_per_user_df.index.tolist()\n",
        "print(filtered_ratings_per_user_df)"
      ],
      "metadata": {
        "colab": {
          "base_uri": "https://localhost:8080/"
        },
        "id": "lBYJBVUBa85A",
        "outputId": "f01f5dbe-636d-4126-e258-52dda75f5295"
      },
      "id": "lBYJBVUBa85A",
      "execution_count": 43,
      "outputs": [
        {
          "output_type": "stream",
          "name": "stdout",
          "text": [
            "                rating\n",
            "userId                \n",
            "A100UD67AHFODS     116\n",
            "A100WO06OQR8BQ     132\n",
            "A105TOJ6LTVMBG      71\n",
            "A10NMELR4KX0J6      96\n",
            "A10O7THJ2O20AG      80\n",
            "...                ...\n",
            "AYNAH993VDECT       81\n",
            "AYOTEJ617O60K       81\n",
            "AZ515FFZ7I2P7      144\n",
            "AZAC8O310IK4E      103\n",
            "AZMY6E8B52L2T      189\n",
            "\n",
            "[688 rows x 1 columns]\n"
          ]
        }
      ]
    },
    {
      "cell_type": "code",
      "source": [
        "filtered_ratings = df1[df1.productId.isin(popular_product)]\n",
        "filtered_ratings = df1[df1.userId.isin(pro_users)]\n",
        "\n",
        "len(filtered_ratings)"
      ],
      "metadata": {
        "colab": {
          "base_uri": "https://localhost:8080/"
        },
        "id": "__SIO9-0dRzh",
        "outputId": "cd717757-f103-4736-a3ac-b9d652fb0918"
      },
      "id": "__SIO9-0dRzh",
      "execution_count": 45,
      "outputs": [
        {
          "output_type": "execute_result",
          "data": {
            "text/plain": [
              "76682"
            ]
          },
          "metadata": {},
          "execution_count": 45
        }
      ]
    },
    {
      "cell_type": "markdown",
      "source": [
        "### Matrix to see user-product matches"
      ],
      "metadata": {
        "id": "7DQ6Ra0TddIp"
      },
      "id": "7DQ6Ra0TddIp"
    },
    {
      "cell_type": "code",
      "source": [
        "#converting matrix to pivot table\n",
        "rating_matrix = pd.pivot_table(filtered_ratings, index='userId', columns = 'productId',values='rating' )\n",
        "#converting null values to 0\n",
        "rating_matrix = rating_matrix.fillna(0)\n",
        "\n",
        "n_users = len(rating_matrix.index)\n",
        "n_products = len(rating_matrix.columns)\n",
        "\n",
        "print(f\"Users: {n_users}\\nProducts: {n_products}\")\n",
        "\n",
        "rating_matrix.head()"
      ],
      "metadata": {
        "colab": {
          "base_uri": "https://localhost:8080/",
          "height": 365
        },
        "id": "b3IUfWMMdUPY",
        "outputId": "4c4fb909-fcd9-427f-a2a9-9d8ffa5290ad"
      },
      "id": "b3IUfWMMdUPY",
      "execution_count": 46,
      "outputs": [
        {
          "output_type": "stream",
          "name": "stdout",
          "text": [
            "Users: 688\n",
            "Products: 33428\n"
          ]
        },
        {
          "output_type": "execute_result",
          "data": {
            "text/plain": [
              "productId       0594481813  0970407998  0972683275  1400501466  1400501776  \\\n",
              "userId                                                                       \n",
              "A100UD67AHFODS         0.0         0.0         0.0         0.0         0.0   \n",
              "A100WO06OQR8BQ         0.0         0.0         0.0         0.0         0.0   \n",
              "A105TOJ6LTVMBG         0.0         0.0         0.0         0.0         0.0   \n",
              "A10NMELR4KX0J6         0.0         0.0         0.0         0.0         0.0   \n",
              "A10O7THJ2O20AG         0.0         0.0         0.0         0.0         0.0   \n",
              "\n",
              "productId       1400532620  1400532655  1400599997  1400699169  1685560148  \\\n",
              "userId                                                                       \n",
              "A100UD67AHFODS         0.0         0.0         0.0         0.0         0.0   \n",
              "A100WO06OQR8BQ         0.0         0.0         0.0         0.0         0.0   \n",
              "A105TOJ6LTVMBG         0.0         0.0         0.0         0.0         0.0   \n",
              "A10NMELR4KX0J6         0.0         0.0         0.0         0.0         0.0   \n",
              "A10O7THJ2O20AG         0.0         0.0         0.0         0.0         0.0   \n",
              "\n",
              "productId       ...  B00L3YHF6O  B00L403O94  B00L43HAY6  B00L5YZCCG  \\\n",
              "userId          ...                                                   \n",
              "A100UD67AHFODS  ...         0.0         0.0         0.0         0.0   \n",
              "A100WO06OQR8BQ  ...         0.0         0.0         0.0         0.0   \n",
              "A105TOJ6LTVMBG  ...         0.0         0.0         0.0         0.0   \n",
              "A10NMELR4KX0J6  ...         0.0         0.0         0.0         0.0   \n",
              "A10O7THJ2O20AG  ...         0.0         0.0         0.0         0.0   \n",
              "\n",
              "productId       B00L8I6SFY  B00LA6T0LS  B00LBZ1Z7K  B00LGQ6HL8  B00LI4ZZO8  \\\n",
              "userId                                                                       \n",
              "A100UD67AHFODS         0.0         0.0         0.0         0.0         0.0   \n",
              "A100WO06OQR8BQ         0.0         0.0         0.0         0.0         0.0   \n",
              "A105TOJ6LTVMBG         0.0         0.0         0.0         0.0         0.0   \n",
              "A10NMELR4KX0J6         0.0         0.0         0.0         0.0         0.0   \n",
              "A10O7THJ2O20AG         0.0         0.0         0.0         0.0         0.0   \n",
              "\n",
              "productId       B00LKG1MC8  \n",
              "userId                      \n",
              "A100UD67AHFODS         0.0  \n",
              "A100WO06OQR8BQ         0.0  \n",
              "A105TOJ6LTVMBG         0.0  \n",
              "A10NMELR4KX0J6         0.0  \n",
              "A10O7THJ2O20AG         0.0  \n",
              "\n",
              "[5 rows x 33428 columns]"
            ],
            "text/html": [
              "\n",
              "  <div id=\"df-f5b51502-20a9-411d-ad75-c5fa8ba6700c\">\n",
              "    <div class=\"colab-df-container\">\n",
              "      <div>\n",
              "<style scoped>\n",
              "    .dataframe tbody tr th:only-of-type {\n",
              "        vertical-align: middle;\n",
              "    }\n",
              "\n",
              "    .dataframe tbody tr th {\n",
              "        vertical-align: top;\n",
              "    }\n",
              "\n",
              "    .dataframe thead th {\n",
              "        text-align: right;\n",
              "    }\n",
              "</style>\n",
              "<table border=\"1\" class=\"dataframe\">\n",
              "  <thead>\n",
              "    <tr style=\"text-align: right;\">\n",
              "      <th>productId</th>\n",
              "      <th>0594481813</th>\n",
              "      <th>0970407998</th>\n",
              "      <th>0972683275</th>\n",
              "      <th>1400501466</th>\n",
              "      <th>1400501776</th>\n",
              "      <th>1400532620</th>\n",
              "      <th>1400532655</th>\n",
              "      <th>1400599997</th>\n",
              "      <th>1400699169</th>\n",
              "      <th>1685560148</th>\n",
              "      <th>...</th>\n",
              "      <th>B00L3YHF6O</th>\n",
              "      <th>B00L403O94</th>\n",
              "      <th>B00L43HAY6</th>\n",
              "      <th>B00L5YZCCG</th>\n",
              "      <th>B00L8I6SFY</th>\n",
              "      <th>B00LA6T0LS</th>\n",
              "      <th>B00LBZ1Z7K</th>\n",
              "      <th>B00LGQ6HL8</th>\n",
              "      <th>B00LI4ZZO8</th>\n",
              "      <th>B00LKG1MC8</th>\n",
              "    </tr>\n",
              "    <tr>\n",
              "      <th>userId</th>\n",
              "      <th></th>\n",
              "      <th></th>\n",
              "      <th></th>\n",
              "      <th></th>\n",
              "      <th></th>\n",
              "      <th></th>\n",
              "      <th></th>\n",
              "      <th></th>\n",
              "      <th></th>\n",
              "      <th></th>\n",
              "      <th></th>\n",
              "      <th></th>\n",
              "      <th></th>\n",
              "      <th></th>\n",
              "      <th></th>\n",
              "      <th></th>\n",
              "      <th></th>\n",
              "      <th></th>\n",
              "      <th></th>\n",
              "      <th></th>\n",
              "      <th></th>\n",
              "    </tr>\n",
              "  </thead>\n",
              "  <tbody>\n",
              "    <tr>\n",
              "      <th>A100UD67AHFODS</th>\n",
              "      <td>0.0</td>\n",
              "      <td>0.0</td>\n",
              "      <td>0.0</td>\n",
              "      <td>0.0</td>\n",
              "      <td>0.0</td>\n",
              "      <td>0.0</td>\n",
              "      <td>0.0</td>\n",
              "      <td>0.0</td>\n",
              "      <td>0.0</td>\n",
              "      <td>0.0</td>\n",
              "      <td>...</td>\n",
              "      <td>0.0</td>\n",
              "      <td>0.0</td>\n",
              "      <td>0.0</td>\n",
              "      <td>0.0</td>\n",
              "      <td>0.0</td>\n",
              "      <td>0.0</td>\n",
              "      <td>0.0</td>\n",
              "      <td>0.0</td>\n",
              "      <td>0.0</td>\n",
              "      <td>0.0</td>\n",
              "    </tr>\n",
              "    <tr>\n",
              "      <th>A100WO06OQR8BQ</th>\n",
              "      <td>0.0</td>\n",
              "      <td>0.0</td>\n",
              "      <td>0.0</td>\n",
              "      <td>0.0</td>\n",
              "      <td>0.0</td>\n",
              "      <td>0.0</td>\n",
              "      <td>0.0</td>\n",
              "      <td>0.0</td>\n",
              "      <td>0.0</td>\n",
              "      <td>0.0</td>\n",
              "      <td>...</td>\n",
              "      <td>0.0</td>\n",
              "      <td>0.0</td>\n",
              "      <td>0.0</td>\n",
              "      <td>0.0</td>\n",
              "      <td>0.0</td>\n",
              "      <td>0.0</td>\n",
              "      <td>0.0</td>\n",
              "      <td>0.0</td>\n",
              "      <td>0.0</td>\n",
              "      <td>0.0</td>\n",
              "    </tr>\n",
              "    <tr>\n",
              "      <th>A105TOJ6LTVMBG</th>\n",
              "      <td>0.0</td>\n",
              "      <td>0.0</td>\n",
              "      <td>0.0</td>\n",
              "      <td>0.0</td>\n",
              "      <td>0.0</td>\n",
              "      <td>0.0</td>\n",
              "      <td>0.0</td>\n",
              "      <td>0.0</td>\n",
              "      <td>0.0</td>\n",
              "      <td>0.0</td>\n",
              "      <td>...</td>\n",
              "      <td>0.0</td>\n",
              "      <td>0.0</td>\n",
              "      <td>0.0</td>\n",
              "      <td>0.0</td>\n",
              "      <td>0.0</td>\n",
              "      <td>0.0</td>\n",
              "      <td>0.0</td>\n",
              "      <td>0.0</td>\n",
              "      <td>0.0</td>\n",
              "      <td>0.0</td>\n",
              "    </tr>\n",
              "    <tr>\n",
              "      <th>A10NMELR4KX0J6</th>\n",
              "      <td>0.0</td>\n",
              "      <td>0.0</td>\n",
              "      <td>0.0</td>\n",
              "      <td>0.0</td>\n",
              "      <td>0.0</td>\n",
              "      <td>0.0</td>\n",
              "      <td>0.0</td>\n",
              "      <td>0.0</td>\n",
              "      <td>0.0</td>\n",
              "      <td>0.0</td>\n",
              "      <td>...</td>\n",
              "      <td>0.0</td>\n",
              "      <td>0.0</td>\n",
              "      <td>0.0</td>\n",
              "      <td>0.0</td>\n",
              "      <td>0.0</td>\n",
              "      <td>0.0</td>\n",
              "      <td>0.0</td>\n",
              "      <td>0.0</td>\n",
              "      <td>0.0</td>\n",
              "      <td>0.0</td>\n",
              "    </tr>\n",
              "    <tr>\n",
              "      <th>A10O7THJ2O20AG</th>\n",
              "      <td>0.0</td>\n",
              "      <td>0.0</td>\n",
              "      <td>0.0</td>\n",
              "      <td>0.0</td>\n",
              "      <td>0.0</td>\n",
              "      <td>0.0</td>\n",
              "      <td>0.0</td>\n",
              "      <td>0.0</td>\n",
              "      <td>0.0</td>\n",
              "      <td>0.0</td>\n",
              "      <td>...</td>\n",
              "      <td>0.0</td>\n",
              "      <td>0.0</td>\n",
              "      <td>0.0</td>\n",
              "      <td>0.0</td>\n",
              "      <td>0.0</td>\n",
              "      <td>0.0</td>\n",
              "      <td>0.0</td>\n",
              "      <td>0.0</td>\n",
              "      <td>0.0</td>\n",
              "      <td>0.0</td>\n",
              "    </tr>\n",
              "  </tbody>\n",
              "</table>\n",
              "<p>5 rows × 33428 columns</p>\n",
              "</div>\n",
              "      <button class=\"colab-df-convert\" onclick=\"convertToInteractive('df-f5b51502-20a9-411d-ad75-c5fa8ba6700c')\"\n",
              "              title=\"Convert this dataframe to an interactive table.\"\n",
              "              style=\"display:none;\">\n",
              "        \n",
              "  <svg xmlns=\"http://www.w3.org/2000/svg\" height=\"24px\"viewBox=\"0 0 24 24\"\n",
              "       width=\"24px\">\n",
              "    <path d=\"M0 0h24v24H0V0z\" fill=\"none\"/>\n",
              "    <path d=\"M18.56 5.44l.94 2.06.94-2.06 2.06-.94-2.06-.94-.94-2.06-.94 2.06-2.06.94zm-11 1L8.5 8.5l.94-2.06 2.06-.94-2.06-.94L8.5 2.5l-.94 2.06-2.06.94zm10 10l.94 2.06.94-2.06 2.06-.94-2.06-.94-.94-2.06-.94 2.06-2.06.94z\"/><path d=\"M17.41 7.96l-1.37-1.37c-.4-.4-.92-.59-1.43-.59-.52 0-1.04.2-1.43.59L10.3 9.45l-7.72 7.72c-.78.78-.78 2.05 0 2.83L4 21.41c.39.39.9.59 1.41.59.51 0 1.02-.2 1.41-.59l7.78-7.78 2.81-2.81c.8-.78.8-2.07 0-2.86zM5.41 20L4 18.59l7.72-7.72 1.47 1.35L5.41 20z\"/>\n",
              "  </svg>\n",
              "      </button>\n",
              "      \n",
              "  <style>\n",
              "    .colab-df-container {\n",
              "      display:flex;\n",
              "      flex-wrap:wrap;\n",
              "      gap: 12px;\n",
              "    }\n",
              "\n",
              "    .colab-df-convert {\n",
              "      background-color: #E8F0FE;\n",
              "      border: none;\n",
              "      border-radius: 50%;\n",
              "      cursor: pointer;\n",
              "      display: none;\n",
              "      fill: #1967D2;\n",
              "      height: 32px;\n",
              "      padding: 0 0 0 0;\n",
              "      width: 32px;\n",
              "    }\n",
              "\n",
              "    .colab-df-convert:hover {\n",
              "      background-color: #E2EBFA;\n",
              "      box-shadow: 0px 1px 2px rgba(60, 64, 67, 0.3), 0px 1px 3px 1px rgba(60, 64, 67, 0.15);\n",
              "      fill: #174EA6;\n",
              "    }\n",
              "\n",
              "    [theme=dark] .colab-df-convert {\n",
              "      background-color: #3B4455;\n",
              "      fill: #D2E3FC;\n",
              "    }\n",
              "\n",
              "    [theme=dark] .colab-df-convert:hover {\n",
              "      background-color: #434B5C;\n",
              "      box-shadow: 0px 1px 3px 1px rgba(0, 0, 0, 0.15);\n",
              "      filter: drop-shadow(0px 1px 2px rgba(0, 0, 0, 0.3));\n",
              "      fill: #FFFFFF;\n",
              "    }\n",
              "  </style>\n",
              "\n",
              "      <script>\n",
              "        const buttonEl =\n",
              "          document.querySelector('#df-f5b51502-20a9-411d-ad75-c5fa8ba6700c button.colab-df-convert');\n",
              "        buttonEl.style.display =\n",
              "          google.colab.kernel.accessAllowed ? 'block' : 'none';\n",
              "\n",
              "        async function convertToInteractive(key) {\n",
              "          const element = document.querySelector('#df-f5b51502-20a9-411d-ad75-c5fa8ba6700c');\n",
              "          const dataTable =\n",
              "            await google.colab.kernel.invokeFunction('convertToInteractive',\n",
              "                                                     [key], {});\n",
              "          if (!dataTable) return;\n",
              "\n",
              "          const docLinkHtml = 'Like what you see? Visit the ' +\n",
              "            '<a target=\"_blank\" href=https://colab.research.google.com/notebooks/data_table.ipynb>data table notebook</a>'\n",
              "            + ' to learn more about interactive tables.';\n",
              "          element.innerHTML = '';\n",
              "          dataTable['output_type'] = 'display_data';\n",
              "          await google.colab.output.renderOutput(dataTable, element);\n",
              "          const docLink = document.createElement('div');\n",
              "          docLink.innerHTML = docLinkHtml;\n",
              "          element.appendChild(docLink);\n",
              "        }\n",
              "      </script>\n",
              "    </div>\n",
              "  </div>\n",
              "  "
            ]
          },
          "metadata": {},
          "execution_count": 46
        }
      ]
    },
    {
      "cell_type": "code",
      "source": [
        "def train_test_split(data: np.array, n_users: int, n_products:int): \n",
        "    # we created 0 matrices to create the test matrix\n",
        "    test = np.zeros((n_users, n_products))\n",
        "    train = data.copy()\n",
        "    \n",
        "    #for each user, we reserve the 5 products they bought for testing\n",
        "    for user in range(n_users):\n",
        "        random_sample = np.random.choice(data[user, :].nonzero()[0], \n",
        "                                         size=5, \n",
        "                                         replace=False)\n",
        "        # equal 0 as if they did not receive the products we just pulled in the train\n",
        "        train[user, random_sample] = 0. \n",
        "        test[user, random_sample] = data[user, random_sample]\n",
        "        \n",
        "    return train, test\n",
        "train, test = train_test_split(data=rating_matrix.to_numpy(), n_users=n_users, n_products=n_products)\n",
        "\n",
        "train_df = pd.DataFrame(train)\n",
        "test_df = pd.DataFrame(test)"
      ],
      "metadata": {
        "id": "-CpB0cvcdiCA"
      },
      "id": "-CpB0cvcdiCA",
      "execution_count": 47,
      "outputs": []
    },
    {
      "cell_type": "code",
      "source": [
        "#convert train matrix to dataframe\n",
        "train_df.index = rating_matrix.index\n",
        "train_df.columns = rating_matrix.columns\n",
        "train_df"
      ],
      "metadata": {
        "colab": {
          "base_uri": "https://localhost:8080/",
          "height": 519
        },
        "id": "ACL58mMXd6S4",
        "outputId": "224ee245-4e86-4619-809f-97262a2aaa28"
      },
      "id": "ACL58mMXd6S4",
      "execution_count": 48,
      "outputs": [
        {
          "output_type": "execute_result",
          "data": {
            "text/plain": [
              "productId       0594481813  0970407998  0972683275  1400501466  1400501776  \\\n",
              "userId                                                                       \n",
              "A100UD67AHFODS         0.0         0.0         0.0         0.0         0.0   \n",
              "A100WO06OQR8BQ         0.0         0.0         0.0         0.0         0.0   \n",
              "A105TOJ6LTVMBG         0.0         0.0         0.0         0.0         0.0   \n",
              "A10NMELR4KX0J6         0.0         0.0         0.0         0.0         0.0   \n",
              "A10O7THJ2O20AG         0.0         0.0         0.0         0.0         0.0   \n",
              "...                    ...         ...         ...         ...         ...   \n",
              "AYNAH993VDECT          0.0         0.0         0.0         0.0         0.0   \n",
              "AYOTEJ617O60K          0.0         0.0         0.0         0.0         0.0   \n",
              "AZ515FFZ7I2P7          0.0         0.0         0.0         0.0         0.0   \n",
              "AZAC8O310IK4E          0.0         0.0         0.0         0.0         0.0   \n",
              "AZMY6E8B52L2T          0.0         0.0         0.0         0.0         0.0   \n",
              "\n",
              "productId       1400532620  1400532655  1400599997  1400699169  1685560148  \\\n",
              "userId                                                                       \n",
              "A100UD67AHFODS         0.0         0.0         0.0         0.0         0.0   \n",
              "A100WO06OQR8BQ         0.0         0.0         0.0         0.0         0.0   \n",
              "A105TOJ6LTVMBG         0.0         0.0         0.0         0.0         0.0   \n",
              "A10NMELR4KX0J6         0.0         0.0         0.0         0.0         0.0   \n",
              "A10O7THJ2O20AG         0.0         0.0         0.0         0.0         0.0   \n",
              "...                    ...         ...         ...         ...         ...   \n",
              "AYNAH993VDECT          0.0         0.0         0.0         0.0         0.0   \n",
              "AYOTEJ617O60K          0.0         0.0         0.0         0.0         0.0   \n",
              "AZ515FFZ7I2P7          0.0         0.0         0.0         0.0         0.0   \n",
              "AZAC8O310IK4E          0.0         0.0         0.0         0.0         0.0   \n",
              "AZMY6E8B52L2T          0.0         0.0         0.0         0.0         0.0   \n",
              "\n",
              "productId       ...  B00L3YHF6O  B00L403O94  B00L43HAY6  B00L5YZCCG  \\\n",
              "userId          ...                                                   \n",
              "A100UD67AHFODS  ...         0.0         0.0         0.0         0.0   \n",
              "A100WO06OQR8BQ  ...         0.0         0.0         0.0         0.0   \n",
              "A105TOJ6LTVMBG  ...         0.0         0.0         0.0         0.0   \n",
              "A10NMELR4KX0J6  ...         0.0         0.0         0.0         0.0   \n",
              "A10O7THJ2O20AG  ...         0.0         0.0         0.0         0.0   \n",
              "...             ...         ...         ...         ...         ...   \n",
              "AYNAH993VDECT   ...         0.0         0.0         0.0         0.0   \n",
              "AYOTEJ617O60K   ...         0.0         0.0         0.0         0.0   \n",
              "AZ515FFZ7I2P7   ...         0.0         0.0         0.0         0.0   \n",
              "AZAC8O310IK4E   ...         0.0         0.0         0.0         0.0   \n",
              "AZMY6E8B52L2T   ...         0.0         0.0         0.0         0.0   \n",
              "\n",
              "productId       B00L8I6SFY  B00LA6T0LS  B00LBZ1Z7K  B00LGQ6HL8  B00LI4ZZO8  \\\n",
              "userId                                                                       \n",
              "A100UD67AHFODS         0.0         0.0         0.0         0.0         0.0   \n",
              "A100WO06OQR8BQ         0.0         0.0         0.0         0.0         0.0   \n",
              "A105TOJ6LTVMBG         0.0         0.0         0.0         0.0         0.0   \n",
              "A10NMELR4KX0J6         0.0         0.0         0.0         0.0         0.0   \n",
              "A10O7THJ2O20AG         0.0         0.0         0.0         0.0         0.0   \n",
              "...                    ...         ...         ...         ...         ...   \n",
              "AYNAH993VDECT          0.0         0.0         0.0         0.0         0.0   \n",
              "AYOTEJ617O60K          0.0         0.0         0.0         0.0         0.0   \n",
              "AZ515FFZ7I2P7          0.0         0.0         0.0         0.0         0.0   \n",
              "AZAC8O310IK4E          0.0         0.0         0.0         0.0         0.0   \n",
              "AZMY6E8B52L2T          0.0         0.0         0.0         0.0         0.0   \n",
              "\n",
              "productId       B00LKG1MC8  \n",
              "userId                      \n",
              "A100UD67AHFODS         0.0  \n",
              "A100WO06OQR8BQ         0.0  \n",
              "A105TOJ6LTVMBG         0.0  \n",
              "A10NMELR4KX0J6         0.0  \n",
              "A10O7THJ2O20AG         0.0  \n",
              "...                    ...  \n",
              "AYNAH993VDECT          0.0  \n",
              "AYOTEJ617O60K          0.0  \n",
              "AZ515FFZ7I2P7          0.0  \n",
              "AZAC8O310IK4E          0.0  \n",
              "AZMY6E8B52L2T          0.0  \n",
              "\n",
              "[688 rows x 33428 columns]"
            ],
            "text/html": [
              "\n",
              "  <div id=\"df-f91e2253-6cff-4196-8bd1-162d3fa7652f\">\n",
              "    <div class=\"colab-df-container\">\n",
              "      <div>\n",
              "<style scoped>\n",
              "    .dataframe tbody tr th:only-of-type {\n",
              "        vertical-align: middle;\n",
              "    }\n",
              "\n",
              "    .dataframe tbody tr th {\n",
              "        vertical-align: top;\n",
              "    }\n",
              "\n",
              "    .dataframe thead th {\n",
              "        text-align: right;\n",
              "    }\n",
              "</style>\n",
              "<table border=\"1\" class=\"dataframe\">\n",
              "  <thead>\n",
              "    <tr style=\"text-align: right;\">\n",
              "      <th>productId</th>\n",
              "      <th>0594481813</th>\n",
              "      <th>0970407998</th>\n",
              "      <th>0972683275</th>\n",
              "      <th>1400501466</th>\n",
              "      <th>1400501776</th>\n",
              "      <th>1400532620</th>\n",
              "      <th>1400532655</th>\n",
              "      <th>1400599997</th>\n",
              "      <th>1400699169</th>\n",
              "      <th>1685560148</th>\n",
              "      <th>...</th>\n",
              "      <th>B00L3YHF6O</th>\n",
              "      <th>B00L403O94</th>\n",
              "      <th>B00L43HAY6</th>\n",
              "      <th>B00L5YZCCG</th>\n",
              "      <th>B00L8I6SFY</th>\n",
              "      <th>B00LA6T0LS</th>\n",
              "      <th>B00LBZ1Z7K</th>\n",
              "      <th>B00LGQ6HL8</th>\n",
              "      <th>B00LI4ZZO8</th>\n",
              "      <th>B00LKG1MC8</th>\n",
              "    </tr>\n",
              "    <tr>\n",
              "      <th>userId</th>\n",
              "      <th></th>\n",
              "      <th></th>\n",
              "      <th></th>\n",
              "      <th></th>\n",
              "      <th></th>\n",
              "      <th></th>\n",
              "      <th></th>\n",
              "      <th></th>\n",
              "      <th></th>\n",
              "      <th></th>\n",
              "      <th></th>\n",
              "      <th></th>\n",
              "      <th></th>\n",
              "      <th></th>\n",
              "      <th></th>\n",
              "      <th></th>\n",
              "      <th></th>\n",
              "      <th></th>\n",
              "      <th></th>\n",
              "      <th></th>\n",
              "      <th></th>\n",
              "    </tr>\n",
              "  </thead>\n",
              "  <tbody>\n",
              "    <tr>\n",
              "      <th>A100UD67AHFODS</th>\n",
              "      <td>0.0</td>\n",
              "      <td>0.0</td>\n",
              "      <td>0.0</td>\n",
              "      <td>0.0</td>\n",
              "      <td>0.0</td>\n",
              "      <td>0.0</td>\n",
              "      <td>0.0</td>\n",
              "      <td>0.0</td>\n",
              "      <td>0.0</td>\n",
              "      <td>0.0</td>\n",
              "      <td>...</td>\n",
              "      <td>0.0</td>\n",
              "      <td>0.0</td>\n",
              "      <td>0.0</td>\n",
              "      <td>0.0</td>\n",
              "      <td>0.0</td>\n",
              "      <td>0.0</td>\n",
              "      <td>0.0</td>\n",
              "      <td>0.0</td>\n",
              "      <td>0.0</td>\n",
              "      <td>0.0</td>\n",
              "    </tr>\n",
              "    <tr>\n",
              "      <th>A100WO06OQR8BQ</th>\n",
              "      <td>0.0</td>\n",
              "      <td>0.0</td>\n",
              "      <td>0.0</td>\n",
              "      <td>0.0</td>\n",
              "      <td>0.0</td>\n",
              "      <td>0.0</td>\n",
              "      <td>0.0</td>\n",
              "      <td>0.0</td>\n",
              "      <td>0.0</td>\n",
              "      <td>0.0</td>\n",
              "      <td>...</td>\n",
              "      <td>0.0</td>\n",
              "      <td>0.0</td>\n",
              "      <td>0.0</td>\n",
              "      <td>0.0</td>\n",
              "      <td>0.0</td>\n",
              "      <td>0.0</td>\n",
              "      <td>0.0</td>\n",
              "      <td>0.0</td>\n",
              "      <td>0.0</td>\n",
              "      <td>0.0</td>\n",
              "    </tr>\n",
              "    <tr>\n",
              "      <th>A105TOJ6LTVMBG</th>\n",
              "      <td>0.0</td>\n",
              "      <td>0.0</td>\n",
              "      <td>0.0</td>\n",
              "      <td>0.0</td>\n",
              "      <td>0.0</td>\n",
              "      <td>0.0</td>\n",
              "      <td>0.0</td>\n",
              "      <td>0.0</td>\n",
              "      <td>0.0</td>\n",
              "      <td>0.0</td>\n",
              "      <td>...</td>\n",
              "      <td>0.0</td>\n",
              "      <td>0.0</td>\n",
              "      <td>0.0</td>\n",
              "      <td>0.0</td>\n",
              "      <td>0.0</td>\n",
              "      <td>0.0</td>\n",
              "      <td>0.0</td>\n",
              "      <td>0.0</td>\n",
              "      <td>0.0</td>\n",
              "      <td>0.0</td>\n",
              "    </tr>\n",
              "    <tr>\n",
              "      <th>A10NMELR4KX0J6</th>\n",
              "      <td>0.0</td>\n",
              "      <td>0.0</td>\n",
              "      <td>0.0</td>\n",
              "      <td>0.0</td>\n",
              "      <td>0.0</td>\n",
              "      <td>0.0</td>\n",
              "      <td>0.0</td>\n",
              "      <td>0.0</td>\n",
              "      <td>0.0</td>\n",
              "      <td>0.0</td>\n",
              "      <td>...</td>\n",
              "      <td>0.0</td>\n",
              "      <td>0.0</td>\n",
              "      <td>0.0</td>\n",
              "      <td>0.0</td>\n",
              "      <td>0.0</td>\n",
              "      <td>0.0</td>\n",
              "      <td>0.0</td>\n",
              "      <td>0.0</td>\n",
              "      <td>0.0</td>\n",
              "      <td>0.0</td>\n",
              "    </tr>\n",
              "    <tr>\n",
              "      <th>A10O7THJ2O20AG</th>\n",
              "      <td>0.0</td>\n",
              "      <td>0.0</td>\n",
              "      <td>0.0</td>\n",
              "      <td>0.0</td>\n",
              "      <td>0.0</td>\n",
              "      <td>0.0</td>\n",
              "      <td>0.0</td>\n",
              "      <td>0.0</td>\n",
              "      <td>0.0</td>\n",
              "      <td>0.0</td>\n",
              "      <td>...</td>\n",
              "      <td>0.0</td>\n",
              "      <td>0.0</td>\n",
              "      <td>0.0</td>\n",
              "      <td>0.0</td>\n",
              "      <td>0.0</td>\n",
              "      <td>0.0</td>\n",
              "      <td>0.0</td>\n",
              "      <td>0.0</td>\n",
              "      <td>0.0</td>\n",
              "      <td>0.0</td>\n",
              "    </tr>\n",
              "    <tr>\n",
              "      <th>...</th>\n",
              "      <td>...</td>\n",
              "      <td>...</td>\n",
              "      <td>...</td>\n",
              "      <td>...</td>\n",
              "      <td>...</td>\n",
              "      <td>...</td>\n",
              "      <td>...</td>\n",
              "      <td>...</td>\n",
              "      <td>...</td>\n",
              "      <td>...</td>\n",
              "      <td>...</td>\n",
              "      <td>...</td>\n",
              "      <td>...</td>\n",
              "      <td>...</td>\n",
              "      <td>...</td>\n",
              "      <td>...</td>\n",
              "      <td>...</td>\n",
              "      <td>...</td>\n",
              "      <td>...</td>\n",
              "      <td>...</td>\n",
              "      <td>...</td>\n",
              "    </tr>\n",
              "    <tr>\n",
              "      <th>AYNAH993VDECT</th>\n",
              "      <td>0.0</td>\n",
              "      <td>0.0</td>\n",
              "      <td>0.0</td>\n",
              "      <td>0.0</td>\n",
              "      <td>0.0</td>\n",
              "      <td>0.0</td>\n",
              "      <td>0.0</td>\n",
              "      <td>0.0</td>\n",
              "      <td>0.0</td>\n",
              "      <td>0.0</td>\n",
              "      <td>...</td>\n",
              "      <td>0.0</td>\n",
              "      <td>0.0</td>\n",
              "      <td>0.0</td>\n",
              "      <td>0.0</td>\n",
              "      <td>0.0</td>\n",
              "      <td>0.0</td>\n",
              "      <td>0.0</td>\n",
              "      <td>0.0</td>\n",
              "      <td>0.0</td>\n",
              "      <td>0.0</td>\n",
              "    </tr>\n",
              "    <tr>\n",
              "      <th>AYOTEJ617O60K</th>\n",
              "      <td>0.0</td>\n",
              "      <td>0.0</td>\n",
              "      <td>0.0</td>\n",
              "      <td>0.0</td>\n",
              "      <td>0.0</td>\n",
              "      <td>0.0</td>\n",
              "      <td>0.0</td>\n",
              "      <td>0.0</td>\n",
              "      <td>0.0</td>\n",
              "      <td>0.0</td>\n",
              "      <td>...</td>\n",
              "      <td>0.0</td>\n",
              "      <td>0.0</td>\n",
              "      <td>0.0</td>\n",
              "      <td>0.0</td>\n",
              "      <td>0.0</td>\n",
              "      <td>0.0</td>\n",
              "      <td>0.0</td>\n",
              "      <td>0.0</td>\n",
              "      <td>0.0</td>\n",
              "      <td>0.0</td>\n",
              "    </tr>\n",
              "    <tr>\n",
              "      <th>AZ515FFZ7I2P7</th>\n",
              "      <td>0.0</td>\n",
              "      <td>0.0</td>\n",
              "      <td>0.0</td>\n",
              "      <td>0.0</td>\n",
              "      <td>0.0</td>\n",
              "      <td>0.0</td>\n",
              "      <td>0.0</td>\n",
              "      <td>0.0</td>\n",
              "      <td>0.0</td>\n",
              "      <td>0.0</td>\n",
              "      <td>...</td>\n",
              "      <td>0.0</td>\n",
              "      <td>0.0</td>\n",
              "      <td>0.0</td>\n",
              "      <td>0.0</td>\n",
              "      <td>0.0</td>\n",
              "      <td>0.0</td>\n",
              "      <td>0.0</td>\n",
              "      <td>0.0</td>\n",
              "      <td>0.0</td>\n",
              "      <td>0.0</td>\n",
              "    </tr>\n",
              "    <tr>\n",
              "      <th>AZAC8O310IK4E</th>\n",
              "      <td>0.0</td>\n",
              "      <td>0.0</td>\n",
              "      <td>0.0</td>\n",
              "      <td>0.0</td>\n",
              "      <td>0.0</td>\n",
              "      <td>0.0</td>\n",
              "      <td>0.0</td>\n",
              "      <td>0.0</td>\n",
              "      <td>0.0</td>\n",
              "      <td>0.0</td>\n",
              "      <td>...</td>\n",
              "      <td>0.0</td>\n",
              "      <td>0.0</td>\n",
              "      <td>0.0</td>\n",
              "      <td>0.0</td>\n",
              "      <td>0.0</td>\n",
              "      <td>0.0</td>\n",
              "      <td>0.0</td>\n",
              "      <td>0.0</td>\n",
              "      <td>0.0</td>\n",
              "      <td>0.0</td>\n",
              "    </tr>\n",
              "    <tr>\n",
              "      <th>AZMY6E8B52L2T</th>\n",
              "      <td>0.0</td>\n",
              "      <td>0.0</td>\n",
              "      <td>0.0</td>\n",
              "      <td>0.0</td>\n",
              "      <td>0.0</td>\n",
              "      <td>0.0</td>\n",
              "      <td>0.0</td>\n",
              "      <td>0.0</td>\n",
              "      <td>0.0</td>\n",
              "      <td>0.0</td>\n",
              "      <td>...</td>\n",
              "      <td>0.0</td>\n",
              "      <td>0.0</td>\n",
              "      <td>0.0</td>\n",
              "      <td>0.0</td>\n",
              "      <td>0.0</td>\n",
              "      <td>0.0</td>\n",
              "      <td>0.0</td>\n",
              "      <td>0.0</td>\n",
              "      <td>0.0</td>\n",
              "      <td>0.0</td>\n",
              "    </tr>\n",
              "  </tbody>\n",
              "</table>\n",
              "<p>688 rows × 33428 columns</p>\n",
              "</div>\n",
              "      <button class=\"colab-df-convert\" onclick=\"convertToInteractive('df-f91e2253-6cff-4196-8bd1-162d3fa7652f')\"\n",
              "              title=\"Convert this dataframe to an interactive table.\"\n",
              "              style=\"display:none;\">\n",
              "        \n",
              "  <svg xmlns=\"http://www.w3.org/2000/svg\" height=\"24px\"viewBox=\"0 0 24 24\"\n",
              "       width=\"24px\">\n",
              "    <path d=\"M0 0h24v24H0V0z\" fill=\"none\"/>\n",
              "    <path d=\"M18.56 5.44l.94 2.06.94-2.06 2.06-.94-2.06-.94-.94-2.06-.94 2.06-2.06.94zm-11 1L8.5 8.5l.94-2.06 2.06-.94-2.06-.94L8.5 2.5l-.94 2.06-2.06.94zm10 10l.94 2.06.94-2.06 2.06-.94-2.06-.94-.94-2.06-.94 2.06-2.06.94z\"/><path d=\"M17.41 7.96l-1.37-1.37c-.4-.4-.92-.59-1.43-.59-.52 0-1.04.2-1.43.59L10.3 9.45l-7.72 7.72c-.78.78-.78 2.05 0 2.83L4 21.41c.39.39.9.59 1.41.59.51 0 1.02-.2 1.41-.59l7.78-7.78 2.81-2.81c.8-.78.8-2.07 0-2.86zM5.41 20L4 18.59l7.72-7.72 1.47 1.35L5.41 20z\"/>\n",
              "  </svg>\n",
              "      </button>\n",
              "      \n",
              "  <style>\n",
              "    .colab-df-container {\n",
              "      display:flex;\n",
              "      flex-wrap:wrap;\n",
              "      gap: 12px;\n",
              "    }\n",
              "\n",
              "    .colab-df-convert {\n",
              "      background-color: #E8F0FE;\n",
              "      border: none;\n",
              "      border-radius: 50%;\n",
              "      cursor: pointer;\n",
              "      display: none;\n",
              "      fill: #1967D2;\n",
              "      height: 32px;\n",
              "      padding: 0 0 0 0;\n",
              "      width: 32px;\n",
              "    }\n",
              "\n",
              "    .colab-df-convert:hover {\n",
              "      background-color: #E2EBFA;\n",
              "      box-shadow: 0px 1px 2px rgba(60, 64, 67, 0.3), 0px 1px 3px 1px rgba(60, 64, 67, 0.15);\n",
              "      fill: #174EA6;\n",
              "    }\n",
              "\n",
              "    [theme=dark] .colab-df-convert {\n",
              "      background-color: #3B4455;\n",
              "      fill: #D2E3FC;\n",
              "    }\n",
              "\n",
              "    [theme=dark] .colab-df-convert:hover {\n",
              "      background-color: #434B5C;\n",
              "      box-shadow: 0px 1px 3px 1px rgba(0, 0, 0, 0.15);\n",
              "      filter: drop-shadow(0px 1px 2px rgba(0, 0, 0, 0.3));\n",
              "      fill: #FFFFFF;\n",
              "    }\n",
              "  </style>\n",
              "\n",
              "      <script>\n",
              "        const buttonEl =\n",
              "          document.querySelector('#df-f91e2253-6cff-4196-8bd1-162d3fa7652f button.colab-df-convert');\n",
              "        buttonEl.style.display =\n",
              "          google.colab.kernel.accessAllowed ? 'block' : 'none';\n",
              "\n",
              "        async function convertToInteractive(key) {\n",
              "          const element = document.querySelector('#df-f91e2253-6cff-4196-8bd1-162d3fa7652f');\n",
              "          const dataTable =\n",
              "            await google.colab.kernel.invokeFunction('convertToInteractive',\n",
              "                                                     [key], {});\n",
              "          if (!dataTable) return;\n",
              "\n",
              "          const docLinkHtml = 'Like what you see? Visit the ' +\n",
              "            '<a target=\"_blank\" href=https://colab.research.google.com/notebooks/data_table.ipynb>data table notebook</a>'\n",
              "            + ' to learn more about interactive tables.';\n",
              "          element.innerHTML = '';\n",
              "          dataTable['output_type'] = 'display_data';\n",
              "          await google.colab.output.renderOutput(dataTable, element);\n",
              "          const docLink = document.createElement('div');\n",
              "          docLink.innerHTML = docLinkHtml;\n",
              "          element.appendChild(docLink);\n",
              "        }\n",
              "      </script>\n",
              "    </div>\n",
              "  </div>\n",
              "  "
            ]
          },
          "metadata": {},
          "execution_count": 48
        }
      ]
    },
    {
      "cell_type": "code",
      "source": [
        "#convert test matrix to dataframe\n",
        "test_df.index = rating_matrix.index\n",
        "test_df.columns = rating_matrix.columns\n",
        "test_df"
      ],
      "metadata": {
        "colab": {
          "base_uri": "https://localhost:8080/",
          "height": 519
        },
        "id": "GaTtTYyhd6WV",
        "outputId": "6a8784c9-ca03-45ae-b875-cd9415513fab"
      },
      "id": "GaTtTYyhd6WV",
      "execution_count": 49,
      "outputs": [
        {
          "output_type": "execute_result",
          "data": {
            "text/plain": [
              "productId       0594481813  0970407998  0972683275  1400501466  1400501776  \\\n",
              "userId                                                                       \n",
              "A100UD67AHFODS         0.0         0.0         0.0         0.0         0.0   \n",
              "A100WO06OQR8BQ         0.0         0.0         0.0         0.0         0.0   \n",
              "A105TOJ6LTVMBG         0.0         0.0         0.0         0.0         0.0   \n",
              "A10NMELR4KX0J6         0.0         0.0         0.0         0.0         0.0   \n",
              "A10O7THJ2O20AG         0.0         0.0         0.0         0.0         0.0   \n",
              "...                    ...         ...         ...         ...         ...   \n",
              "AYNAH993VDECT          0.0         0.0         0.0         0.0         0.0   \n",
              "AYOTEJ617O60K          0.0         0.0         0.0         0.0         0.0   \n",
              "AZ515FFZ7I2P7          0.0         0.0         0.0         0.0         0.0   \n",
              "AZAC8O310IK4E          0.0         0.0         0.0         0.0         0.0   \n",
              "AZMY6E8B52L2T          0.0         0.0         0.0         0.0         0.0   \n",
              "\n",
              "productId       1400532620  1400532655  1400599997  1400699169  1685560148  \\\n",
              "userId                                                                       \n",
              "A100UD67AHFODS         0.0         0.0         0.0         0.0         0.0   \n",
              "A100WO06OQR8BQ         0.0         0.0         0.0         0.0         0.0   \n",
              "A105TOJ6LTVMBG         0.0         0.0         0.0         0.0         0.0   \n",
              "A10NMELR4KX0J6         0.0         0.0         0.0         0.0         0.0   \n",
              "A10O7THJ2O20AG         0.0         0.0         0.0         0.0         0.0   \n",
              "...                    ...         ...         ...         ...         ...   \n",
              "AYNAH993VDECT          0.0         0.0         0.0         0.0         0.0   \n",
              "AYOTEJ617O60K          0.0         0.0         0.0         0.0         0.0   \n",
              "AZ515FFZ7I2P7          0.0         0.0         0.0         0.0         0.0   \n",
              "AZAC8O310IK4E          0.0         0.0         0.0         0.0         0.0   \n",
              "AZMY6E8B52L2T          0.0         0.0         0.0         0.0         0.0   \n",
              "\n",
              "productId       ...  B00L3YHF6O  B00L403O94  B00L43HAY6  B00L5YZCCG  \\\n",
              "userId          ...                                                   \n",
              "A100UD67AHFODS  ...         0.0         0.0         0.0         0.0   \n",
              "A100WO06OQR8BQ  ...         0.0         0.0         0.0         0.0   \n",
              "A105TOJ6LTVMBG  ...         0.0         0.0         0.0         0.0   \n",
              "A10NMELR4KX0J6  ...         0.0         0.0         0.0         0.0   \n",
              "A10O7THJ2O20AG  ...         0.0         0.0         0.0         0.0   \n",
              "...             ...         ...         ...         ...         ...   \n",
              "AYNAH993VDECT   ...         0.0         0.0         0.0         0.0   \n",
              "AYOTEJ617O60K   ...         0.0         0.0         0.0         0.0   \n",
              "AZ515FFZ7I2P7   ...         0.0         0.0         0.0         0.0   \n",
              "AZAC8O310IK4E   ...         0.0         0.0         0.0         0.0   \n",
              "AZMY6E8B52L2T   ...         0.0         0.0         0.0         0.0   \n",
              "\n",
              "productId       B00L8I6SFY  B00LA6T0LS  B00LBZ1Z7K  B00LGQ6HL8  B00LI4ZZO8  \\\n",
              "userId                                                                       \n",
              "A100UD67AHFODS         0.0         0.0         0.0         0.0         0.0   \n",
              "A100WO06OQR8BQ         0.0         0.0         0.0         0.0         0.0   \n",
              "A105TOJ6LTVMBG         0.0         0.0         0.0         0.0         0.0   \n",
              "A10NMELR4KX0J6         0.0         0.0         0.0         0.0         0.0   \n",
              "A10O7THJ2O20AG         0.0         0.0         0.0         0.0         0.0   \n",
              "...                    ...         ...         ...         ...         ...   \n",
              "AYNAH993VDECT          0.0         0.0         0.0         0.0         0.0   \n",
              "AYOTEJ617O60K          0.0         0.0         0.0         0.0         0.0   \n",
              "AZ515FFZ7I2P7          0.0         0.0         0.0         0.0         0.0   \n",
              "AZAC8O310IK4E          0.0         0.0         0.0         0.0         0.0   \n",
              "AZMY6E8B52L2T          0.0         0.0         0.0         0.0         0.0   \n",
              "\n",
              "productId       B00LKG1MC8  \n",
              "userId                      \n",
              "A100UD67AHFODS         0.0  \n",
              "A100WO06OQR8BQ         0.0  \n",
              "A105TOJ6LTVMBG         0.0  \n",
              "A10NMELR4KX0J6         0.0  \n",
              "A10O7THJ2O20AG         0.0  \n",
              "...                    ...  \n",
              "AYNAH993VDECT          0.0  \n",
              "AYOTEJ617O60K          0.0  \n",
              "AZ515FFZ7I2P7          0.0  \n",
              "AZAC8O310IK4E          0.0  \n",
              "AZMY6E8B52L2T          0.0  \n",
              "\n",
              "[688 rows x 33428 columns]"
            ],
            "text/html": [
              "\n",
              "  <div id=\"df-aca5ecd8-03d8-4c92-9504-d436b69ae5de\">\n",
              "    <div class=\"colab-df-container\">\n",
              "      <div>\n",
              "<style scoped>\n",
              "    .dataframe tbody tr th:only-of-type {\n",
              "        vertical-align: middle;\n",
              "    }\n",
              "\n",
              "    .dataframe tbody tr th {\n",
              "        vertical-align: top;\n",
              "    }\n",
              "\n",
              "    .dataframe thead th {\n",
              "        text-align: right;\n",
              "    }\n",
              "</style>\n",
              "<table border=\"1\" class=\"dataframe\">\n",
              "  <thead>\n",
              "    <tr style=\"text-align: right;\">\n",
              "      <th>productId</th>\n",
              "      <th>0594481813</th>\n",
              "      <th>0970407998</th>\n",
              "      <th>0972683275</th>\n",
              "      <th>1400501466</th>\n",
              "      <th>1400501776</th>\n",
              "      <th>1400532620</th>\n",
              "      <th>1400532655</th>\n",
              "      <th>1400599997</th>\n",
              "      <th>1400699169</th>\n",
              "      <th>1685560148</th>\n",
              "      <th>...</th>\n",
              "      <th>B00L3YHF6O</th>\n",
              "      <th>B00L403O94</th>\n",
              "      <th>B00L43HAY6</th>\n",
              "      <th>B00L5YZCCG</th>\n",
              "      <th>B00L8I6SFY</th>\n",
              "      <th>B00LA6T0LS</th>\n",
              "      <th>B00LBZ1Z7K</th>\n",
              "      <th>B00LGQ6HL8</th>\n",
              "      <th>B00LI4ZZO8</th>\n",
              "      <th>B00LKG1MC8</th>\n",
              "    </tr>\n",
              "    <tr>\n",
              "      <th>userId</th>\n",
              "      <th></th>\n",
              "      <th></th>\n",
              "      <th></th>\n",
              "      <th></th>\n",
              "      <th></th>\n",
              "      <th></th>\n",
              "      <th></th>\n",
              "      <th></th>\n",
              "      <th></th>\n",
              "      <th></th>\n",
              "      <th></th>\n",
              "      <th></th>\n",
              "      <th></th>\n",
              "      <th></th>\n",
              "      <th></th>\n",
              "      <th></th>\n",
              "      <th></th>\n",
              "      <th></th>\n",
              "      <th></th>\n",
              "      <th></th>\n",
              "      <th></th>\n",
              "    </tr>\n",
              "  </thead>\n",
              "  <tbody>\n",
              "    <tr>\n",
              "      <th>A100UD67AHFODS</th>\n",
              "      <td>0.0</td>\n",
              "      <td>0.0</td>\n",
              "      <td>0.0</td>\n",
              "      <td>0.0</td>\n",
              "      <td>0.0</td>\n",
              "      <td>0.0</td>\n",
              "      <td>0.0</td>\n",
              "      <td>0.0</td>\n",
              "      <td>0.0</td>\n",
              "      <td>0.0</td>\n",
              "      <td>...</td>\n",
              "      <td>0.0</td>\n",
              "      <td>0.0</td>\n",
              "      <td>0.0</td>\n",
              "      <td>0.0</td>\n",
              "      <td>0.0</td>\n",
              "      <td>0.0</td>\n",
              "      <td>0.0</td>\n",
              "      <td>0.0</td>\n",
              "      <td>0.0</td>\n",
              "      <td>0.0</td>\n",
              "    </tr>\n",
              "    <tr>\n",
              "      <th>A100WO06OQR8BQ</th>\n",
              "      <td>0.0</td>\n",
              "      <td>0.0</td>\n",
              "      <td>0.0</td>\n",
              "      <td>0.0</td>\n",
              "      <td>0.0</td>\n",
              "      <td>0.0</td>\n",
              "      <td>0.0</td>\n",
              "      <td>0.0</td>\n",
              "      <td>0.0</td>\n",
              "      <td>0.0</td>\n",
              "      <td>...</td>\n",
              "      <td>0.0</td>\n",
              "      <td>0.0</td>\n",
              "      <td>0.0</td>\n",
              "      <td>0.0</td>\n",
              "      <td>0.0</td>\n",
              "      <td>0.0</td>\n",
              "      <td>0.0</td>\n",
              "      <td>0.0</td>\n",
              "      <td>0.0</td>\n",
              "      <td>0.0</td>\n",
              "    </tr>\n",
              "    <tr>\n",
              "      <th>A105TOJ6LTVMBG</th>\n",
              "      <td>0.0</td>\n",
              "      <td>0.0</td>\n",
              "      <td>0.0</td>\n",
              "      <td>0.0</td>\n",
              "      <td>0.0</td>\n",
              "      <td>0.0</td>\n",
              "      <td>0.0</td>\n",
              "      <td>0.0</td>\n",
              "      <td>0.0</td>\n",
              "      <td>0.0</td>\n",
              "      <td>...</td>\n",
              "      <td>0.0</td>\n",
              "      <td>0.0</td>\n",
              "      <td>0.0</td>\n",
              "      <td>0.0</td>\n",
              "      <td>0.0</td>\n",
              "      <td>0.0</td>\n",
              "      <td>0.0</td>\n",
              "      <td>0.0</td>\n",
              "      <td>0.0</td>\n",
              "      <td>0.0</td>\n",
              "    </tr>\n",
              "    <tr>\n",
              "      <th>A10NMELR4KX0J6</th>\n",
              "      <td>0.0</td>\n",
              "      <td>0.0</td>\n",
              "      <td>0.0</td>\n",
              "      <td>0.0</td>\n",
              "      <td>0.0</td>\n",
              "      <td>0.0</td>\n",
              "      <td>0.0</td>\n",
              "      <td>0.0</td>\n",
              "      <td>0.0</td>\n",
              "      <td>0.0</td>\n",
              "      <td>...</td>\n",
              "      <td>0.0</td>\n",
              "      <td>0.0</td>\n",
              "      <td>0.0</td>\n",
              "      <td>0.0</td>\n",
              "      <td>0.0</td>\n",
              "      <td>0.0</td>\n",
              "      <td>0.0</td>\n",
              "      <td>0.0</td>\n",
              "      <td>0.0</td>\n",
              "      <td>0.0</td>\n",
              "    </tr>\n",
              "    <tr>\n",
              "      <th>A10O7THJ2O20AG</th>\n",
              "      <td>0.0</td>\n",
              "      <td>0.0</td>\n",
              "      <td>0.0</td>\n",
              "      <td>0.0</td>\n",
              "      <td>0.0</td>\n",
              "      <td>0.0</td>\n",
              "      <td>0.0</td>\n",
              "      <td>0.0</td>\n",
              "      <td>0.0</td>\n",
              "      <td>0.0</td>\n",
              "      <td>...</td>\n",
              "      <td>0.0</td>\n",
              "      <td>0.0</td>\n",
              "      <td>0.0</td>\n",
              "      <td>0.0</td>\n",
              "      <td>0.0</td>\n",
              "      <td>0.0</td>\n",
              "      <td>0.0</td>\n",
              "      <td>0.0</td>\n",
              "      <td>0.0</td>\n",
              "      <td>0.0</td>\n",
              "    </tr>\n",
              "    <tr>\n",
              "      <th>...</th>\n",
              "      <td>...</td>\n",
              "      <td>...</td>\n",
              "      <td>...</td>\n",
              "      <td>...</td>\n",
              "      <td>...</td>\n",
              "      <td>...</td>\n",
              "      <td>...</td>\n",
              "      <td>...</td>\n",
              "      <td>...</td>\n",
              "      <td>...</td>\n",
              "      <td>...</td>\n",
              "      <td>...</td>\n",
              "      <td>...</td>\n",
              "      <td>...</td>\n",
              "      <td>...</td>\n",
              "      <td>...</td>\n",
              "      <td>...</td>\n",
              "      <td>...</td>\n",
              "      <td>...</td>\n",
              "      <td>...</td>\n",
              "      <td>...</td>\n",
              "    </tr>\n",
              "    <tr>\n",
              "      <th>AYNAH993VDECT</th>\n",
              "      <td>0.0</td>\n",
              "      <td>0.0</td>\n",
              "      <td>0.0</td>\n",
              "      <td>0.0</td>\n",
              "      <td>0.0</td>\n",
              "      <td>0.0</td>\n",
              "      <td>0.0</td>\n",
              "      <td>0.0</td>\n",
              "      <td>0.0</td>\n",
              "      <td>0.0</td>\n",
              "      <td>...</td>\n",
              "      <td>0.0</td>\n",
              "      <td>0.0</td>\n",
              "      <td>0.0</td>\n",
              "      <td>0.0</td>\n",
              "      <td>0.0</td>\n",
              "      <td>0.0</td>\n",
              "      <td>0.0</td>\n",
              "      <td>0.0</td>\n",
              "      <td>0.0</td>\n",
              "      <td>0.0</td>\n",
              "    </tr>\n",
              "    <tr>\n",
              "      <th>AYOTEJ617O60K</th>\n",
              "      <td>0.0</td>\n",
              "      <td>0.0</td>\n",
              "      <td>0.0</td>\n",
              "      <td>0.0</td>\n",
              "      <td>0.0</td>\n",
              "      <td>0.0</td>\n",
              "      <td>0.0</td>\n",
              "      <td>0.0</td>\n",
              "      <td>0.0</td>\n",
              "      <td>0.0</td>\n",
              "      <td>...</td>\n",
              "      <td>0.0</td>\n",
              "      <td>0.0</td>\n",
              "      <td>0.0</td>\n",
              "      <td>0.0</td>\n",
              "      <td>0.0</td>\n",
              "      <td>0.0</td>\n",
              "      <td>0.0</td>\n",
              "      <td>0.0</td>\n",
              "      <td>0.0</td>\n",
              "      <td>0.0</td>\n",
              "    </tr>\n",
              "    <tr>\n",
              "      <th>AZ515FFZ7I2P7</th>\n",
              "      <td>0.0</td>\n",
              "      <td>0.0</td>\n",
              "      <td>0.0</td>\n",
              "      <td>0.0</td>\n",
              "      <td>0.0</td>\n",
              "      <td>0.0</td>\n",
              "      <td>0.0</td>\n",
              "      <td>0.0</td>\n",
              "      <td>0.0</td>\n",
              "      <td>0.0</td>\n",
              "      <td>...</td>\n",
              "      <td>0.0</td>\n",
              "      <td>0.0</td>\n",
              "      <td>0.0</td>\n",
              "      <td>0.0</td>\n",
              "      <td>0.0</td>\n",
              "      <td>0.0</td>\n",
              "      <td>0.0</td>\n",
              "      <td>0.0</td>\n",
              "      <td>0.0</td>\n",
              "      <td>0.0</td>\n",
              "    </tr>\n",
              "    <tr>\n",
              "      <th>AZAC8O310IK4E</th>\n",
              "      <td>0.0</td>\n",
              "      <td>0.0</td>\n",
              "      <td>0.0</td>\n",
              "      <td>0.0</td>\n",
              "      <td>0.0</td>\n",
              "      <td>0.0</td>\n",
              "      <td>0.0</td>\n",
              "      <td>0.0</td>\n",
              "      <td>0.0</td>\n",
              "      <td>0.0</td>\n",
              "      <td>...</td>\n",
              "      <td>0.0</td>\n",
              "      <td>0.0</td>\n",
              "      <td>0.0</td>\n",
              "      <td>0.0</td>\n",
              "      <td>0.0</td>\n",
              "      <td>0.0</td>\n",
              "      <td>0.0</td>\n",
              "      <td>0.0</td>\n",
              "      <td>0.0</td>\n",
              "      <td>0.0</td>\n",
              "    </tr>\n",
              "    <tr>\n",
              "      <th>AZMY6E8B52L2T</th>\n",
              "      <td>0.0</td>\n",
              "      <td>0.0</td>\n",
              "      <td>0.0</td>\n",
              "      <td>0.0</td>\n",
              "      <td>0.0</td>\n",
              "      <td>0.0</td>\n",
              "      <td>0.0</td>\n",
              "      <td>0.0</td>\n",
              "      <td>0.0</td>\n",
              "      <td>0.0</td>\n",
              "      <td>...</td>\n",
              "      <td>0.0</td>\n",
              "      <td>0.0</td>\n",
              "      <td>0.0</td>\n",
              "      <td>0.0</td>\n",
              "      <td>0.0</td>\n",
              "      <td>0.0</td>\n",
              "      <td>0.0</td>\n",
              "      <td>0.0</td>\n",
              "      <td>0.0</td>\n",
              "      <td>0.0</td>\n",
              "    </tr>\n",
              "  </tbody>\n",
              "</table>\n",
              "<p>688 rows × 33428 columns</p>\n",
              "</div>\n",
              "      <button class=\"colab-df-convert\" onclick=\"convertToInteractive('df-aca5ecd8-03d8-4c92-9504-d436b69ae5de')\"\n",
              "              title=\"Convert this dataframe to an interactive table.\"\n",
              "              style=\"display:none;\">\n",
              "        \n",
              "  <svg xmlns=\"http://www.w3.org/2000/svg\" height=\"24px\"viewBox=\"0 0 24 24\"\n",
              "       width=\"24px\">\n",
              "    <path d=\"M0 0h24v24H0V0z\" fill=\"none\"/>\n",
              "    <path d=\"M18.56 5.44l.94 2.06.94-2.06 2.06-.94-2.06-.94-.94-2.06-.94 2.06-2.06.94zm-11 1L8.5 8.5l.94-2.06 2.06-.94-2.06-.94L8.5 2.5l-.94 2.06-2.06.94zm10 10l.94 2.06.94-2.06 2.06-.94-2.06-.94-.94-2.06-.94 2.06-2.06.94z\"/><path d=\"M17.41 7.96l-1.37-1.37c-.4-.4-.92-.59-1.43-.59-.52 0-1.04.2-1.43.59L10.3 9.45l-7.72 7.72c-.78.78-.78 2.05 0 2.83L4 21.41c.39.39.9.59 1.41.59.51 0 1.02-.2 1.41-.59l7.78-7.78 2.81-2.81c.8-.78.8-2.07 0-2.86zM5.41 20L4 18.59l7.72-7.72 1.47 1.35L5.41 20z\"/>\n",
              "  </svg>\n",
              "      </button>\n",
              "      \n",
              "  <style>\n",
              "    .colab-df-container {\n",
              "      display:flex;\n",
              "      flex-wrap:wrap;\n",
              "      gap: 12px;\n",
              "    }\n",
              "\n",
              "    .colab-df-convert {\n",
              "      background-color: #E8F0FE;\n",
              "      border: none;\n",
              "      border-radius: 50%;\n",
              "      cursor: pointer;\n",
              "      display: none;\n",
              "      fill: #1967D2;\n",
              "      height: 32px;\n",
              "      padding: 0 0 0 0;\n",
              "      width: 32px;\n",
              "    }\n",
              "\n",
              "    .colab-df-convert:hover {\n",
              "      background-color: #E2EBFA;\n",
              "      box-shadow: 0px 1px 2px rgba(60, 64, 67, 0.3), 0px 1px 3px 1px rgba(60, 64, 67, 0.15);\n",
              "      fill: #174EA6;\n",
              "    }\n",
              "\n",
              "    [theme=dark] .colab-df-convert {\n",
              "      background-color: #3B4455;\n",
              "      fill: #D2E3FC;\n",
              "    }\n",
              "\n",
              "    [theme=dark] .colab-df-convert:hover {\n",
              "      background-color: #434B5C;\n",
              "      box-shadow: 0px 1px 3px 1px rgba(0, 0, 0, 0.15);\n",
              "      filter: drop-shadow(0px 1px 2px rgba(0, 0, 0, 0.3));\n",
              "      fill: #FFFFFF;\n",
              "    }\n",
              "  </style>\n",
              "\n",
              "      <script>\n",
              "        const buttonEl =\n",
              "          document.querySelector('#df-aca5ecd8-03d8-4c92-9504-d436b69ae5de button.colab-df-convert');\n",
              "        buttonEl.style.display =\n",
              "          google.colab.kernel.accessAllowed ? 'block' : 'none';\n",
              "\n",
              "        async function convertToInteractive(key) {\n",
              "          const element = document.querySelector('#df-aca5ecd8-03d8-4c92-9504-d436b69ae5de');\n",
              "          const dataTable =\n",
              "            await google.colab.kernel.invokeFunction('convertToInteractive',\n",
              "                                                     [key], {});\n",
              "          if (!dataTable) return;\n",
              "\n",
              "          const docLinkHtml = 'Like what you see? Visit the ' +\n",
              "            '<a target=\"_blank\" href=https://colab.research.google.com/notebooks/data_table.ipynb>data table notebook</a>'\n",
              "            + ' to learn more about interactive tables.';\n",
              "          element.innerHTML = '';\n",
              "          dataTable['output_type'] = 'display_data';\n",
              "          await google.colab.output.renderOutput(dataTable, element);\n",
              "          const docLink = document.createElement('div');\n",
              "          docLink.innerHTML = docLinkHtml;\n",
              "          element.appendChild(docLink);\n",
              "        }\n",
              "      </script>\n",
              "    </div>\n",
              "  </div>\n",
              "  "
            ]
          },
          "metadata": {},
          "execution_count": 49
        }
      ]
    },
    {
      "cell_type": "markdown",
      "source": [
        "### Cosine Similarity"
      ],
      "metadata": {
        "id": "4KPly7zNeLzE"
      },
      "id": "4KPly7zNeLzE"
    },
    {
      "cell_type": "code",
      "source": [
        "from sklearn.metrics.pairwise import cosine_similarity\n",
        "import operator\n",
        "\n",
        "def similar_users(userId, matrix,k=3):\n",
        "    #find user we want to suggest in train and we distinguish that user from other users\n",
        "    user = matrix[matrix.index == userId]\n",
        "    other_users = matrix[matrix.index != userId]\n",
        "    \n",
        "    #we find cosine similarity between users with the help of function\n",
        "    similarities = cosine_similarity(user,other_users)[0].tolist()\n",
        "    \n",
        "    indices = other_users.index.tolist()\n",
        "    \n",
        "    #we put in a dictionary the users and their similarity numbers with the users we choose \n",
        "    index_similarity = dict(zip(indices, similarities))\n",
        "    \n",
        "    #we sort this dictionary by similarity from highest to lowest\n",
        "    index_similarity_sorted = sorted(index_similarity.items(), key=operator.itemgetter(1))\n",
        "    index_similarity_sorted.reverse()\n",
        "    \n",
        "    #We choose the k most similar users\n",
        "    top_users_similarities = index_similarity_sorted[:k]\n",
        "    \n",
        "    users = [u[0] for u in top_users_similarities]\n",
        "    \n",
        "    return users\n",
        "\n",
        "current_user = input(\"Enter user: \")\n",
        "\n",
        "similar_user_indices = similar_users(current_user,train_df)\n",
        "print(similar_user_indices)"
      ],
      "metadata": {
        "colab": {
          "base_uri": "https://localhost:8080/"
        },
        "id": "WImyNzgdd6aZ",
        "outputId": "317c19f9-f802-4d22-a598-057db4cc4a8c"
      },
      "id": "WImyNzgdd6aZ",
      "execution_count": 50,
      "outputs": [
        {
          "output_type": "stream",
          "name": "stdout",
          "text": [
            "Enter user: A100UD67AHFODS\n",
            "['A11FX8HL2ANK6T', 'A2NOW4U7W3F7RI', 'A3CG93783LP0FO']\n"
          ]
        }
      ]
    },
    {
      "cell_type": "markdown",
      "source": [
        "### Recommending Product"
      ],
      "metadata": {
        "id": "A19aBDf4fOe1"
      },
      "id": "A19aBDf4fOe1"
    },
    {
      "cell_type": "code",
      "source": [
        "def recommend_item(user_index, similar_user_indices, matrix, items=5):\n",
        "    \n",
        "    similar_users = matrix[matrix.index.isin(similar_user_indices)]\n",
        "    \n",
        "    # average rating of similar people\n",
        "    similar_users = similar_users.mean(axis=0)\n",
        "    similar_users_df = pd.DataFrame(similar_users, columns=['mean'])\n",
        "    \n",
        "    \n",
        "    user_df = matrix[matrix.index == user_index]\n",
        "    user_df_transposed = user_df.transpose()\n",
        "\n",
        "    user_df_transposed.columns = ['rating']\n",
        "    # we leave items not yet purchased \n",
        "    user_df_transposed = user_df_transposed[user_df_transposed['rating']==0]\n",
        "    # we list unpurchased items into a list\n",
        "    not_purchased_prod = user_df_transposed.index.tolist()\n",
        "    \n",
        "    similar_users_df_filtered = similar_users_df[similar_users_df.index.isin(not_purchased_prod)]\n",
        "    similar_users_df_ordered = similar_users_df.sort_values(by=['mean'], ascending=False)\n",
        "    # We offer as many suggestions as desired \n",
        "    top_n_product = similar_users_df_ordered.head(items)\n",
        "    top_n_product_indices = top_n_product.index.tolist()\n",
        "    \n",
        "    product_information = df1[df1['productId'].isin(top_n_product_indices)]\n",
        "    \n",
        "    print(product_information.groupby('productId').mean())\n",
        "    \n",
        "    test_filtered_df = test_df[test_df.index.isin(not_purchased_prod)]\n",
        "    similar_users_df_ordered = similar_users_df.sort_values(by=['mean'], ascending=False)\n",
        "\n",
        "    return top_n_product_indices \n",
        "\n",
        "results = recommend_item(current_user, similar_user_indices, train_df)\n",
        "print()\n",
        "print(results)"
      ],
      "metadata": {
        "colab": {
          "base_uri": "https://localhost:8080/"
        },
        "id": "ARKmnltNfQKk",
        "outputId": "bc1ad7eb-246e-476a-a7a3-67b6b8a899f0"
      },
      "id": "ARKmnltNfQKk",
      "execution_count": 52,
      "outputs": [
        {
          "output_type": "stream",
          "name": "stdout",
          "text": [
            "              rating     timestamp\n",
            "productId                         \n",
            "B001E1Y5O6  4.715512  1.358704e+09\n",
            "B001F7AHOG  4.329615  1.339034e+09\n",
            "B003ES5ZUU  4.704749  1.372443e+09\n",
            "B005HMKKH4  4.350016  1.371360e+09\n",
            "B007DL79FS  4.370000  1.375449e+09\n",
            "\n",
            "['B003ES5ZUU', 'B005HMKKH4', 'B007DL79FS', 'B001E1Y5O6', 'B001F7AHOG']\n"
          ]
        }
      ]
    },
    {
      "cell_type": "code",
      "source": [
        "df1[df1['userId'] == current_user]"
      ],
      "metadata": {
        "colab": {
          "base_uri": "https://localhost:8080/",
          "height": 423
        },
        "id": "EJxgUftRftik",
        "outputId": "a4b2a8f3-9b98-4693-d68d-1096ffdb8694"
      },
      "id": "EJxgUftRftik",
      "execution_count": 54,
      "outputs": [
        {
          "output_type": "execute_result",
          "data": {
            "text/plain": [
              "                 userId   productId  rating   timestamp\n",
              "66537    A100UD67AHFODS  B00004Z5M1     5.0  1350086400\n",
              "123861   A100UD67AHFODS  B00005T3X7     5.0  1354665600\n",
              "165910   A100UD67AHFODS  B000069EUW     5.0  1351814400\n",
              "166702   A100UD67AHFODS  B000069JWX     1.0  1070841600\n",
              "322741   A100UD67AHFODS  B0000AR0I4     5.0  1353369600\n",
              "...                 ...         ...     ...         ...\n",
              "7173279  A100UD67AHFODS  B00BUACE8K     5.0  1380758400\n",
              "7565606  A100UD67AHFODS  B00ETH7ERM     4.0  1385942400\n",
              "7585855  A100UD67AHFODS  B00F0DD0I6     5.0  1381622400\n",
              "7638959  A100UD67AHFODS  B00FISD9DO     4.0  1388361600\n",
              "7752270  A100UD67AHFODS  B00HHRP11C     5.0  1399248000\n",
              "\n",
              "[116 rows x 4 columns]"
            ],
            "text/html": [
              "\n",
              "  <div id=\"df-1308fd76-1100-4249-b160-edb6b229bc89\">\n",
              "    <div class=\"colab-df-container\">\n",
              "      <div>\n",
              "<style scoped>\n",
              "    .dataframe tbody tr th:only-of-type {\n",
              "        vertical-align: middle;\n",
              "    }\n",
              "\n",
              "    .dataframe tbody tr th {\n",
              "        vertical-align: top;\n",
              "    }\n",
              "\n",
              "    .dataframe thead th {\n",
              "        text-align: right;\n",
              "    }\n",
              "</style>\n",
              "<table border=\"1\" class=\"dataframe\">\n",
              "  <thead>\n",
              "    <tr style=\"text-align: right;\">\n",
              "      <th></th>\n",
              "      <th>userId</th>\n",
              "      <th>productId</th>\n",
              "      <th>rating</th>\n",
              "      <th>timestamp</th>\n",
              "    </tr>\n",
              "  </thead>\n",
              "  <tbody>\n",
              "    <tr>\n",
              "      <th>66537</th>\n",
              "      <td>A100UD67AHFODS</td>\n",
              "      <td>B00004Z5M1</td>\n",
              "      <td>5.0</td>\n",
              "      <td>1350086400</td>\n",
              "    </tr>\n",
              "    <tr>\n",
              "      <th>123861</th>\n",
              "      <td>A100UD67AHFODS</td>\n",
              "      <td>B00005T3X7</td>\n",
              "      <td>5.0</td>\n",
              "      <td>1354665600</td>\n",
              "    </tr>\n",
              "    <tr>\n",
              "      <th>165910</th>\n",
              "      <td>A100UD67AHFODS</td>\n",
              "      <td>B000069EUW</td>\n",
              "      <td>5.0</td>\n",
              "      <td>1351814400</td>\n",
              "    </tr>\n",
              "    <tr>\n",
              "      <th>166702</th>\n",
              "      <td>A100UD67AHFODS</td>\n",
              "      <td>B000069JWX</td>\n",
              "      <td>1.0</td>\n",
              "      <td>1070841600</td>\n",
              "    </tr>\n",
              "    <tr>\n",
              "      <th>322741</th>\n",
              "      <td>A100UD67AHFODS</td>\n",
              "      <td>B0000AR0I4</td>\n",
              "      <td>5.0</td>\n",
              "      <td>1353369600</td>\n",
              "    </tr>\n",
              "    <tr>\n",
              "      <th>...</th>\n",
              "      <td>...</td>\n",
              "      <td>...</td>\n",
              "      <td>...</td>\n",
              "      <td>...</td>\n",
              "    </tr>\n",
              "    <tr>\n",
              "      <th>7173279</th>\n",
              "      <td>A100UD67AHFODS</td>\n",
              "      <td>B00BUACE8K</td>\n",
              "      <td>5.0</td>\n",
              "      <td>1380758400</td>\n",
              "    </tr>\n",
              "    <tr>\n",
              "      <th>7565606</th>\n",
              "      <td>A100UD67AHFODS</td>\n",
              "      <td>B00ETH7ERM</td>\n",
              "      <td>4.0</td>\n",
              "      <td>1385942400</td>\n",
              "    </tr>\n",
              "    <tr>\n",
              "      <th>7585855</th>\n",
              "      <td>A100UD67AHFODS</td>\n",
              "      <td>B00F0DD0I6</td>\n",
              "      <td>5.0</td>\n",
              "      <td>1381622400</td>\n",
              "    </tr>\n",
              "    <tr>\n",
              "      <th>7638959</th>\n",
              "      <td>A100UD67AHFODS</td>\n",
              "      <td>B00FISD9DO</td>\n",
              "      <td>4.0</td>\n",
              "      <td>1388361600</td>\n",
              "    </tr>\n",
              "    <tr>\n",
              "      <th>7752270</th>\n",
              "      <td>A100UD67AHFODS</td>\n",
              "      <td>B00HHRP11C</td>\n",
              "      <td>5.0</td>\n",
              "      <td>1399248000</td>\n",
              "    </tr>\n",
              "  </tbody>\n",
              "</table>\n",
              "<p>116 rows × 4 columns</p>\n",
              "</div>\n",
              "      <button class=\"colab-df-convert\" onclick=\"convertToInteractive('df-1308fd76-1100-4249-b160-edb6b229bc89')\"\n",
              "              title=\"Convert this dataframe to an interactive table.\"\n",
              "              style=\"display:none;\">\n",
              "        \n",
              "  <svg xmlns=\"http://www.w3.org/2000/svg\" height=\"24px\"viewBox=\"0 0 24 24\"\n",
              "       width=\"24px\">\n",
              "    <path d=\"M0 0h24v24H0V0z\" fill=\"none\"/>\n",
              "    <path d=\"M18.56 5.44l.94 2.06.94-2.06 2.06-.94-2.06-.94-.94-2.06-.94 2.06-2.06.94zm-11 1L8.5 8.5l.94-2.06 2.06-.94-2.06-.94L8.5 2.5l-.94 2.06-2.06.94zm10 10l.94 2.06.94-2.06 2.06-.94-2.06-.94-.94-2.06-.94 2.06-2.06.94z\"/><path d=\"M17.41 7.96l-1.37-1.37c-.4-.4-.92-.59-1.43-.59-.52 0-1.04.2-1.43.59L10.3 9.45l-7.72 7.72c-.78.78-.78 2.05 0 2.83L4 21.41c.39.39.9.59 1.41.59.51 0 1.02-.2 1.41-.59l7.78-7.78 2.81-2.81c.8-.78.8-2.07 0-2.86zM5.41 20L4 18.59l7.72-7.72 1.47 1.35L5.41 20z\"/>\n",
              "  </svg>\n",
              "      </button>\n",
              "      \n",
              "  <style>\n",
              "    .colab-df-container {\n",
              "      display:flex;\n",
              "      flex-wrap:wrap;\n",
              "      gap: 12px;\n",
              "    }\n",
              "\n",
              "    .colab-df-convert {\n",
              "      background-color: #E8F0FE;\n",
              "      border: none;\n",
              "      border-radius: 50%;\n",
              "      cursor: pointer;\n",
              "      display: none;\n",
              "      fill: #1967D2;\n",
              "      height: 32px;\n",
              "      padding: 0 0 0 0;\n",
              "      width: 32px;\n",
              "    }\n",
              "\n",
              "    .colab-df-convert:hover {\n",
              "      background-color: #E2EBFA;\n",
              "      box-shadow: 0px 1px 2px rgba(60, 64, 67, 0.3), 0px 1px 3px 1px rgba(60, 64, 67, 0.15);\n",
              "      fill: #174EA6;\n",
              "    }\n",
              "\n",
              "    [theme=dark] .colab-df-convert {\n",
              "      background-color: #3B4455;\n",
              "      fill: #D2E3FC;\n",
              "    }\n",
              "\n",
              "    [theme=dark] .colab-df-convert:hover {\n",
              "      background-color: #434B5C;\n",
              "      box-shadow: 0px 1px 3px 1px rgba(0, 0, 0, 0.15);\n",
              "      filter: drop-shadow(0px 1px 2px rgba(0, 0, 0, 0.3));\n",
              "      fill: #FFFFFF;\n",
              "    }\n",
              "  </style>\n",
              "\n",
              "      <script>\n",
              "        const buttonEl =\n",
              "          document.querySelector('#df-1308fd76-1100-4249-b160-edb6b229bc89 button.colab-df-convert');\n",
              "        buttonEl.style.display =\n",
              "          google.colab.kernel.accessAllowed ? 'block' : 'none';\n",
              "\n",
              "        async function convertToInteractive(key) {\n",
              "          const element = document.querySelector('#df-1308fd76-1100-4249-b160-edb6b229bc89');\n",
              "          const dataTable =\n",
              "            await google.colab.kernel.invokeFunction('convertToInteractive',\n",
              "                                                     [key], {});\n",
              "          if (!dataTable) return;\n",
              "\n",
              "          const docLinkHtml = 'Like what you see? Visit the ' +\n",
              "            '<a target=\"_blank\" href=https://colab.research.google.com/notebooks/data_table.ipynb>data table notebook</a>'\n",
              "            + ' to learn more about interactive tables.';\n",
              "          element.innerHTML = '';\n",
              "          dataTable['output_type'] = 'display_data';\n",
              "          await google.colab.output.renderOutput(dataTable, element);\n",
              "          const docLink = document.createElement('div');\n",
              "          docLink.innerHTML = docLinkHtml;\n",
              "          element.appendChild(docLink);\n",
              "        }\n",
              "      </script>\n",
              "    </div>\n",
              "  </div>\n",
              "  "
            ]
          },
          "metadata": {},
          "execution_count": 54
        }
      ]
    },
    {
      "cell_type": "code",
      "source": [
        "#We look at the products in our Test Matrix\n",
        "m1 = (test_df.index == current_user)\n",
        "m2 = (test_df[m1] != 0).all()\n",
        "a = test_df.loc[m1,m2]\n",
        "print(a)"
      ],
      "metadata": {
        "colab": {
          "base_uri": "https://localhost:8080/"
        },
        "id": "Fn9bNxRvfvm9",
        "outputId": "450b31a0-56cd-41bf-fade-a12e2e7f468e"
      },
      "id": "Fn9bNxRvfvm9",
      "execution_count": 55,
      "outputs": [
        {
          "output_type": "stream",
          "name": "stdout",
          "text": [
            "productId       B000J0072M  B000Q8UAWY  B00108UNEY  B0088PU86K  B00A83I8G2\n",
            "userId                                                                    \n",
            "A100UD67AHFODS         3.0         5.0         5.0         5.0         5.0\n"
          ]
        }
      ]
    },
    {
      "cell_type": "markdown",
      "source": [
        "We give an estimated score using users who are similar to products in our test matrix. The function below works in the same logic as the function we defined above and then used to score the estimate on the data in the train. The only difference between the two is that we use the test data as data here and we try to score the products in the test data, so we choose the products that have already received points."
      ],
      "metadata": {
        "id": "74-qrcO6f8xG"
      },
      "id": "74-qrcO6f8xG"
    },
    {
      "cell_type": "code",
      "source": [
        "def recommend_item2(user_index, similar_user_indices, matrix, items=5):\n",
        "    \n",
        "    similar_users = matrix[matrix.index.isin(similar_user_indices)]\n",
        "    \n",
        "\n",
        "    similar_users = similar_users.mean(axis=0)\n",
        "    similar_users_df = pd.DataFrame(similar_users, columns=['mean'])\n",
        "    \n",
        "    \n",
        "    user_df = matrix[matrix.index == user_index]\n",
        "    user_df_transposed = user_df.transpose()\n",
        "\n",
        "    user_df_transposed.columns = ['rating']\n",
        "    #we choose the product that the user we selected has previously rated. \n",
        "    user_df_transposed = user_df_transposed[user_df_transposed['rating']!=0]\n",
        "\n",
        "    not_purchased_prod = user_df_transposed.index.tolist()\n",
        "    \n",
        "    similar_users_df_filtered = similar_users_df[similar_users_df.index.isin(not_purchased_prod)]\n",
        "    similar_users_df_ordered = similar_users_df.sort_values(by=['mean'], ascending=False)\n",
        "\n",
        "    top_n_product = similar_users_df_ordered.head(items)\n",
        "    top_n_product_indices = top_n_product.index.tolist()\n",
        "    \n",
        "    product_information = df1[df1['productId'].isin(top_n_product_indices)]\n",
        "    \n",
        "    print(product_information.groupby('productId').mean())\n",
        "    \n",
        "    test_filtered_df = test_df[test_df.index.isin(not_purchased_prod)]\n",
        "    similar_users_df_ordered = similar_users_df.sort_values(by=['mean'], ascending=False)\n",
        "\n",
        "    return top_n_product_indices "
      ],
      "metadata": {
        "id": "TnIfveW3f3xo"
      },
      "id": "TnIfveW3f3xo",
      "execution_count": 57,
      "outputs": []
    },
    {
      "cell_type": "code",
      "source": [
        "# we select the products rated by the user we selected in the test matrix\n",
        "m1 = (test_df.index == current_user)\n",
        "m2 = (test_df[m1] != 0).all()\n",
        "a = test_df.loc[m1,m2]"
      ],
      "metadata": {
        "id": "yUAJgBBogRee"
      },
      "id": "yUAJgBBogRee",
      "execution_count": 58,
      "outputs": []
    },
    {
      "cell_type": "code",
      "source": [
        "#Scores from the recommend_item2 function\n",
        "results2 = recommend_item2(current_user, similar_user_indices, a)"
      ],
      "metadata": {
        "colab": {
          "base_uri": "https://localhost:8080/"
        },
        "id": "j-qMY-BkgWgp",
        "outputId": "2f9a0625-fe02-4b5e-95d2-1e366940e2d7"
      },
      "id": "j-qMY-BkgWgp",
      "execution_count": 59,
      "outputs": [
        {
          "output_type": "stream",
          "name": "stdout",
          "text": [
            "              rating     timestamp\n",
            "productId                         \n",
            "B000J0072M  3.400000  1.312338e+09\n",
            "B000Q8UAWY  4.360728  1.338302e+09\n",
            "B00108UNEY  4.792208  1.360000e+09\n",
            "B0088PU86K  3.915663  1.365905e+09\n",
            "B00A83I8G2  4.546539  1.381756e+09\n"
          ]
        }
      ]
    }
  ],
  "metadata": {
    "kernelspec": {
      "display_name": "Python 3",
      "language": "python",
      "name": "python3"
    },
    "language_info": {
      "codemirror_mode": {
        "name": "ipython",
        "version": 3
      },
      "file_extension": ".py",
      "mimetype": "text/x-python",
      "name": "python",
      "nbconvert_exporter": "python",
      "pygments_lexer": "ipython3",
      "version": "3.7.10"
    },
    "papermill": {
      "default_parameters": {},
      "duration": 43.26368,
      "end_time": "2021-11-30T00:10:12.786498",
      "environment_variables": {},
      "exception": null,
      "input_path": "__notebook__.ipynb",
      "output_path": "__notebook__.ipynb",
      "parameters": {},
      "start_time": "2021-11-30T00:09:29.522818",
      "version": "2.3.3"
    },
    "colab": {
      "provenance": [],
      "collapsed_sections": []
    }
  },
  "nbformat": 4,
  "nbformat_minor": 5
}